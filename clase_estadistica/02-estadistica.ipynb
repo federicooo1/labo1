{
 "cells": [
  {
   "cell_type": "markdown",
   "metadata": {},
   "source": [
    "# 3. Estadística: resumiendo un histograma"
   ]
  },
  {
   "cell_type": "code",
   "execution_count": null,
   "metadata": {},
   "outputs": [],
   "source": [
    "import ipywidgets\n",
    "import pandas as pd\n",
    "import numpy as np\n",
    "import matplotlib.pyplot as plt"
   ]
  },
  {
   "cell_type": "code",
   "execution_count": null,
   "metadata": {},
   "outputs": [],
   "source": [
    "plt.rc(\"figure\", dpi=100)"
   ]
  },
  {
   "cell_type": "markdown",
   "metadata": {},
   "source": [
    "## Motivación"
   ]
  },
  {
   "cell_type": "markdown",
   "metadata": {},
   "source": [
    "Para ver un histograma más \"lindo\", necesitamos muchas más mediciones.\n",
    "\n",
    "Podemos generar datos de (una particular) manera aleatoria en Python:"
   ]
  },
  {
   "cell_type": "code",
   "execution_count": null,
   "metadata": {},
   "outputs": [],
   "source": [
    "datos = np.random.normal(2, 0.05, size=10_000)\n",
    "\n",
    "datos[:5]  # Muestro los 5 primeros"
   ]
  },
  {
   "cell_type": "markdown",
   "metadata": {},
   "source": [
    "Podríamos redondear los números a dos cifras, para que sea más parecido a las mediciones del cronómetro:"
   ]
  },
  {
   "cell_type": "code",
   "execution_count": null,
   "metadata": {},
   "outputs": [],
   "source": [
    "# datos = datos.round(2)\n",
    "\n",
    "datos[:5]"
   ]
  },
  {
   "cell_type": "markdown",
   "metadata": {},
   "source": [
    "Hagamos un histograma de los datos:"
   ]
  },
  {
   "cell_type": "code",
   "execution_count": null,
   "metadata": {},
   "outputs": [],
   "source": [
    "@ipywidgets.interact(bins=ipywidgets.FloatLogSlider(min=0, max=np.log10(datos.size), readout_format=\".0f\"))\n",
    "def _(bins):\n",
    "    plt.hist(datos, bins=int(bins), histtype=\"step\")"
   ]
  },
  {
   "cell_type": "markdown",
   "metadata": {},
   "source": [
    "Si tuviesen que resumir este histograma en pocas palabras (o números), ¿qué dirían?"
   ]
  },
  {
   "cell_type": "markdown",
   "metadata": {},
   "source": [
    "Podemos resumirlo en, al menos, 2 números:\n",
    "\n",
    "1. el **centro**\n",
    "2. el **ancho**"
   ]
  },
  {
   "cell_type": "markdown",
   "metadata": {},
   "source": [
    "Pero, también es importante:\n",
    "\n",
    "3. la **forma**\n",
    "\n",
    "Comparemos con datos generados a partir de otra distribución, es decir, cuyo histograma tenga otra forma:"
   ]
  },
  {
   "cell_type": "code",
   "execution_count": null,
   "metadata": {},
   "outputs": [],
   "source": [
    "otros_datos = np.random.uniform(*np.percentile(datos, (3, 97)), size=datos.size)"
   ]
  },
  {
   "cell_type": "markdown",
   "metadata": {},
   "source": [
    "Si comparamos los números a ojo:"
   ]
  },
  {
   "cell_type": "code",
   "execution_count": null,
   "metadata": {},
   "outputs": [],
   "source": [
    "datos[:5], otros_datos[:5]"
   ]
  },
  {
   "cell_type": "markdown",
   "metadata": {},
   "source": [
    "sería muy dificil poder diferenciarlos.\n",
    "\n",
    "Con un gráfico de puntos, no parecen tan diferentes:"
   ]
  },
  {
   "cell_type": "code",
   "execution_count": null,
   "metadata": {},
   "outputs": [],
   "source": [
    "fig, ax = plt.subplots(1, 2, sharey=True, figsize=(8, 3))\n",
    "ax[0].plot(datos[:1000], \".\")\n",
    "ax[1].plot(otros_datos[:1000], \".\")"
   ]
  },
  {
   "cell_type": "markdown",
   "metadata": {},
   "source": [
    "aunque se empiezan a ver unas diferencias.\n",
    "\n",
    "Pero, si hacemos un histograma:"
   ]
  },
  {
   "cell_type": "code",
   "execution_count": null,
   "metadata": {},
   "outputs": [],
   "source": [
    "@ipywidgets.interact(bins=ipywidgets.FloatLogSlider(min=0, max=np.log10(datos.size), readout_format=\".0f\"))\n",
    "def _(bins):\n",
    "    for d in (datos, otros_datos):\n",
    "        plt.hist(d, bins=int(bins), histtype=\"step\", density=True)"
   ]
  },
  {
   "cell_type": "markdown",
   "metadata": {},
   "source": [
    "No tiene tanto sentido hablar de un valor central para el histograma naranja, ¿no?"
   ]
  },
  {
   "cell_type": "markdown",
   "metadata": {},
   "source": [
    "**Extra**:\n",
    "\n",
    "- La distribución naranja se llama **distribución uniforme**.\n",
    "\n",
    "Es el análogo continuo a tirar un dado: todos los números son igual de probables.\n",
    "\n",
    "- La distribución azul se llama **distribución normal o gaussiana**.\n",
    "\n",
    "En general, las mediciones que hagamos en este laboratorio van a tener una distribución con forma de campana, como la azul.\n",
    "\n",
    "Después veremos por que es razonable esperar esto, y de donde sale la gaussiana."
   ]
  },
  {
   "cell_type": "markdown",
   "metadata": {},
   "source": [
    "## Medidas de centralidad y dispersión\n",
    "\n",
    "Para elegir un valor para el centro y el ancho, hay diferentes medidas de [centralidad](https://en.wikipedia.org/wiki/Central_tendency#Measures) y de [dispersión](https://en.wikipedia.org/wiki/Statistical_dispersion#Measures), respectivamente.\n",
    "\n",
    "Cada una tiene distintos criterios y propiedades."
   ]
  },
  {
   "cell_type": "markdown",
   "metadata": {},
   "source": [
    "### Medidas de centralidad\n",
    "\n",
    "Dentro de las medidas de centralidad, las más conocidas son soluciones a la pregunta:\n",
    "\n",
    "¿cuál es el valor que está \"más cerca\" de todos?"
   ]
  },
  {
   "cell_type": "markdown",
   "metadata": {},
   "source": [
    "Supongamos que tenemos $N$ mediciones $x_i$:\n",
    "\n",
    "$$\\{x_1, x_2, ..., x_N\\}$$\n",
    "\n",
    "y queremos determinar *el centro* $c$."
   ]
  },
  {
   "cell_type": "code",
   "execution_count": null,
   "metadata": {},
   "outputs": [],
   "source": [
    "@ipywidgets.interact(c=(datos.min(), datos.max(), datos.ptp() / 20))\n",
    "def _(c):\n",
    "    fig, axes = plt.subplots(1, 3, sharey=True, figsize=(12, 3))\n",
    "\n",
    "    xs = [\n",
    "        np.arange(30),\n",
    "        datos.size - 1 - np.arange(30),\n",
    "    ]\n",
    "    for ax, x in zip(axes, xs):\n",
    "        y = datos[x]\n",
    "        ax.errorbar(x, y, yerr=(y - c, np.zeros_like(y)), fmt=\"o\")\n",
    "        ax.set(xlabel=\"Número de medición\")\n",
    "\n",
    "    axes[-1].hist(datos, bins=\"sqrt\", histtype=\"step\", orientation=\"horizontal\")\n",
    "    axes[-1].set(xlabel=\"Cantidad de mediciones\")\n",
    "\n",
    "    for ax in axes:\n",
    "        ax.axhline(c, color=\"orange\")\n",
    "\n",
    "    axes[0].set(ylabel=\"Tiempo [s]\")\n"
   ]
  },
  {
   "cell_type": "markdown",
   "metadata": {},
   "source": [
    "¿Cómo elegimos \"el mejor $c$\"?"
   ]
  },
  {
   "cell_type": "markdown",
   "metadata": {},
   "source": [
    "Estos métodos, empiezan calculando la distancia $d_i$ de cada punto $x_i$ al (aún desconocido) centro $c$:\n",
    "\n",
    "$$ d_i = |x_i - c| $$"
   ]
  },
  {
   "cell_type": "markdown",
   "metadata": {},
   "source": [
    "Luego, buscan un $c$ que haga todas las distancias lo más pequeñas posibles."
   ]
  },
  {
   "cell_type": "markdown",
   "metadata": {},
   "source": [
    "#### Opción 1: mediana\n",
    "\n",
    "(*Nota: no es la que vamos a usar en este Laboratorio*)\n",
    "\n",
    "Una opción sería elegir $c$ tal que minimize la suma de las distancias:\n",
    "\n",
    "$$\\begin{align}\n",
    "S(c) &= \\sum_i d_i &&= d_1 + \\ldots + d_N\n",
    "\\\\   &= \\sum_i |x_i - c| &&= |x_1 -c| + \\ldots + |x_N-c|\n",
    "\\end{align}$$\n",
    "\n",
    "Noten que la suma es una función de una única variable, $c$, ya que los $x_i$ son valores fijos dados por nuestras mediciones."
   ]
  },
  {
   "cell_type": "markdown",
   "metadata": {},
   "source": [
    "¿Cómo encontramos el mínimo de una función de una variable?"
   ]
  },
  {
   "cell_type": "markdown",
   "metadata": {},
   "source": [
    "En general, encontramos cuando la derivada es igual a $0$.\n",
    "\n",
    "Pero esta función no es derivable. Igualmente, se puede escribir una \"receta\" para encontrar su mínimo."
   ]
  },
  {
   "cell_type": "markdown",
   "metadata": {},
   "source": [
    "Al $c_{min}$ que hace mínima esta suma se lo conoce como la [mediana](https://en.wikipedia.org/wiki/Median) de los $x_i$.\n",
    "\n",
    "Se puede calcular ordenando de menor a mayor los $x_i$ y eligiendo el del medio.\n",
    "\n",
    "Por ejemplo:\n",
    "\n",
    "$$\\begin{align}\n",
    "&\\text{Mediana}\\Big(\\{1,\\,2.5,\\,4,\\,8,\\,12\\}\\Big) &&= 4\n",
    "\\\\ &\\text{Mediana}\\Big(\\{1,\\,2.5,\\,4,\\,8,\\,12000\\}\\Big) &&= 4\n",
    "\\end{align}$$"
   ]
  },
  {
   "cell_type": "markdown",
   "metadata": {},
   "source": [
    "A diferencia de la siguiente opción, la mediana es *robusta* frente a *outliers* (mediciones atípicas)."
   ]
  },
  {
   "cell_type": "markdown",
   "metadata": {},
   "source": [
    "#### Opción 2: media o promedio\n",
    "\n",
    "En lugar de la suma de las distancias, otra opción es minimizar la suma de los cuadrados de las distancias.\n",
    "\n",
    "Este criterio, que se conoce como [cuadrados mínimos](https://en.wikipedia.org/wiki/Least_squares), es una elección estándar en estadística.\n",
    "\n",
    "$$\\begin{align}\n",
    "S(c) &= \\sum_i d_i^2 &&= d_1^2 + \\ldots + d_N^2\n",
    "\\\\   &= \\sum_i |x_i - c|^2 &&= |x_1 - c|^2 + \\ldots + |x_N - c|^2\n",
    "\\end{align}$$\n",
    "\n",
    "Al igual que antes, $S(c)$ es función de una única variable.\n",
    "\n",
    "En particular, es una parábola en $c$, y es derivable."
   ]
  },
  {
   "cell_type": "markdown",
   "metadata": {},
   "source": [
    "Para encontrar el mínimo de esta función, derivamos e igualamos a 0:\n",
    "\n",
    "$$\\begin{align*}\n",
    "0 = \\frac{dS}{dc} &= \\frac{d}{dc} \\sum_{i=1}^N (x_i - c)^2\n",
    "\\\\&= \\sum_{i=1}^N \\frac{d}{dc} (x_i - c)^2\n",
    "\\\\&= \\sum_{i=1}^N -2 \\, (x_i - c)\n",
    "\\\\&= -2 \\, \\left( \\sum_{i=1}^N x_i - \\sum_{i=1}^N c \\right)\n",
    "\\\\&= -2 \\, \\left( \\sum_{i=1}^N x_i - N c \\right)\n",
    "\\end{align*}$$\n",
    "\n",
    "Despejando $c$, llegamos a:\n",
    "\n",
    "$$ c = \\frac{1}{N} \\sum_i^N x_i $$\n",
    "\n",
    "Es decir, el valor óptimo (en el sentido de cuadrados mínimos) es el promedio de los $x_i$.\n",
    "\n",
    "Generalmente se denota como $\\bar{x}$ o $\\langle x \\rangle$."
   ]
  },
  {
   "cell_type": "markdown",
   "metadata": {},
   "source": [
    "En Python, pueden calcularla con la función `np.mean`:"
   ]
  },
  {
   "cell_type": "code",
   "execution_count": null,
   "metadata": {},
   "outputs": [],
   "source": [
    "np.mean(datos)"
   ]
  },
  {
   "cell_type": "markdown",
   "metadata": {},
   "source": [
    "**Preguntas:**\n",
    "\n",
    "1. ¿este valor debería tener un error?"
   ]
  },
  {
   "cell_type": "markdown",
   "metadata": {},
   "source": [
    "2. ¿el error depende de la cantidad de mediciones que promediamos?"
   ]
  },
  {
   "cell_type": "markdown",
   "metadata": {},
   "source": [
    "### Error del promedio\n",
    "\n",
    "Para motivar que el promedio tiene un error, vamos a gráficar el promedio para subconjuntos de distntos tamaños de las mediciones:"
   ]
  },
  {
   "cell_type": "code",
   "execution_count": null,
   "metadata": {},
   "outputs": [],
   "source": [
    "@ipywidgets.interact(N=ipywidgets.FloatLogSlider(min=1, max=np.log10(3000), readout_format=\".0f\"))\n",
    "def _(N):\n",
    "    N = int(N)\n",
    "    fig, axes = plt.subplots(3, sharex=True, gridspec_kw=dict(hspace=0))\n",
    "    fig.suptitle(f\"{N} datos\")\n",
    "    for i, ax in enumerate(axes):\n",
    "        color = f\"C{i}\"\n",
    "        \n",
    "        desde = 3000 * i\n",
    "        hasta = desde + N\n",
    "        x = datos[desde:hasta]\n",
    "        \n",
    "        ax.hist(x, bins=\"sqrt\", histtype=\"step\", lw=2, color=color, label=f\"{desde}-{hasta}\")\n",
    "        ax.legend(loc=\"upper left\", bbox_to_anchor=(1., 1.))\n",
    "        \n",
    "        # ax.axvline(np.mean(x), linestyle=\"--\", lw=3, color=color)\n",
    "\n",
    "        ax.set(yticks=())\n",
    "    ax.set_xlim(datos.min(), datos.max())"
   ]
  },
  {
   "cell_type": "markdown",
   "metadata": {},
   "source": [
    "Al ir aumentando el número de mediciones, los promedios coinciden cada vez más entre sí.\n",
    "\n",
    "Es razonable persar que un promedio calculado con más mediciones va a tener menos error.\n",
    "\n",
    "¿Cómo lo calculamos?"
   ]
  },
  {
   "cell_type": "markdown",
   "metadata": {},
   "source": [
    "El promedio es:\n",
    "\n",
    "$$ \\bar{x} = \\frac{1}{N} \\sum_i x_i = \\frac{x_1 + \\ldots + x_N}{N} $$\n",
    "\n",
    "que es una cuenta a partir nuestras mediciones $x_i$."
   ]
  },
  {
   "cell_type": "markdown",
   "metadata": {},
   "source": [
    "Es decir, el promedio $\\bar{x}$ es una función de las variables $x_1, \\ldots, x_N$:\n",
    "\n",
    "$$\\bar{x} = \\bar{x}(x_1, \\ldots, x_N)$$"
   ]
  },
  {
   "cell_type": "markdown",
   "metadata": {},
   "source": [
    "Propagando, podemos calcular el error del promedio:\n",
    "\n",
    "$$ \\begin{align*}\n",
    "\\Delta\\bar{x}^2\n",
    "&= \\left(\\frac{\\partial \\bar{x}}{\\partial x_1} \\Delta x_1\\right)^2\n",
    "+ \\ldots\n",
    "+ \\left(\\frac{\\partial \\bar{x}}{\\partial x_N} \\Delta x_N\\right)^2\n",
    "\\\\ \\\\\n",
    "&= \\left(\\frac{1}{N} |x_1 - \\bar{x}|\\right)^2\n",
    "+ \\ldots\n",
    "+ \\left(\\frac{1}{N} |x_N - \\bar{x}|\\right)^2\n",
    "\\\\ \\\\\n",
    "&= \\frac{1}{N^2} \\Big[(x_1 - \\bar{x})^2\n",
    "+ \\ldots\n",
    "+ (x_N - \\bar{x})^2\\Big]\n",
    "\\end{align*} $$"
   ]
  },
  {
   "cell_type": "markdown",
   "metadata": {},
   "source": [
    "Si pasamos la raíz:\n",
    "\n",
    "$$\n",
    "\\Delta\\bar{x}\n",
    "= \\frac{1}{N} \\sqrt{(x_1 - \\bar{x})^2\n",
    "+ \\ldots\n",
    "+ (x_N - \\bar{x})^2}\n",
    "$$\n",
    "\n",
    "(más adelante, simplificaremos aún más esta formula)"
   ]
  },
  {
   "cell_type": "markdown",
   "metadata": {},
   "source": [
    "**Pregunta:** ¿Este valor disminuye con la cantidad de mediciones $N$? ¿De qué manera?"
   ]
  },
  {
   "cell_type": "markdown",
   "metadata": {},
   "source": [
    "#### Mediciones independientes\n",
    "\n",
    "No lo mencionamos antes, pero la fórmula de propagación asume que las mediciones son independientes.\n",
    "\n",
    "Si no lo fueran, hay que agregar unos términos extra a la fórmula de propagación (que no vamos a ver)."
   ]
  },
  {
   "cell_type": "markdown",
   "metadata": {},
   "source": [
    "- ¿Qué serían mediciones independientes?\n",
    "\n",
    "Por ejemplo, las mediciones que hicimos del periodo entre chasquidos: el error que tuvieron, no depende de lo que midió el resto."
   ]
  },
  {
   "cell_type": "markdown",
   "metadata": {},
   "source": [
    "- ¿Cómo serían mediciones no independientes?\n",
    "\n",
    "Por ejemplo, dos periodos consecutivos entre chasquidos."
   ]
  },
  {
   "cell_type": "code",
   "execution_count": null,
   "metadata": {},
   "outputs": [],
   "source": [
    "@ipywidgets.interact(m=(0.7, 1.3, 0.02))\n",
    "def _(m=1):\n",
    "    plt.figure(figsize=(6, 2))\n",
    "    x = np.array([0, m, 2])\n",
    "    plt.errorbar(np.arange(3), np.ones(3), yerr=0.4, capsize=10, label=\"Real\")\n",
    "    plt.errorbar(x, np.zeros(3), yerr=0.4, capsize=10, label=\"Medición\")\n",
    "\n",
    "    plt.text(0.1, 0.1, f\"$\\\\tau_1$ = {m:.2f}\")\n",
    "    plt.text(1.6, 0.1, f\"$\\\\tau_2$ = {2-m:.2f}\")\n",
    "\n",
    "    plt.xticks(\n",
    "        [0, 1, 2, 0.0001, m+0.0001, 2.0001],\n",
    "        [0, 1, 2, *[f\"\\n$t_{i}$\" for i in (0, 1, 2)]]\n",
    "    )\n",
    "    plt.yticks([])\n",
    "    plt.xlabel(\"Tiempo [s]\")\n",
    "    plt.legend(bbox_to_anchor=(1, 1))"
   ]
  },
  {
   "cell_type": "markdown",
   "metadata": {},
   "source": [
    "El primer periodo $\\tau_1$ es:\n",
    "\n",
    "$$ \\tau_1 = t_1 - t_0 $$\n",
    "\n",
    "donde $t_0$ y $t_1$ es lo que marcaba el reloj al medir.\n",
    "\n",
    "El segundo periodo $\\tau_2$ es:\n",
    "\n",
    "$$ \\tau_2 = t_2 - t_1 $$\n",
    "\n",
    "Tanto $\\tau_1$ como $\\tau_2$ usan la misma medición $t_1$. ¡No son independientes!"
   ]
  },
  {
   "cell_type": "markdown",
   "metadata": {},
   "source": [
    "### Checkpoint\n",
    "\n",
    "Recapitulemos, por si se perdieron en la matemática:\n",
    "\n",
    "- Medimos (o simulamos medir)\n",
    "- Visualizamos\n",
    "    - El histograma tiene forma de campana.\n",
    "- Resumimos con un intervalo\n",
    "    - Calculamos un centro: el promedio $\\bar{x}$ y su error $\\Delta \\bar{x}$\n",
    "    - Nos falta calcular un ancho"
   ]
  },
  {
   "cell_type": "markdown",
   "metadata": {},
   "source": [
    "### Medidas de dispersión\n",
    "\n",
    "Las medidas de dispersión cuantifican que tanto se apartan las mediciones entre sí, o de su centro."
   ]
  },
  {
   "cell_type": "code",
   "execution_count": null,
   "metadata": {},
   "outputs": [],
   "source": [
    "@ipywidgets.interact(c=(datos.min(), datos.max(), datos.ptp() / 20))\n",
    "def _(c):\n",
    "    fig, axes = plt.subplots(1, 3, sharey=True, figsize=(12, 3))\n",
    "\n",
    "    xs = [\n",
    "        np.arange(30),\n",
    "        datos.size - 1 - np.arange(30),\n",
    "    ]\n",
    "    for ax, x in zip(axes, xs):\n",
    "        y = datos[x]\n",
    "        ax.errorbar(x, y, yerr=(y - c, np.zeros_like(y)), fmt=\"o\")\n",
    "        ax.set(xlabel=\"Número de medición\")\n",
    "\n",
    "    axes[-1].hist(datos, bins=\"sqrt\", histtype=\"step\", orientation=\"horizontal\")\n",
    "    axes[-1].set(xlabel=\"Cantidad de mediciones\")\n",
    "\n",
    "    for ax in axes:\n",
    "        ax.axhline(c, color=\"orange\")\n",
    "\n",
    "    axes[0].set(ylabel=\"Tiempo [s]\")\n"
   ]
  },
  {
   "cell_type": "markdown",
   "metadata": {},
   "source": [
    "#### Desviación estándar\n",
    "\n",
    "La medida que es \"consistente\" con el promedio se conoce como la *desviación estándar* $s$."
   ]
  },
  {
   "cell_type": "markdown",
   "metadata": {},
   "source": [
    "La idea es hacer un promedio de las distancias $d_i$ de cada medición $x_i$ al promedio $\\bar{x}$:\n",
    "\n",
    "$$ d_i = |x_i - \\bar{x}| $$"
   ]
  },
  {
   "cell_type": "markdown",
   "metadata": {},
   "source": [
    "Pero, para ser \"consistentes\" con la forma de medir distancias del promedio, consideramos la distancias al cuadrado:\n",
    "\n",
    "$$ d_i^2 = (x_i - \\bar{x})^2 $$"
   ]
  },
  {
   "cell_type": "markdown",
   "metadata": {},
   "source": [
    "Hacemos un promedio de esas distancias:\n",
    "\n",
    "$$ \\frac{1}{N} \\sum_i^N (x_i - \\bar{x})^2 $$"
   ]
  },
  {
   "cell_type": "markdown",
   "metadata": {},
   "source": [
    "Pero si $x_i$ tiene ciertas unidades, por ejemplo, metros, eso tendría unidades de metros al cuadrado.\n",
    "\n",
    "Entonces, tomamos la raíz de ese promedio:"
   ]
  },
  {
   "cell_type": "markdown",
   "metadata": {},
   "source": [
    "$$ s = \\sqrt{\\frac{1}{N} \\sum_i^N (x_i - \\bar{x})^2} $$\n",
    "\n",
    "*Nota: tambíen la pueden ver definida con $N-1$ en lugar de $N$, ver [la corrección de Bessel](https://en.wikipedia.org/wiki/Bessel's_correction).*"
   ]
  },
  {
   "cell_type": "markdown",
   "metadata": {},
   "source": [
    "En Python, pueden calcularla con la función `np.std` (del inglés, *standard deviation*):"
   ]
  },
  {
   "cell_type": "code",
   "execution_count": null,
   "metadata": {},
   "outputs": [],
   "source": [
    "np.std(datos)"
   ]
  },
  {
   "cell_type": "markdown",
   "metadata": {},
   "source": [
    "#### Opción mala: máximo - mínimo\n",
    "\n",
    "En general, es una malísima opción para el tipo de mediciones que vamos a hacer en el laboratorio.\n",
    "\n",
    "Veamos que pasa al calcular el máximo y el mínimo en función de la cantidad de datos que tomamos."
   ]
  },
  {
   "cell_type": "code",
   "execution_count": null,
   "metadata": {},
   "outputs": [],
   "source": [
    "N = np.geomspace(1, datos.size, 100, dtype=int)\n",
    "\n",
    "fig, ax = plt.subplots(1, 2, sharey=True, figsize=(8, 3))\n",
    "\n",
    "ax[0].plot(datos[:100], \"o\")\n",
    "ax[0].set(xlabel=\"Número de medición\", ylabel=\"Tiempo [s]\")\n",
    "\n",
    "ax[1].plot(N, [np.max(datos[:n]) for n in N], label=\"Maximo\")\n",
    "ax[1].plot(N, [np.min(datos[:n]) for n in N], label=\"Minimo\")\n",
    "ax[1].set(xscale=\"log\", xlabel=\"Cantidad de mediciones\")\n",
    "ax[1].legend()\n",
    "for a in ax:\n",
    "    a.grid()\n",
    "\n",
    "fig, ax = plt.subplots(1, 2, figsize=(8, 3))\n",
    "ax[0].hist(datos, bins=\"sqrt\")\n",
    "ax[0].set(xlabel=\"Tiempo [s]\")\n",
    "ax[1].plot(N, [np.ptp(datos[:n]) for n in N], label=\"Maximo-Minimo\")\n",
    "ax[1].plot(N, [np.std(datos[:n]) for n in N], label=\"Desv. est.\")\n",
    "ax[1].set(xscale=\"log\", xlabel=\"Cantidad de mediciones\", ylabel=\"Ancho [s]\")\n",
    "ax[1].legend()\n",
    "ax[1].grid()"
   ]
  },
  {
   "cell_type": "markdown",
   "metadata": {},
   "source": [
    "Las mediciones que están más alejadas del centro, tienen menor probabilidad de salir.\n",
    "\n",
    "Las chances de que tengamos una dentro de nuestras mediciones, depende de cuantasm mediciones hayamos hecho.\n",
    "\n",
    "- Con \"máximo-mínimo\", solo estamos considerando estos extremos para calcular el ancho.\n",
    "\n",
    "Por lo tanto, depende de la cantidad de mediciones.\n",
    "\n",
    "- Con la desviación estándar, estamos considerando todas las mediciones para calcular el ancho.\n",
    "\n",
    "Por lo tanto, no es tan sensible a la cantidad de mediciones."
   ]
  },
  {
   "cell_type": "markdown",
   "metadata": {},
   "source": [
    "#### Error del promedio: parte 2\n",
    "\n",
    "Antes, habiamos llegado a esta fórmula para el error del promedio:\n",
    "\n",
    "$$\n",
    "\\Delta\\bar{x}\n",
    "= \\frac{1}{N} \\sqrt{(x_1 - \\bar{x})^2\n",
    "+ \\ldots\n",
    "+ (x_N - \\bar{x})^2}\n",
    "$$\n",
    "\n",
    "Pero se puede escribir más fácilmente en términos de la desviación estándar:\n",
    "\n",
    "$$ \\Delta \\bar{x} = \\frac{s}{\\sqrt{N}} $$\n",
    "\n",
    "que es como lo verán en todos lados."
   ]
  },
  {
   "cell_type": "markdown",
   "metadata": {},
   "source": [
    "En Python, no hay una función que lo calcule directamente, pero podemos calcularlo así:"
   ]
  },
  {
   "cell_type": "code",
   "execution_count": null,
   "metadata": {},
   "outputs": [],
   "source": [
    "np.std(datos) / np.size(datos)**0.5"
   ]
  },
  {
   "cell_type": "markdown",
   "metadata": {},
   "source": [
    "Al final, $\\Delta \\bar{x}$ no decrece como $N$, sino como $\\sqrt N$ (porque $s$ \"no depende\" de $N$).\n",
    "\n",
    "Entonces, tomando $100$ veces más mediciones, $\\Delta \\bar{x}$ se reduce un factor $\\sqrt{100}=10$ (es decir, ganamos un decimal)."
   ]
  },
  {
   "cell_type": "markdown",
   "metadata": {},
   "source": [
    "## Interpretación estadística\n",
    "\n",
    "Recapitulemos:\n",
    "\n",
    "- Medimos\n",
    "- Visualizamos -> Histograma con forma de campana\n",
    "- Resumimos -> Intervalo\n",
    "\n",
    "En particular, calculamos dos intervalos alrededor del promedio $\\bar{x}$:\n",
    "\n",
    "1. Con su error $\\Delta \\bar{x} \\rightarrow \\bar{x} \\pm \\Delta \\bar{x}$\n",
    "2. Con la desviación estándar $\\sigma \\rightarrow \\bar{x} \\pm s$\n",
    "\n",
    "Pero, ¿qué representan cada uno?"
   ]
  },
  {
   "cell_type": "code",
   "execution_count": null,
   "metadata": {},
   "outputs": [],
   "source": [
    "promedio = np.mean(datos)\n",
    "desv_est = np.std(datos)\n",
    "error_promedio = desv_est / np.size(datos)**0.5\n",
    "\n",
    "fig, axes = plt.subplots(1, 2, sharey=True, figsize=(8, 2))\n",
    "\n",
    "for ax in axes:\n",
    "    ax.hist(datos, bins=\"sqrt\", histtype=\"step\", color=\"black\")\n",
    "    ax.axvline(promedio, label=r\"$\\bar{x}$\", lw=3)\n",
    "    ax.axvspan(promedio - desv_est, promedio + desv_est, label=r\"$\\bar{x} \\pm s$\", alpha=0.5, color=\"C2\")\n",
    "    ax.axvspan(promedio - error_promedio, promedio + error_promedio, label=r\"$\\bar{x} \\pm \\Delta \\bar{x}$\", alpha=1, color=\"C1\")\n",
    "\n",
    "axes[0].legend()\n",
    "axes[1].set(xlim=(promedio - 5 * error_promedio, promedio + 5 * error_promedio))"
   ]
  },
  {
   "cell_type": "markdown",
   "metadata": {},
   "source": [
    "El intervalo dado por el error del promedio, $\\Delta \\bar{x}$, donde\n",
    "\n",
    "$$ \\Delta \\bar{x} = \\frac{s}{\\sqrt N} $$\n",
    "\n",
    "nos dice que tan bien conocemos donde está el centro de nuestras mediciones."
   ]
  },
  {
   "cell_type": "markdown",
   "metadata": {},
   "source": [
    "En cambio, el intervalo dado por la desviación estándar $s$,\n",
    "\n",
    "nos permite describir **un** rango donde caen gran parte de las mediciones:\n",
    "\n",
    "$$ \\bar{x} \\pm s $$"
   ]
  },
  {
   "cell_type": "markdown",
   "metadata": {},
   "source": [
    "1. ¿Por qué usamos este intervalo que no cubre todas las mediciones?"
   ]
  },
  {
   "cell_type": "markdown",
   "metadata": {},
   "source": [
    "Este rango no depende (tanto) de la cantidad de mediciones:\n",
    "\n",
    "a partir de $N \\sim 10$, parece no variar mucho."
   ]
  },
  {
   "cell_type": "markdown",
   "metadata": {},
   "source": [
    "2. ¿Cuántas mediciones caen en ese intervalo?"
   ]
  },
  {
   "cell_type": "markdown",
   "metadata": {},
   "source": [
    "Para calcularlo con NumPy, veamos un ejemplo más simple:"
   ]
  },
  {
   "cell_type": "code",
   "execution_count": null,
   "metadata": {},
   "outputs": [],
   "source": [
    "x = np.array([1, 2, 10, 11])\n",
    "\n",
    "x < 5"
   ]
  },
  {
   "cell_type": "markdown",
   "metadata": {},
   "source": [
    "Cuando hacemos una comparación, nos devuelve `True` o `False` para cada elemento.\n",
    "\n",
    "Podemos usar ese resultado para seleccionar los elementos donde se cumple la condición:"
   ]
  },
  {
   "cell_type": "code",
   "execution_count": null,
   "metadata": {},
   "outputs": [],
   "source": [
    "x[x < 5]"
   ]
  },
  {
   "cell_type": "markdown",
   "metadata": {},
   "source": [
    "y después ver cuantos elementos quedaron.\n",
    "\n",
    "O sumarlo, ya que interpreta `True=1` y `False=0`:"
   ]
  },
  {
   "cell_type": "code",
   "execution_count": null,
   "metadata": {},
   "outputs": [],
   "source": [
    "np.sum(x < 5)"
   ]
  },
  {
   "cell_type": "markdown",
   "metadata": {},
   "source": [
    "Volviendo a la pregunta, ¿cuántas mediciones caen en el intervalo $\\bar{x} \\pm s$?\n",
    "\n",
    "Es lo mismo que preguntar para cuantos $x_i$ se cumple $|x_i - \\bar{x}| < s$:"
   ]
  },
  {
   "cell_type": "code",
   "execution_count": null,
   "metadata": {},
   "outputs": [],
   "source": [
    "cond = np.abs(datos - np.mean(datos)) < np.std(datos)\n",
    "\n",
    "np.sum(cond)"
   ]
  },
  {
   "cell_type": "markdown",
   "metadata": {},
   "source": [
    "¿Y a que proporción de los datos corresponde?"
   ]
  },
  {
   "cell_type": "code",
   "execution_count": null,
   "metadata": {},
   "outputs": [],
   "source": [
    "np.sum(cond) / np.size(datos)"
   ]
  },
  {
   "cell_type": "markdown",
   "metadata": {},
   "source": [
    "Es decir, aproximadamente el 68%, o 2/3 de las mediciones."
   ]
  },
  {
   "cell_type": "markdown",
   "metadata": {},
   "source": [
    "3. Si hicieramos otra medición, ¿dónde caería?"
   ]
  },
  {
   "cell_type": "markdown",
   "metadata": {},
   "source": [
    "No podemos dar un intervalo con total seguridad, pero, probablemente, en $\\bar{x} \\pm s$.\n",
    "\n",
    "Con un 68% de probabilidad*.\n",
    "\n",
    "*no siempre es 68%, después veremos de donde sale este número y cuando tiene sentido usarlo."
   ]
  },
  {
   "cell_type": "markdown",
   "metadata": {},
   "source": [
    "Entonces, podríamos decir que **$s$ es la precisión que se tiene al hacer una medición**, ¿no?\n",
    "\n",
    "Recordemos la formula para la desviación estándar $s$,\n",
    "\n",
    "$$ s = \\sqrt{\\frac{1}{N} \\sum_i (x_i - \\bar{x})^2} $$"
   ]
  },
  {
   "cell_type": "markdown",
   "metadata": {},
   "source": [
    "4. Si la medición cae afuera de ese intervalo, ¿\"es distinta\"?"
   ]
  },
  {
   "cell_type": "markdown",
   "metadata": {},
   "source": [
    "\n",
    "A diferencia de mediciones donde estamos limitados por la resolución del instrumento,\n",
    "\n",
    "en este tipo de mediciones no es tan blanco y negro, es más gris.\n",
    "\n",
    "Lo que se hace generalmente es decir \"a cuántas desviaciones estándar\" está nuestra medición del promedio."
   ]
  },
  {
   "cell_type": "markdown",
   "metadata": {},
   "source": [
    "Por ejemplo, dada una nueva medición $x_{nueva}$, y dados $\\bar{x} = 5$ y $s = 2$, si:\n",
    "\n",
    "- $x_{nueva} = 7$ está a 1 desviación estándar, porque $x_{nueva} = \\bar{x} + 1 \\, s$\n",
    "\n",
    "- $x_{nueva} = 10$ está a 2.5 desviación estándar, porque $x_{nueva} = \\bar{x} + 2.5 \\, s$"
   ]
  },
  {
   "cell_type": "markdown",
   "metadata": {},
   "source": [
    "En general, la distancia $Z$ está dada por:\n",
    "\n",
    "$$ Z = \\frac{x_{nueva} - \\bar{x}}{s} $$\n",
    "\n",
    "que se lo llama *Z-score* en estadística."
   ]
  },
  {
   "cell_type": "markdown",
   "metadata": {},
   "source": [
    "- Para $Z < 1$, \"son iguales\" (o, al menos, no puedo decir que sean distintos).\n",
    "- Para $Z > 5$, seguro son distintos.\n",
    "- En el medio, gris. No podemos asegurar que sean distintos, pero..."
   ]
  },
  {
   "cell_type": "markdown",
   "metadata": {},
   "source": [
    "Este mismo criterio lo vamos a usar para comparar tanto con el intervalo dado por la desviación estándar $s$ como el del error del promedio $\\bar{x}$:\n",
    "\n",
    "1. $\\bar{x} \\pm s$\n",
    "2. $\\bar{x} \\pm \\Delta x$"
   ]
  },
  {
   "cell_type": "markdown",
   "metadata": {},
   "source": [
    "**Pregunta**: si queremos reportar un resultado para un conjunto de mediciones, ¿cuál de estos dos reportamos?"
   ]
  },
  {
   "cell_type": "code",
   "execution_count": null,
   "metadata": {},
   "outputs": [],
   "source": [
    "promedio = np.mean(datos)\n",
    "desv_est = np.std(datos)\n",
    "error_promedio = desv_est / np.size(datos)**0.5\n",
    "\n",
    "fig, axes = plt.subplots(1, 2, sharey=True, figsize=(8, 2))\n",
    "\n",
    "for ax in axes:\n",
    "    ax.hist(datos, bins=\"sqrt\", histtype=\"step\", color=\"black\")\n",
    "    ax.axvline(promedio, label=r\"$\\bar{x}$\", lw=3)\n",
    "    ax.axvspan(promedio - desv_est, promedio + desv_est, label=r\"$\\bar{x} \\pm s$\", alpha=0.5, color=\"C2\")\n",
    "    ax.axvspan(promedio - error_promedio, promedio + error_promedio, label=r\"$\\bar{x} \\pm \\Delta \\bar{x}$\", alpha=1, color=\"C1\")\n",
    "\n",
    "axes[0].legend()\n",
    "axes[1].set(xlim=(promedio - 5 * error_promedio, promedio + 5 * error_promedio))"
   ]
  },
  {
   "cell_type": "markdown",
   "metadata": {},
   "source": [
    "Recordemos:\n",
    "\n",
    "1. $\\bar{x} \\pm \\Delta \\bar{x}$ es que tan bien conocemos el centro,\n",
    "2. $\\bar{x} \\pm s$ es un intervalo que contiene $2/3$ de las mediciones,\n",
    "\n",
    "donde $s$ sería el error de cada medición."
   ]
  },
  {
   "cell_type": "markdown",
   "metadata": {},
   "source": [
    "## Interpretación física\n",
    "\n",
    "La estadística les da herramientas para analizar los datos, pero no les dice que herramienta usar ni que concluir.\n",
    "\n",
    "Es importante **interpretarlos en base a nuestro experimento**.\n",
    "\n",
    "Veamos dos casos extremos, y si identificamos a cual corresponde cada intervalo."
   ]
  },
  {
   "cell_type": "markdown",
   "metadata": {},
   "source": [
    "### Caso A\n",
    "\n",
    "En el experimento que realizamos al principio, la medición del intervalo de tiempo entre chasquidos:\n",
    "\n",
    "¿Qué representa la desviación estándar $s$ de los datos?\n",
    "\n",
    "¿A qué se debe *\"físicamente\"* la dispersión en nuestras mediciones?"
   ]
  },
  {
   "cell_type": "markdown",
   "metadata": {},
   "source": [
    "Es su tiempo de reacción para accionar el cronómetro.\n",
    "\n",
    "El tiempo entre los chasquidos tiene un valor único (desconocido, pero único)."
   ]
  },
  {
   "cell_type": "markdown",
   "metadata": {},
   "source": [
    "### Caso B\n",
    "\n",
    "Imaginemos si hubiesemos medido de otra manera muy precisa, por ejemplo, grabando el audio:"
   ]
  },
  {
   "cell_type": "code",
   "execution_count": null,
   "metadata": {},
   "outputs": [],
   "source": [
    "from scipy.io import wavfile\n",
    "\n",
    "rate, data = wavfile.read(\"chasquido.wav\")\n",
    "t = np.arange(data.size) / rate\n",
    "\n",
    "fig, ax = plt.subplots(figsize=(6, 2))\n",
    "\n",
    "ax.plot(t, data)\n",
    "\n",
    "ax1 = ax.inset_axes([0.1, -1.2, 0.3, 0.8])\n",
    "i, j = np.searchsorted(t, (0.15, 0.17))\n",
    "ax1.plot(t[i:j], data[i:j])\n",
    "ax.indicate_inset_zoom(ax1)\n",
    "\n",
    "ax2 = ax.inset_axes([0.6, -1.2, 0.3, 0.8])\n",
    "i, j = np.searchsorted(t, (1.16, 1.18))\n",
    "ax2.plot(t[i:j], data[i:j])\n",
    "ax.indicate_inset_zoom(ax2)\n",
    "\n",
    "for a in (ax, ax1, ax2):\n",
    "    a.set(xlabel=\"Tiempo [s]\")"
   ]
  },
  {
   "cell_type": "markdown",
   "metadata": {},
   "source": [
    "y definiendo como \"chasquido\" el instante donde es máxima la amplitud del sonido.\n",
    "\n",
    "En comparación, la precisión para ese tiempo entre chasquidos sería altisima (menos de 1 ms)."
   ]
  },
  {
   "cell_type": "markdown",
   "metadata": {},
   "source": [
    "¿Qué esperarían que pase si repetimos el experimento múltiples veces?\n",
    "\n",
    "Es decir, grabar múltiples chasquidos."
   ]
  },
  {
   "cell_type": "markdown",
   "metadata": {},
   "source": [
    "Las mediciones van a variar, pero no por culpa del proceso de medición, sino que es una variación propia del fenómeno que queremos medir."
   ]
  },
  {
   "cell_type": "markdown",
   "metadata": {},
   "source": [
    "¿Y podrían reportar \"el periodo entre chasquidos\"?"
   ]
  },
  {
   "cell_type": "markdown",
   "metadata": {},
   "source": [
    "No va a haber **un** peridoo entre chasquidos, ¿no?\n",
    "\n",
    "Podrían reportar un intervalo que describa donde caigan la mayor parte de los chasquidos."
   ]
  },
  {
   "cell_type": "markdown",
   "metadata": {},
   "source": [
    "### Casos e intervalos\n",
    "\n",
    "Entonces, considerando estos dos extremos, ¿qué reportarían en cada caso?\n",
    "\n",
    "**Intervalos:**\n",
    "\n",
    "1. $\\bar{x} \\pm \\Delta \\bar{x}$ es que tan bien conocemos el centro,\n",
    "2. $\\bar{x} \\pm s$ es un intervalo que contiene $2/3$ de las mediciones,\n",
    "\n",
    "donde $s$ sería el error de cada medición.\n",
    "\n",
    "**Casos:**\n",
    "\n",
    "- A. Nuestro experimento: múltiples mediciones de un único intervalo entre dos chasquidos.\n",
    "\n",
    "- B. El experimento hipótetico del análisis de audio: múltiples mediciones de distintos intervalos entre chasquidos."
   ]
  },
  {
   "cell_type": "code",
   "execution_count": null,
   "metadata": {},
   "outputs": [],
   "source": [
    "promedio = np.mean(datos)\n",
    "desv_est = np.std(datos)\n",
    "error_promedio = desv_est / np.size(datos)**0.5\n",
    "\n",
    "fig, axes = plt.subplots(1, 2, sharey=True, figsize=(8, 2))\n",
    "\n",
    "for ax in axes:\n",
    "    ax.hist(datos, bins=\"sqrt\", histtype=\"step\", color=\"black\")\n",
    "    ax.axvline(promedio, label=r\"$\\bar{x}$\", lw=3)\n",
    "    ax.axvspan(promedio - desv_est, promedio + desv_est, label=r\"$\\bar{x} \\pm s$\", alpha=0.5, color=\"C2\")\n",
    "    ax.axvspan(promedio - error_promedio, promedio + error_promedio, label=r\"$\\bar{x} \\pm \\Delta \\bar{x}$\", alpha=1, color=\"C1\")\n",
    "\n",
    "axes[0].legend()\n",
    "axes[1].set(xlim=(promedio - 5 * error_promedio, promedio + 5 * error_promedio))"
   ]
  },
  {
   "cell_type": "markdown",
   "metadata": {},
   "source": [
    "En la práctica, puede que se encuentren con una combinación de ambos extremos:\n",
    "\n",
    "que la precisión del proceso de medición y la variación intrínseca del fenómeno sean similares.\n",
    "\n",
    "Por ejemplo, múltiples mediciones del disintos intervalos entre chasquidos."
   ]
  },
  {
   "cell_type": "markdown",
   "metadata": {},
   "source": [
    "## Resumen\n",
    "\n",
    "- Medimos\n",
    "- Visualizamos -> Histograma con forma de campana\n",
    "- Resumimos -> Intervalo\n",
    "\n",
    "¿Cuál? Depende del experimento:\n",
    "\n",
    "1. Con el error del promedio $\\rightarrow \\bar{x} \\pm \\Delta \\bar{x}$\n",
    "2. Con la desviación estándar $\\rightarrow \\bar{x} \\pm s$"
   ]
  },
  {
   "cell_type": "markdown",
   "metadata": {},
   "source": [
    "## Nuestro experimento\n",
    "\n",
    "Carguemos nuestras mediciones y respondamos si el tiempo entre chasquidos fue distinto."
   ]
  },
  {
   "cell_type": "code",
   "execution_count": null,
   "metadata": {},
   "outputs": [],
   "source": [
    "data = pd.read_csv(\"mediciones.csv\")\n",
    "\n",
    "data.head()"
   ]
  },
  {
   "cell_type": "markdown",
   "metadata": {},
   "source": [
    "Podemos calcular el promedio de la columna `tiempo_1`:"
   ]
  },
  {
   "cell_type": "code",
   "execution_count": null,
   "metadata": {},
   "outputs": [],
   "source": [
    "np.mean(data.tiempo_1)"
   ]
  },
  {
   "cell_type": "markdown",
   "metadata": {},
   "source": [
    "`pandas` nos deja hacerlo de forma fácil con todas las columnas:"
   ]
  },
  {
   "cell_type": "code",
   "execution_count": null,
   "metadata": {},
   "outputs": [],
   "source": [
    "data.filter(like=\"tiempo\").mean()"
   ]
  },
  {
   "cell_type": "markdown",
   "metadata": {},
   "source": [
    "Entonces, ¿son distintos?"
   ]
  },
  {
   "cell_type": "markdown",
   "metadata": {},
   "source": [
    "![Necesito calcularte el error](necesito_meme.png)"
   ]
  },
  {
   "cell_type": "markdown",
   "metadata": {},
   "source": [
    "No hay una función que calcule el error directamente:"
   ]
  },
  {
   "cell_type": "code",
   "execution_count": null,
   "metadata": {},
   "outputs": [],
   "source": [
    "np.std(data.tiempo_1) / np.size(data.tiempo_1)**0.5"
   ]
  },
  {
   "cell_type": "markdown",
   "metadata": {},
   "source": [
    "Pero la pueden hacer ustedes:"
   ]
  },
  {
   "cell_type": "code",
   "execution_count": null,
   "metadata": {},
   "outputs": [],
   "source": [
    "def error_promedio(x):\n",
    "    return np.std(x) / np.size(x)**0.5\n",
    "\n",
    "error_promedio(data.tiempo_1)"
   ]
  },
  {
   "cell_type": "code",
   "execution_count": null,
   "metadata": {},
   "outputs": [],
   "source": [
    "data.filter(like=\"tiempo\").apply(error_promedio)"
   ]
  },
  {
   "cell_type": "code",
   "execution_count": null,
   "metadata": {},
   "outputs": [],
   "source": [
    "def promedio(x):\n",
    "    return pd.Series({\n",
    "        \"promedio\": np.mean(x),\n",
    "        \"error\": error_promedio(x),\n",
    "    })\n",
    "\n",
    "data.filter(like=\"tiempo\").apply(promedio).round(3)"
   ]
  }
 ],
 "metadata": {
  "interpreter": {
   "hash": "244c145c05c3be7348143fac78c25e32645fc4b9531ba6e4d63ab73ef891291c"
  },
  "kernelspec": {
   "display_name": "Python 3.10.2 ('python-tutorial')",
   "language": "python",
   "name": "python3"
  },
  "language_info": {
   "codemirror_mode": {
    "name": "ipython",
    "version": 3
   },
   "file_extension": ".py",
   "mimetype": "text/x-python",
   "name": "python",
   "nbconvert_exporter": "python",
   "pygments_lexer": "ipython3",
   "version": "3.10.2"
  },
  "orig_nbformat": 4
 },
 "nbformat": 4,
 "nbformat_minor": 2
}
