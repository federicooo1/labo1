{
 "cells": [
  {
   "cell_type": "markdown",
   "metadata": {},
   "source": [
    "# Probabilidad y estadística\n",
    "\n",
    "- La distribución normal o gaussiana: ¿de dónde sale?\n",
    "- ¿Por qué el promedio tiene un error?"
   ]
  },
  {
   "cell_type": "code",
   "execution_count": null,
   "metadata": {},
   "outputs": [],
   "source": [
    "import ipywidgets\n",
    "import matplotlib.pyplot as plt\n",
    "import numpy as np\n",
    "import scipy.stats\n",
    "import seaborn"
   ]
  },
  {
   "cell_type": "code",
   "execution_count": null,
   "metadata": {},
   "outputs": [],
   "source": [
    "plt.rc(\"figure\", dpi=100)"
   ]
  },
  {
   "cell_type": "markdown",
   "metadata": {},
   "source": [
    "## Variables aleatorias y distribución de probabilidad\n",
    "\n",
    "Una variable aleatoria o estocástica $X$ es una magnitud cuyo valor varía cada vez que se la mide.\n",
    "\n",
    "El ejemplo más simple es el resultado $X$ de arrojar una moneda: cara o ceca.\n",
    "\n",
    "$$ X = \\{\\text{cara}, \\text{ ceca}\\} $$"
   ]
  },
  {
   "cell_type": "markdown",
   "metadata": {},
   "source": [
    "Una variable aleatoria está completamente descripta a partir de su distribución de probabilidad $P$,\n",
    "\n",
    "que nos dice la probabilidad de que salga cada uno de sus posibles valores.\n",
    "\n",
    "Por ejemplo, la distribución de probabilidad $P$ de la moneda: 50% cara y 50% ceca.\n",
    "\n",
    "$$ P(X) = \\begin{cases}\n",
    "0.5 \\quad\\text{ si X es cara}\\\\\n",
    "0.5 \\quad\\text{ si X es ceca} \\\\\n",
    "\\end{cases} $$"
   ]
  },
  {
   "cell_type": "markdown",
   "metadata": {},
   "source": [
    "\n",
    "Las variables aleatorias se pueden clasificar en dos tipos: discretas y continuas."
   ]
  },
  {
   "cell_type": "markdown",
   "metadata": {},
   "source": [
    "### Variables aleatorias discretas\n",
    "\n",
    "Otro ejemplo sencillo de variable aleatoria discreta es (el resultado de tirar) un dado.\n",
    "\n",
    "En Python, podemos crear \"un dado\" con la siguiente función:"
   ]
  },
  {
   "cell_type": "code",
   "execution_count": null,
   "metadata": {},
   "outputs": [],
   "source": [
    "dado = scipy.stats.randint(low=1, high=7)"
   ]
  },
  {
   "cell_type": "markdown",
   "metadata": {},
   "source": [
    "Podemos tirar el dado una vez:"
   ]
  },
  {
   "cell_type": "code",
   "execution_count": null,
   "metadata": {},
   "outputs": [],
   "source": [
    "dado.rvs()"
   ]
  },
  {
   "cell_type": "markdown",
   "metadata": {},
   "source": [
    "O múltiples veces:"
   ]
  },
  {
   "cell_type": "code",
   "execution_count": null,
   "metadata": {},
   "outputs": [],
   "source": [
    "dado.rvs(size=5)"
   ]
  },
  {
   "cell_type": "markdown",
   "metadata": {},
   "source": [
    "Podemos preguntarle la probabilidad de que salga cierto valor con la función `pmf` (del inglés, *probability mass function*):"
   ]
  },
  {
   "cell_type": "code",
   "execution_count": null,
   "metadata": {},
   "outputs": [],
   "source": [
    "dado.pmf(1)"
   ]
  },
  {
   "cell_type": "markdown",
   "metadata": {},
   "source": [
    "que es 1/6.\n",
    "\n",
    "Podemos gráficar esta función:"
   ]
  },
  {
   "cell_type": "code",
   "execution_count": null,
   "metadata": {},
   "outputs": [],
   "source": [
    "numeros = np.array([0, 1, 2, 3, 4, 5, 6, 7])\n",
    "probabilidades = dado.pmf(numeros)\n",
    "\n",
    "plt.scatter(numeros, probabilidades)\n",
    "plt.yticks([0, 0.1, 1/6, 0.2], [\"0\", \"0.1\", \"1/6\", \"0.2\"]);\n",
    "plt.xlabel(\"Valores posibles\")\n",
    "plt.ylabel(\"Probabilidad\")"
   ]
  },
  {
   "cell_type": "markdown",
   "metadata": {},
   "source": [
    "donde la suma de todas las probabilidades tiene que dar 1 (o 100%):"
   ]
  },
  {
   "cell_type": "code",
   "execution_count": null,
   "metadata": {},
   "outputs": [],
   "source": [
    "np.sum(probabilidades)"
   ]
  },
  {
   "cell_type": "markdown",
   "metadata": {},
   "source": [
    "¿Cómo podemos llegar a esta distribución de probabilidad de manera experimental?"
   ]
  },
  {
   "cell_type": "markdown",
   "metadata": {},
   "source": [
    "Medimos múltiples veces y realizamos un histograma:"
   ]
  },
  {
   "cell_type": "code",
   "execution_count": null,
   "metadata": {},
   "outputs": [],
   "source": [
    "@ipywidgets.interact(\n",
    "    tiradas=ipywidgets.FloatLogSlider(min=0, max=4, readout_format=\".0f\"),\n",
    ")\n",
    "def _(tiradas):\n",
    "    tiradas = int(round(tiradas))\n",
    "    dados = dado.rvs(size=tiradas)\n",
    "    # Histograma de los dados\n",
    "    # Uso seaborn, que permite hacer correctamente histogramas de variables discretas\n",
    "    seaborn.histplot(dados, discrete=True)#, stat=\"probability\")\n",
    "    # plt.axhline(1/6)  # Valor esperado\n",
    "    plt.xlim(0.4, 6.6)"
   ]
  },
  {
   "cell_type": "markdown",
   "metadata": {},
   "source": [
    "Al tomar múltiples mediciones y realizar un histograma, estamos tratando de aproximar la distribución de probabilidad del fenómeno que estamos estudiando."
   ]
  },
  {
   "cell_type": "markdown",
   "metadata": {},
   "source": [
    "### Media de una distribución\n",
    "\n",
    "¿Podemos calcular un promedio (o la media) de una distribución?"
   ]
  },
  {
   "cell_type": "markdown",
   "metadata": {},
   "source": [
    "Imaginemos que tiramos un dado 5 veces y salen los siguientes números: ${1, 2, 2, 2, 6}$.\n",
    "\n",
    "Calcular el promedio es sumarlos y dividir por la cantidad de números:\n",
    "\n",
    "$$ \\bar{x} = \\frac{1 + 2 + 2 + 2 + 6}{5} $$"
   ]
  },
  {
   "cell_type": "markdown",
   "metadata": {},
   "source": [
    "Si agrupamos los valores iguales y sacamos factor común:\n",
    "\n",
    "$$ \\bar{x} = \\frac{ \\Big( {1 \\times 1 + 3 \\times 2 + 1 \\times 6} \\Big) }{5} $$"
   ]
  },
  {
   "cell_type": "markdown",
   "metadata": {},
   "source": [
    "Distribuyendo el denominador:\n",
    "\n",
    "$$ \\bar{x} = {\\frac{1}{5} \\times 1 + \\frac{3}{5} \\times 2 + \\frac{1}{5} \\times 6} $$"
   ]
  },
  {
   "cell_type": "markdown",
   "metadata": {},
   "source": [
    "En otras palabras, el promedio es:\n",
    "\n",
    "$$ \\bar{x} = \\sum_i f_i \\, x_i $$\n",
    "\n",
    "donde $f_i$ es la fracción de veces que salió el número $i$-ésimo, y $x_i$ es el valor del número $i$-ésimo."
   ]
  },
  {
   "cell_type": "markdown",
   "metadata": {},
   "source": [
    "Si medimos muchas veces, esperamos que los $f_i$ tiendan a la probabilidad $p_i$ que salga cada número.\n",
    "\n",
    "En el caso del dado, si lo tiramos muchas veces, esperamos que $f_i \\to p_i = \\frac{1}{6}$."
   ]
  },
  {
   "cell_type": "markdown",
   "metadata": {},
   "source": [
    "Entonces, podemos definir la media $\\mu$ de una variable aleatoria $X$ como:\n",
    "\n",
    "$$ \\mu = \\sum_i x_i \\, p_i = \\sum_i x_i \\, P(X=x_i) $$\n",
    "\n",
    "donde la suma es sobre todos los valores $x_i$ posibles."
   ]
  },
  {
   "cell_type": "markdown",
   "metadata": {},
   "source": [
    "Para el dado,\n",
    "\n",
    "$$ \\mu = 1 \\, \\frac{1}{6} + 2 \\, \\frac{1}{6} + \\ldots + 6 \\, \\frac{1}{6} = 3.5$$"
   ]
  },
  {
   "cell_type": "code",
   "execution_count": null,
   "metadata": {},
   "outputs": [],
   "source": [
    "dado.mean()  # teórico"
   ]
  },
  {
   "cell_type": "markdown",
   "metadata": {},
   "source": [
    "El promedio $\\bar{x}$ apromxima la media $\\mu$ de la distribución:"
   ]
  },
  {
   "cell_type": "code",
   "execution_count": null,
   "metadata": {},
   "outputs": [],
   "source": [
    "dado.rvs(size=10).mean()"
   ]
  },
  {
   "cell_type": "markdown",
   "metadata": {},
   "source": [
    "y depende de la cantidad de muestras que tomemos."
   ]
  },
  {
   "cell_type": "markdown",
   "metadata": {},
   "source": [
    "### Desviación estándar teórica\n",
    "\n",
    "Análogamente, podemos calcular la desviación estándar $\\sigma$ de una distribución de probabilidad como:\n",
    "\n",
    "$$ \\sigma^2 = \\sum_i (x_i - \\mu)^2 \\, p_i $$\n",
    "\n",
    "Es decir, la suma de las distancias cuadráticas de los $x_i$ a la media $\\mu$, pesados por la probabilidad $p_i$."
   ]
  },
  {
   "cell_type": "markdown",
   "metadata": {},
   "source": [
    "Para recodarles, la desviación estándar $s$ de un conjunto de muestras la habiamos definido como:\n",
    "\n",
    "$$ s^2 = \\frac{1}{N} \\sum_i (x_i - \\bar{x})^2 $$\n",
    "\n",
    "que se puede escribir en términos de la fracción $f_i$ de veces que salió cada $x_i$:\n",
    "\n",
    "$$ s^2 = \\sum_i (x_i - \\bar{x})^2 \\; f_i$$"
   ]
  },
  {
   "cell_type": "code",
   "execution_count": null,
   "metadata": {},
   "outputs": [],
   "source": [
    "dado.std()  # teórico"
   ]
  },
  {
   "cell_type": "markdown",
   "metadata": {},
   "source": [
    "Entonces, $s$ aproxima a $\\sigma$:"
   ]
  },
  {
   "cell_type": "code",
   "execution_count": null,
   "metadata": {},
   "outputs": [],
   "source": [
    "dado.rvs(size=10).std()"
   ]
  },
  {
   "cell_type": "markdown",
   "metadata": {},
   "source": [
    "y, al igual que el promedio, ¡la desviación estándar también tiene un error!"
   ]
  },
  {
   "cell_type": "markdown",
   "metadata": {},
   "source": [
    "El error de la desviación estándar lo pueden calcular de esta forma:\n",
    "\n",
    "$$ \\frac{s}{\\sqrt{2 \\, (N - 1)}} $$\n",
    "\n",
    "que es similar al error del promedio.\n",
    "\n",
    "*Nota: el del promedio funciona mejor en distribuciones más generales, mientras que para este es más necesario que tenga \"forma de campana\".*"
   ]
  },
  {
   "cell_type": "markdown",
   "metadata": {},
   "source": [
    "Entonces, por más que nadie reportaría los resultados de medir un dado como promedio y desviación estándar:"
   ]
  },
  {
   "cell_type": "code",
   "execution_count": null,
   "metadata": {},
   "outputs": [],
   "source": [
    "fig, ax = plt.subplots(figsize=(6, 2))\n",
    "ax.bar(x=np.arange(1, 7), height=1/6, width=0.1)\n",
    "ax.axvspan(dado.mean() - dado.std(), dado.mean() + dado.std(), alpha=0.5, color=\"C2\")\n",
    "ax.set_yticks((0, 1 / 6), labels=(\"0\", \"1/6\"))\n",
    "ax.set_title(f\"$\\\\mu \\pm \\\\sigma = {dado.mean():.1f} \\\\pm {dado.std():.1f}$\")"
   ]
  },
  {
   "cell_type": "markdown",
   "metadata": {},
   "source": [
    "siempre podemos estimarlos a partir de nuestras mediciones:\n",
    "\n",
    "- $\\mu \\rightarrow \\bar{x} \\pm \\Delta \\bar{x}$\n",
    "- $\\sigma \\rightarrow s \\pm \\Delta s$\n",
    "\n",
    "Más adelante, veremos por qué son útiles también para el caso del dado."
   ]
  },
  {
   "cell_type": "markdown",
   "metadata": {},
   "source": [
    "## Variables aleatorias continuas"
   ]
  },
  {
   "cell_type": "markdown",
   "metadata": {},
   "source": [
    "### Distribución uniforme\n",
    "\n",
    "La distribución uniforme es el análogo continuo del dado,\n",
    "\n",
    "donde los valores posibles son todos los números reales entre $0$ y $1$."
   ]
  },
  {
   "cell_type": "markdown",
   "metadata": {},
   "source": [
    "**Preguntas:**\n",
    "\n",
    "1. Si todos los números son igual de probables, ¿cuál es la probabilidad de que salga $0.5$?"
   ]
  },
  {
   "cell_type": "markdown",
   "metadata": {},
   "source": [
    "La probabilidad es 0, porque es un número particular entre los infinitos posibles.\n",
    "\n",
    "No se puede hablar de probabilidad de un número, sino de un rango de números."
   ]
  },
  {
   "cell_type": "markdown",
   "metadata": {},
   "source": [
    "2. ¿Cuál es la probabilidad de que salga algún múmero entre 0 y 0.5?"
   ]
  },
  {
   "cell_type": "markdown",
   "metadata": {},
   "source": [
    "La probabilidad es 0.5, porque es la mitad del intervalo y todos los números son igual de probables."
   ]
  },
  {
   "cell_type": "markdown",
   "metadata": {},
   "source": [
    "Para variables discretas, tenemos una distribución de probabilidad $P$ para cada valor posible $x$.\n",
    "\n",
    "Y, si sumamos la probabilidad sobre todos los valores posibles:\n",
    "\n",
    "$$ \\sum_i P(x_i) = 1 $$"
   ]
  },
  {
   "cell_type": "markdown",
   "metadata": {},
   "source": [
    "Para variables continuas, sumar sobre todos los valores es hacer una integral:\n",
    "\n",
    "$$ \\int p(x) \\, dx = 1 $$\n",
    "\n",
    "Entonces, no tenemos una probabilidad para cada valor, sino una *densidad* de probabilidad.\n",
    "\n",
    "Solo podemos hablar de probabilidad cuando integramos en un dado rango."
   ]
  },
  {
   "cell_type": "markdown",
   "metadata": {},
   "source": [
    "Por ejemplo, para la distribución uniforme, podemos graficar la densidad de probabilidad\n",
    "\n",
    "con la función `pdf` (en inglés, *probability density function*):"
   ]
  },
  {
   "cell_type": "code",
   "execution_count": null,
   "metadata": {},
   "outputs": [],
   "source": [
    "uniforme = scipy.stats.uniform()\n",
    "\n",
    "t = np.linspace(-0.1, 1.1, 1000)\n",
    "plt.plot(t, uniforme.pdf(t))\n",
    "\n",
    "plt.xlabel(\"valores posibles\")\n",
    "plt.ylabel(\"Densidad de probabilidad\")"
   ]
  },
  {
   "cell_type": "markdown",
   "metadata": {},
   "source": [
    "Noten que el valor para cada $x$ es 1, que no significa que la probabilidad sea 1, sino la densidad."
   ]
  },
  {
   "cell_type": "markdown",
   "metadata": {},
   "source": [
    "Al igual que con la variable discreta, podemos aproximarla experimentalmente midiendo múltiples veces y realizando un histograma:"
   ]
  },
  {
   "cell_type": "code",
   "execution_count": null,
   "metadata": {},
   "outputs": [],
   "source": [
    "@ipywidgets.interact(N=ipywidgets.FloatLogSlider(min=1, max=5, readout_format=\".0f\"))\n",
    "def _(N):\n",
    "    datos = uniforme.rvs(size=int(N))\n",
    "    seaborn.histplot(x=datos, stat=\"density\")    \n",
    "    t = np.linspace(-0.1, 1.1, 1000)\n",
    "    plt.plot(t, uniforme.pdf(t))"
   ]
  },
  {
   "cell_type": "markdown",
   "metadata": {},
   "source": [
    "También podemos calcular su media y desviación estándar, reemplazando la suma por una integral:\n",
    "\n",
    "| | Discreta | Continua |\n",
    "|-|:-:|:-:|\n",
    "| $\\mu$ | $\\sum_i x_i \\, p_i$ | $\\int x \\, p(x) \\, dx$ |\n",
    "| $\\sigma$ | $\\sum_i (x_i-\\mu)^2 \\, p_i$ | $\\int (x-\\mu)^2 \\, p(x) \\, dx$ |"
   ]
  },
  {
   "cell_type": "code",
   "execution_count": null,
   "metadata": {},
   "outputs": [],
   "source": [
    "uniforme.mean(), uniforme.std()"
   ]
  },
  {
   "cell_type": "markdown",
   "metadata": {},
   "source": [
    "## Fraccion en intervalo"
   ]
  },
  {
   "cell_type": "code",
   "execution_count": null,
   "metadata": {},
   "outputs": [],
   "source": [
    "uniforme.cdf(uniforme.mean() + uniforme.std()) - uniforme.cdf(uniforme.mean() - uniforme.std())"
   ]
  },
  {
   "cell_type": "markdown",
   "metadata": {},
   "source": [
    "### Distribución normal o gaussiana\n",
    "\n",
    "La distribución normal tiene la siguiente forma funcional:\n",
    "\n",
    "$$ N(x) \\propto \\exp{(-x^2)} $$"
   ]
  },
  {
   "cell_type": "code",
   "execution_count": null,
   "metadata": {},
   "outputs": [],
   "source": [
    "@ipywidgets.interact(mu=(-5, 5), sigma=(0.4, 3, 0.3))\n",
    "def _(mu=0, sigma=1):\n",
    "    x = np.linspace(-10, 10, 1000)\n",
    "    gaussiana = scipy.stats.norm\n",
    "    plt.plot(x, gaussiana.pdf(x, loc=0, scale=1), label=\"N(0, 1)\")\n",
    "    # plt.plot(x, gaussiana.pdf(x, loc=mu, scale=sigma), label=f\"N({mu:.1f}, {sigma:.1f})\")\n",
    "    # plt.ylim(-0.1, 1.1)\n",
    "    plt.legend(title=\"$N(\\mu, \\sigma)$\")"
   ]
  },
  {
   "cell_type": "markdown",
   "metadata": {},
   "source": [
    "En general, se escribe con dos parámetros:\n",
    "\n",
    "- $\\mu$, que controla el centro de la distribución\n",
    "- $\\sigma$, que controla el ancho de la distribución\n",
    "\n",
    "$$ N(x | \\mu, \\sigma) \\propto \\exp \\left( \\frac{1}{2}\\left(\\frac{x-\\mu}{\\sigma}\\right)^2 \\right) $$"
   ]
  },
  {
   "cell_type": "markdown",
   "metadata": {},
   "source": [
    "\n",
    "Cuanto está escrita de esta manera, podemos estimar $\\mu$ y $\\sigma$ como el promedio y la desviación estandar de los datos."
   ]
  },
  {
   "cell_type": "markdown",
   "metadata": {},
   "source": [
    "Para saber cuál es la probabilidad de que una medición caiga en un dado intervalo, hay que integrar esta función.\n",
    "\n",
    "En el siguiente gráfico, están los valores para algunos intervalos:"
   ]
  },
  {
   "cell_type": "code",
   "execution_count": null,
   "metadata": {},
   "outputs": [],
   "source": [
    "t = np.linspace(-5, 5, 1000)\n",
    "gaussiana = scipy.stats.norm\n",
    "for sigma in reversed(range(1, 5)):\n",
    "    prob = 1 - 2 * gaussiana.sf(sigma)\n",
    "    i, j = np.searchsorted(t, (-sigma, sigma))\n",
    "    ti = t[i:j]\n",
    "    plt.fill_between(ti, gaussiana.pdf(ti), label=f\"{sigma}-$\\sigma$ - {prob:.3%}\", color=f\"C{sigma-1}\")\n",
    "\n",
    "plt.xticks(np.arange(-4, 5), [f\"{i}-$\\\\sigma$\" for i in range(-4, 5)])\n",
    "plt.legend()"
   ]
  },
  {
   "cell_type": "markdown",
   "metadata": {},
   "source": [
    "Generalmente, cuando reportamos un valor promedio y una desviación estándar sin especificar la distribución,\n",
    "\n",
    "se asume que nuestras mediciones está bien representadas por esta distribución,\n",
    "\n",
    "y que podemos interpretar el intervalo $\\bar{x} \\pm s$ como un intervalo de confianza de $68\\%$."
   ]
  },
  {
   "cell_type": "markdown",
   "metadata": {},
   "source": [
    "\n",
    "Pero, ¿de donde sale la gaussiana?\n",
    "\n",
    "¿Por qué es razonable aproximar nuestras mediciones por una *gaussiana*?"
   ]
  },
  {
   "cell_type": "markdown",
   "metadata": {},
   "source": [
    "## Teorema Central del Límite\n",
    "\n",
    "El teorema central del límite nos dice que, bajo ciertas condiciones,\n",
    "\n",
    "la suma de $N$ variables aleatorias tiende a una distribución gaussiana cuando $N$ tiende a infinito."
   ]
  },
  {
   "cell_type": "markdown",
   "metadata": {},
   "source": [
    "\n",
    "Veamos con el caso particular de la suma de dados:"
   ]
  },
  {
   "cell_type": "code",
   "execution_count": null,
   "metadata": {},
   "outputs": [],
   "source": [
    "dado = scipy.stats.randint(low=1, high=7)"
   ]
  },
  {
   "cell_type": "markdown",
   "metadata": {},
   "source": [
    "Para simular la suma de 2 dados, podemos tirar el dado `2 x 5 = 10` veces:"
   ]
  },
  {
   "cell_type": "code",
   "execution_count": null,
   "metadata": {},
   "outputs": [],
   "source": [
    "mediciones = dado.rvs(size=(2, 5))\n",
    "\n",
    "mediciones"
   ]
  },
  {
   "cell_type": "markdown",
   "metadata": {},
   "source": [
    "que nos da 2 filas de números, y sumar cada columna:"
   ]
  },
  {
   "cell_type": "code",
   "execution_count": null,
   "metadata": {},
   "outputs": [],
   "source": [
    "mediciones.sum(axis=0)"
   ]
  },
  {
   "cell_type": "markdown",
   "metadata": {},
   "source": [
    "Si la distribución de un dado es uniforme del 1 al 6,\n",
    "\n",
    "¿qué forma tendrá la distribución de la suma de dos dados?\n",
    "\n",
    "¿cuáles son los valores mínimo y máximo posibles?\n",
    "\n",
    "¿con qué probabilidad?"
   ]
  },
  {
   "cell_type": "code",
   "execution_count": null,
   "metadata": {},
   "outputs": [],
   "source": [
    "@ipywidgets.interact(N_dados=(1, 10))\n",
    "def _(N_dados=1):\n",
    "    suma_de_dados = dado.rvs([N_dados, 10_000]).sum(0)\n",
    "    seaborn.histplot(suma_de_dados, discrete=True, stat=\"probability\")\n",
    "\n",
    "    # media = np.mean(suma_de_dados)\n",
    "    # std = np.std(suma_de_dados)\n",
    "    # gaussiana = scipy.stats.norm(loc=media, scale=std)\n",
    "\n",
    "    # t = np.linspace(media - 5 * std, media + 5 * std, 100)\n",
    "    # plt.plot(t, gaussiana.pdf(t), color=\"C1\")"
   ]
  },
  {
   "cell_type": "markdown",
   "metadata": {},
   "source": [
    "Rápidamente toma forma de campana con la cantidad de dados considerados.\n",
    "\n",
    "Podemos comparar este histograma con una gaussiana, donde los parámetros están dados por:\n",
    "\n",
    "$$ \\mu_{gaussiana} \\mapsto \\bar{x}_{dados} $$\n",
    "$$ \\sigma_{gaussiana} \\mapsto s_{dados} $$"
   ]
  },
  {
   "cell_type": "markdown",
   "metadata": {},
   "source": [
    "Entonces, si en una dada medición tenemos **múltiples fuentes de incerteza**,\n",
    "\n",
    "el histograma de las mediciones generalmente va a tener *forma de campana*.\n",
    "\n",
    "Por ejemplo, al accionar el cronómetro manualmente, como en el experimento de los chasquidos."
   ]
  },
  {
   "cell_type": "markdown",
   "metadata": {},
   "source": [
    "Otro lugar donde también aparece la gaussiana es en la distribución del promedio.\n",
    "\n",
    "El teorema central del límite nos permite interpretar el error del promedio como la desviación estándar de una gaussiana.\n",
    "\n",
    "Por lo tanto, el intervalo $\\bar{x} \\pm \\Delta \\bar{x}$ es un intervalo de confianza del 68%."
   ]
  },
  {
   "cell_type": "markdown",
   "metadata": {},
   "source": [
    "Sin embargo, no siempre tiene sentido resumir mediciones en promedio y desviación estandar.\n",
    "\n",
    "Veamos un ejemplo."
   ]
  },
  {
   "cell_type": "markdown",
   "metadata": {},
   "source": [
    "### Medición del diámetro\n",
    "\n",
    "¿Qué distribución esperarían obtener si miden muchas veces el diámetro de un círculo grande con una regla?\n",
    "\n",
    "- ¿Una gaussiana?\n",
    "- ¿Una campana simétrica?\n",
    "- ¿Una distribución uniforme?\n",
    "- ¿Otra cosa?\n",
    "\n",
    "¿Por qué?"
   ]
  },
  {
   "cell_type": "markdown",
   "metadata": {},
   "source": [
    "No depende solo de qué midamos, sino también de cómo midamos.\n",
    "\n",
    "Si simplemente apoyamos la regla en dos puntos de la circunferencia pasando por el centro \"a ojo\", pueden pasar dos cosas:\n",
    "\n",
    "1. Acertamos al centro y estamos midiendo el diámetro\n",
    "2. No le acertamos al centro, y medimos un valor menor al diámetro\n",
    "\n",
    "Pero nunca podemos medir algo mayor.\n",
    "\n",
    "Deberíamos obtener algo de este estilo:"
   ]
  },
  {
   "cell_type": "code",
   "execution_count": null,
   "metadata": {},
   "outputs": [],
   "source": [
    "diametro = 10\n",
    "\n",
    "x = np.linspace(0, 1.2 * diametro, 1000)\n",
    "y = np.exp(-(x-diametro)**2)  # totalmente inventado.\n",
    "y[x > diametro] = 0\n",
    "\n",
    "plt.plot(x, y)\n",
    "plt.xticks([0, diametro], [0, \"d\"])\n",
    "plt.yticks([])\n",
    "plt.xlabel(\"Diámetro [cm]\")"
   ]
  }
 ],
 "metadata": {
  "interpreter": {
   "hash": "244c145c05c3be7348143fac78c25e32645fc4b9531ba6e4d63ab73ef891291c"
  },
  "kernelspec": {
   "display_name": "Python 3.10.2 ('python-tutorial')",
   "language": "python",
   "name": "python3"
  },
  "language_info": {
   "codemirror_mode": {
    "name": "ipython",
    "version": 3
   },
   "file_extension": ".py",
   "mimetype": "text/x-python",
   "name": "python",
   "nbconvert_exporter": "python",
   "pygments_lexer": "ipython3",
   "version": "3.10.2"
  },
  "orig_nbformat": 4
 },
 "nbformat": 4,
 "nbformat_minor": 2
}
