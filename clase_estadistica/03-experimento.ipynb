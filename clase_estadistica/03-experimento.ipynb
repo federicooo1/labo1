{
 "cells": [
  {
   "cell_type": "markdown",
   "metadata": {},
   "source": [
    "# 3. Experimento individual: periodo de oscilación de un péndulo\n",
    "\n",
    "Para aplicar esto, vamos a medir el periodo de oscilación de un péndulo.\n",
    "\n",
    "El péndulo tiene una historia muy interesante, pero después les cuento, para no *spoilear*."
   ]
  },
  {
   "cell_type": "markdown",
   "metadata": {},
   "source": [
    "## ¿Cómo medir?"
   ]
  },
  {
   "cell_type": "markdown",
   "metadata": {},
   "source": [
    "### Opción A\n",
    "\n",
    "Arrojan el péndulo desde un ángulo fijo, miden una oscilación, y lo frenan."
   ]
  },
  {
   "cell_type": "markdown",
   "metadata": {},
   "source": [
    "### Opción B\n",
    "\n",
    "Para ángulos pequeños, el periodo no depende del ángulo (compruébenlo).\n",
    "\n",
    "Entonces, con la función \"vueltas\" del cronómetro, pueden arrojar el péndulo y medir múltiples periodos seguidos hasta que se frene.\n",
    "\n",
    "*Nota: como miden periodos consecutivos, no son independientes. Pueden quedarse solo con los pares o impares*"
   ]
  },
  {
   "cell_type": "code",
   "execution_count": null,
   "metadata": {},
   "outputs": [],
   "source": [
    "import numpy as np\n",
    "\n",
    "x = np.array([1, 2, 3, 4, 5, 6])"
   ]
  },
  {
   "cell_type": "code",
   "execution_count": null,
   "metadata": {},
   "outputs": [],
   "source": [
    "x[0::2]  # desde el 0 hasta el final, cada 2 elementos"
   ]
  },
  {
   "cell_type": "code",
   "execution_count": null,
   "metadata": {},
   "outputs": [],
   "source": [
    "x[1::2]  # desde el 1 hasta el final, cada 2 elementos"
   ]
  },
  {
   "cell_type": "markdown",
   "metadata": {},
   "source": [
    "## ¿Con qué medir?"
   ]
  },
  {
   "cell_type": "markdown",
   "metadata": {},
   "source": [
    "Si usan la opción B, les recomiendo usar un cronómetro en la computadora, así no tienen que estar pasando los datos a mano.\n",
    "\n",
    "Por ejemplo, este: https://www.estopwatch.net/\n",
    "\n",
    "Pueden usar la barra espaciadora para iniciar el cronómetro y la tecla `Alt` para guardar tiempos intermedios.\n",
    "\n",
    "En opciones, activen solo `Variation`, así solo exporta el intervalo de tiempo y pueden leerlo con la siguiente función:"
   ]
  },
  {
   "cell_type": "code",
   "execution_count": null,
   "metadata": {},
   "outputs": [],
   "source": [
    "import matplotlib.pyplot as plt\n",
    "import numpy as np\n",
    "\n",
    "\n",
    "def parse_time(text: str) -> float:\n",
    "    hour, min, sec = map(float, text.split(\":\"))\n",
    "    return 3600 * hour + 60 * min + sec\n",
    "\n",
    "\n",
    "def load_times(file: str, *, skiprows: int = 0) -> np.array:\n",
    "    with open(file) as file:\n",
    "        for _ in range(skiprows):\n",
    "            next(file)\n",
    "\n",
    "        return np.array([parse_time(line) for line in file])\n"
   ]
  },
  {
   "cell_type": "code",
   "execution_count": null,
   "metadata": {},
   "outputs": [],
   "source": [
    "load_times(\"medicion_1.csv\")"
   ]
  },
  {
   "cell_type": "markdown",
   "metadata": {},
   "source": [
    "## Preguntas"
   ]
  },
  {
   "cell_type": "markdown",
   "metadata": {},
   "source": [
    "1. ¿Oscila siempre con el mismo periodo, o depende de la forma de arrojar o construir el péndulo?\n",
    "\n",
    "En particular, piensen si pueden usar la \"Opción B\" para ver si depende del ángulo."
   ]
  },
  {
   "cell_type": "markdown",
   "metadata": {},
   "source": [
    "2. ¿Con qué precisión mide cada integrante del grupo? ¿Quién tiene más precisión al medir?\n",
    "\n",
    "Idealmente, midan bajo las mismas condiciones."
   ]
  },
  {
   "cell_type": "markdown",
   "metadata": {},
   "source": [
    "3. ¿La precisión con la que miden depende del largo del intervalo de tiempo que están midiendo?"
   ]
  },
  {
   "cell_type": "markdown",
   "metadata": {},
   "source": [
    "4. ¿Cuántas mediciones caen en el intervalo $\\bar{x} \\pm s$?"
   ]
  },
  {
   "cell_type": "markdown",
   "metadata": {},
   "source": [
    "\n",
    "5. ¿Puede ser que alguna de estas preguntas no la puedan contestar aún?"
   ]
  }
 ],
 "metadata": {
  "interpreter": {
   "hash": "244c145c05c3be7348143fac78c25e32645fc4b9531ba6e4d63ab73ef891291c"
  },
  "kernelspec": {
   "display_name": "Python 3.10.2 ('python-tutorial')",
   "language": "python",
   "name": "python3"
  },
  "language_info": {
   "codemirror_mode": {
    "name": "ipython",
    "version": 3
   },
   "file_extension": ".py",
   "mimetype": "text/x-python",
   "name": "python",
   "nbconvert_exporter": "python",
   "pygments_lexer": "ipython3",
   "version": "3.10.2"
  },
  "orig_nbformat": 4
 },
 "nbformat": 4,
 "nbformat_minor": 2
}
