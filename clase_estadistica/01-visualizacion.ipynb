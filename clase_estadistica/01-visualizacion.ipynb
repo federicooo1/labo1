{
 "cells": [
  {
   "cell_type": "markdown",
   "metadata": {},
   "source": [
    "## Repaso\n",
    "\n",
    "Algunas cosas que aprendimos hasta ahora.\n",
    "\n",
    "### Clase 1: medición directa\n",
    "\n",
    "1. Reportar un intervalo para una medición: $x \\pm \\Delta x$\n",
    "2. Repetir la medición:\n",
    "    - Si da lo mismo -> el error es la resolución instrumental.\n",
    "    - Si no, es lo que aprendemos hoy.\n",
    "3. Mejorar el método de medición (ejemplo, medición del diámetro)\n",
    "4. Describir bien el experimento, para que se pueda reproducir\n",
    "\n",
    "### Clase 2: medición indirecta\n",
    "\n",
    "1. Cuentas con intervalos -> fórmula de propagación\n",
    "\n",
    "$$\\begin{align}\n",
    "f(x, y, \\ldots) &= \\ldots \\\\\n",
    "(\\Delta f)^2 &= \\left( \\frac{\\partial f}{\\partial x} \\Delta x \\right)^2 + \\left( \\frac{\\partial f}{\\partial y} \\Delta y \\right)^2 + \\ldots\n",
    "\\end{align} $$\n",
    "\n"
   ]
  },
  {
   "cell_type": "markdown",
   "metadata": {},
   "source": [
    "# Mediciones \"no repetibles\"\n",
    "\n",
    "## Primer parte\n",
    "\n",
    "1. Experimento grupal\n",
    "    - Medir dos veces el intervalo de tiempo entre dos chasquidos\n",
    "2. Análisis en Python\n",
    "    - Carga de mediciones\n",
    "    - Visualización de mediciones\n",
    "    - Resumen estadístico\n",
    "    - Interpretación \"física\"\n",
    "3. Experimento individual\n",
    "    - Medir el periodo de oscilación de un péndulo en diferentes condiciones\n",
    "\n",
    "## Segunda parte\n",
    "\n",
    "3. Discutir los resultados\n",
    "4. Probabilidad y estadística\n",
    "    - Variable aleatoria y distribución de probabilidad\n",
    "    - Distribución normal o gaussiana\n",
    "5. Historia del péndulo y más experimentos\n",
    "    - Medir con el Photogate"
   ]
  },
  {
   "cell_type": "markdown",
   "metadata": {},
   "source": [
    "## 1. Experimento grupal"
   ]
  },
  {
   "cell_type": "markdown",
   "metadata": {},
   "source": [
    "### Medición 1\n",
    "\n",
    "Guiado por un cronómetro, voy a chasquear los dedos dos veces.\n",
    "\n",
    "Ustedes van a medir el intervalo de tiempo entre los dos chasquidos."
   ]
  },
  {
   "cell_type": "markdown",
   "metadata": {},
   "source": [
    "### Preguntas 1"
   ]
  },
  {
   "cell_type": "markdown",
   "metadata": {},
   "source": [
    "1. Sin decir aún su medición, ¿podrían reportar un resultado a partir de su medición?"
   ]
  },
  {
   "cell_type": "markdown",
   "metadata": {},
   "source": [
    "2. ¿Qué error tiene su medición?"
   ]
  },
  {
   "cell_type": "markdown",
   "metadata": {},
   "source": [
    "3. ¿Creen que su medición coincide con el de otra persona?"
   ]
  },
  {
   "cell_type": "markdown",
   "metadata": {},
   "source": [
    "4. ¿Por qué no coinciden? ¿Midieron fenómenos distintos?"
   ]
  },
  {
   "cell_type": "markdown",
   "metadata": {},
   "source": [
    "5. ¿Creen que las mediciones hechas presencialmente son comparables a las hechas por Zoom?"
   ]
  },
  {
   "cell_type": "markdown",
   "metadata": {},
   "source": [
    "### Guardado de datos\n",
    "\n",
    "Vamos a guardar los daots en un Excel, y exportarlo como `.csv`.\n",
    "\n",
    "https://docs.google.com/spreadsheets/d/1KGyWdTCZwaxyK8-h-4cYUlb9-aAa6hEHsPPdE5t5Mcg"
   ]
  },
  {
   "cell_type": "markdown",
   "metadata": {},
   "source": [
    "### Medición 2\n",
    "\n",
    "Repetimos el experimento."
   ]
  },
  {
   "cell_type": "markdown",
   "metadata": {},
   "source": [
    "### Preguntas 2"
   ]
  },
  {
   "cell_type": "markdown",
   "metadata": {},
   "source": [
    "1. Comparando con su medición anterior, ¿el intervalo entre chasquidos fue distinto?"
   ]
  },
  {
   "cell_type": "markdown",
   "metadata": {},
   "source": [
    "2. ¿Cómo mostrarían a partir de sus mediciones si son distintos?"
   ]
  },
  {
   "cell_type": "markdown",
   "metadata": {},
   "source": [
    "### Exportar datos\n",
    "\n",
    "Como `.csv` y como `.xls`."
   ]
  },
  {
   "cell_type": "code",
   "execution_count": null,
   "metadata": {},
   "outputs": [],
   "source": [
    "!head -n 5 mediciones.csv"
   ]
  },
  {
   "cell_type": "code",
   "execution_count": null,
   "metadata": {},
   "outputs": [],
   "source": [
    "!head -n 5 mediciones.xls"
   ]
  },
  {
   "cell_type": "markdown",
   "metadata": {},
   "source": [
    "## 2. Visualización (en Python)\n",
    "\n",
    "- Cargar datos\n",
    "- Graficar\n",
    "    - Gráfico de linea\n",
    "    - Gráfico de puntos\n",
    "    - Histograma"
   ]
  },
  {
   "cell_type": "markdown",
   "metadata": {},
   "source": [
    "## Cargar datos\n",
    "\n",
    "Vamos a sumar dos librerías: `pandas` y `seaborn`.\n",
    "\n",
    "- Pandas permite trabajar con \"tablas de datos\", donde cada columna es un `array` de `numpy`.\n",
    "- Seaborn permite hacer gráficos más complejos con `matplotlib` de manera simple"
   ]
  },
  {
   "cell_type": "code",
   "execution_count": null,
   "metadata": {},
   "outputs": [],
   "source": [
    "import matplotlib.pyplot as plt\n",
    "import numpy as np\n",
    "import pandas as pd\n",
    "import seaborn"
   ]
  },
  {
   "cell_type": "code",
   "execution_count": null,
   "metadata": {},
   "outputs": [],
   "source": [
    "plt.rc(\"figure\", dpi=100)"
   ]
  },
  {
   "cell_type": "code",
   "execution_count": null,
   "metadata": {},
   "outputs": [],
   "source": [
    "data = pd.read_csv(\"mediciones.csv\")\n",
    "\n",
    "data.head()"
   ]
  },
  {
   "cell_type": "markdown",
   "metadata": {},
   "source": [
    "¿Hay algún valor o rango de valores que concentre la mayoría de las mediciones?\n",
    "\n",
    "Es dificil de ver desde una tabla.\n",
    "\n",
    "Una mejor forma es realizando un gráfico."
   ]
  },
  {
   "cell_type": "markdown",
   "metadata": {},
   "source": [
    "## Visualizar mediciones\n",
    "\n",
    "Visualizar las mediciones es **fundamental** antes de hacer cualquier análisis.\n",
    "\n",
    "Hay varios ejemplos que muestran que pasa si no, como el \"cuarteto de Anscombe\" o el \"datasaurio\".\n",
    "\n",
    "En un experimento, le dieron un conjunto de mediciones a estudiantes para analizar.\n",
    "\n",
    "Tenían que ver si habia una correlación entre el Indice de masa corporal y la cantidad de pasos que realizaba una persona.\n",
    "\n",
    "Pero muchos no graficaron, y estos eran los datos:"
   ]
  },
  {
   "cell_type": "markdown",
   "metadata": {},
   "source": [
    "![El gorila](https://pbs.twimg.com/media/FPDufEqXsAcEP0L?format=png&name=small)"
   ]
  },
  {
   "cell_type": "markdown",
   "metadata": {},
   "source": [
    "Hay muchas formas de visualizar mediciones, pero veamos algunas típicas."
   ]
  },
  {
   "cell_type": "markdown",
   "metadata": {},
   "source": [
    "### Gráfico de puntos\n",
    "\n",
    "Para hacer un gráfico de puntos, pueden usar la función `plt.scatter`.\n",
    "\n",
    "Necesitan darle un valor para `x` y uno para `y`.\n",
    "\n",
    "Para `y` vamos a usar el tiempo medido, y para `x` el número de fila."
   ]
  },
  {
   "cell_type": "code",
   "execution_count": null,
   "metadata": {},
   "outputs": [],
   "source": [
    "plt.scatter(data.index, data.tiempo_1)\n",
    "# plt.scatter(data.index, data.tiempo_2)\n",
    "\n",
    "plt.xlabel(\"Número de medición\")\n",
    "plt.ylabel(\"Tiempo entre chasquidos [s]\")"
   ]
  },
  {
   "cell_type": "code",
   "execution_count": null,
   "metadata": {},
   "outputs": [],
   "source": [
    "seaborn.scatterplot(x=data.index, y=data.tiempo_1, hue=data.lugar)\n",
    "\n",
    "plt.xlabel(\"Número de medición\")\n",
    "plt.ylabel(\"Tiempo entre chasquidos [s]\")"
   ]
  },
  {
   "cell_type": "markdown",
   "metadata": {},
   "source": [
    "### Gráfico de linea"
   ]
  },
  {
   "cell_type": "markdown",
   "metadata": {},
   "source": [
    "Otra opción es hacer un gráfico de linea, que une los puntos del gráfico anterior con una linea.\n",
    "\n",
    "A veces es más cómodo para ver una tendencia en los datos. Otras veces es más confuso."
   ]
  },
  {
   "cell_type": "code",
   "execution_count": null,
   "metadata": {},
   "outputs": [],
   "source": [
    "plt.plot(data.index, data.tiempo_1)\n",
    "# plt.scatter(data.index, data.tiempo_2)\n",
    "\n",
    "plt.xlabel(\"Número de medición\")\n",
    "plt.ylabel(\"Tiempo entre chasquidos [s]\")"
   ]
  },
  {
   "cell_type": "markdown",
   "metadata": {},
   "source": [
    "Pueden combinarlos desde la función `plt.plot`:"
   ]
  },
  {
   "cell_type": "code",
   "execution_count": null,
   "metadata": {},
   "outputs": [],
   "source": [
    "plt.plot(data.index, data.tiempo_1, linestyle=\"--\", marker=\"o\")\n",
    "\n",
    "plt.xlabel(\"Número de medición\")\n",
    "plt.ylabel(\"Tiempo entre chasquidos [s]\")"
   ]
  },
  {
   "cell_type": "markdown",
   "metadata": {},
   "source": [
    "### Con barras de error\n",
    "\n",
    "Cuando conocemos el error de cada medición, podemos hacer un gráfico con barras de error con la función `plt.errorbar`:"
   ]
  },
  {
   "cell_type": "code",
   "execution_count": null,
   "metadata": {},
   "outputs": [],
   "source": [
    "plt.errorbar(\n",
    "    x=data.index,\n",
    "    y=data.tiempo_1,\n",
    "    yerr=0.01,  # barra de error\n",
    "    linestyle=\"\",\n",
    "    marker=\"o\",\n",
    ")"
   ]
  },
  {
   "cell_type": "markdown",
   "metadata": {},
   "source": [
    "### Histograma\n",
    "\n",
    "Los gráficos anteriores nos permiten ver si hay cierta relación entre los valores de `x` e `y`.\n",
    "\n",
    "Pero acá no esperamos ninguna tendencia: el valor de `x` es un orden arbitrario, ¿no?\n",
    "\n",
    "Lo que nos interesa es ver que región tiene más densidad de mediciones.\n",
    "\n",
    "Para eso podemos hacer un histograma.\n",
    "\n",
    "Se construye dividiendo el rango de los datos en intervalos,\n",
    "\n",
    "y contando cuantas mediciones cayeron en cada intervalo:"
   ]
  },
  {
   "cell_type": "code",
   "execution_count": null,
   "metadata": {},
   "outputs": [],
   "source": [
    "y = data.tiempo_1\n",
    "plt.scatter(data.index, y)\n",
    "plt.xlabel(\"Número de medición\")\n",
    "plt.ylabel(\"Tiempo entre chasquidos [s]\")\n",
    "\n",
    "# bins = np.linspace(y.min(), y.max(), 10)\n",
    "# for b in bins:\n",
    "#     plt.axhline(b, linestyle=\"--\")\n",
    "\n",
    "# plt.twiny()\n",
    "# plt.hist(y, bins=bins, orientation=\"horizontal\", alpha=0.5)\n",
    "# plt.xlabel(\"Cantidad de mediciones\")"
   ]
  },
  {
   "cell_type": "markdown",
   "metadata": {},
   "source": [
    "El histograma en su orientación típica:"
   ]
  },
  {
   "cell_type": "code",
   "execution_count": null,
   "metadata": {},
   "outputs": [],
   "source": [
    "plt.hist(data.tiempo_1, bins=10)\n",
    "# plt.hist(data.tiempo_2, bins=10, histtype=\"step\")\n",
    "\n",
    "plt.xlabel(\"Tiempo entre chasquidos [s]\")\n",
    "plt.ylabel(\"Cantidad de mediciones\")"
   ]
  },
  {
   "cell_type": "markdown",
   "metadata": {},
   "source": [
    "El histograma tiene dos desventajas:\n",
    "\n",
    "1. Hay una elección arbitraria de cuantos intervalos usar.\n",
    "\n",
    "Además, si usamos muy pocos o demasiados, no se observa bien la forma de la distribución de las mediciones.\n",
    "\n",
    "2. No funciona muy bien con poca cantidad de datos.\n",
    "\n",
    "Estas dos desventajas, se pueden solucionar con el histograma cumulativo."
   ]
  },
  {
   "cell_type": "markdown",
   "metadata": {},
   "source": [
    "### Histograma cumulativo\n",
    "\n",
    "El histograma cumulativo es similar al histograma.\n",
    "\n",
    "Pero, en lugar de contar solo las mediciones que caen en un intervalo,\n",
    "\n",
    "se cuentan también todas las mediciones anteriores."
   ]
  },
  {
   "cell_type": "code",
   "execution_count": null,
   "metadata": {},
   "outputs": [],
   "source": [
    "plt.hist(data.tiempo_1, bins=10)\n",
    "plt.hist(data.tiempo_1, bins=10, cumulative=True, histtype=\"step\")\n",
    "\n",
    "plt.xlabel(\"Tiempo entre chasquidos [s]\")"
   ]
  },
  {
   "cell_type": "markdown",
   "metadata": {},
   "source": [
    "\n",
    "\n",
    "Nos permite aumentar la cantidad de `bins` todo lo que queramos:"
   ]
  },
  {
   "cell_type": "code",
   "execution_count": null,
   "metadata": {},
   "outputs": [],
   "source": [
    "bins = 30\n",
    "\n",
    "plt.hist(data.tiempo_1, bins=bins)\n",
    "plt.hist(data.tiempo_1, bins=bins, cumulative=True, histtype=\"step\")\n",
    "\n",
    "plt.xlabel(\"Tiempo entre chasquidos [s]\")"
   ]
  },
  {
   "cell_type": "markdown",
   "metadata": {},
   "source": [
    "Comparemos las dos tandas de mediciones:"
   ]
  },
  {
   "cell_type": "code",
   "execution_count": null,
   "metadata": {},
   "outputs": [],
   "source": [
    "plt.hist(data.tiempo_1, bins=1000, cumulative=True, histtype=\"step\")\n",
    "plt.hist(data.tiempo_2, bins=1000, cumulative=True, histtype=\"step\")\n",
    "\n",
    "plt.xlabel(\"Tiempo entre chasquidos [s]\")"
   ]
  }
 ],
 "metadata": {
  "interpreter": {
   "hash": "244c145c05c3be7348143fac78c25e32645fc4b9531ba6e4d63ab73ef891291c"
  },
  "kernelspec": {
   "display_name": "Python 3.10.2 ('python-tutorial')",
   "language": "python",
   "name": "python3"
  },
  "language_info": {
   "codemirror_mode": {
    "name": "ipython",
    "version": 3
   },
   "file_extension": ".py",
   "mimetype": "text/x-python",
   "name": "python",
   "nbconvert_exporter": "python",
   "pygments_lexer": "ipython3",
   "version": "3.10.2"
  },
  "orig_nbformat": 4
 },
 "nbformat": 4,
 "nbformat_minor": 2
}
