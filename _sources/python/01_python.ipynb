{
 "cells": [
  {
   "cell_type": "markdown",
   "id": "93e3096e",
   "metadata": {},
   "source": [
    "# Parte 1\n",
    "\n",
    "## Operadores\n",
    "\n",
    "### Operadores aritméticos\n",
    "\n",
    "Una forma fácil de empezar es [usando Python como una calculadora](https://docs.python.org/3/tutorial/introduction.html#using-python-as-a-calculator).\n",
    "\n",
    "A excepción de la exponenciación, que en otros lenguajes se usa el símbolo `^`, los operadores aritméticos son los estándar que se usan en otros lenguajes de progración, o fórmulas de Excel:\n",
    "\n",
    "```python\n",
    "+: suma\n",
    "-: resta\n",
    "*: multiplicación\n",
    "/: división\n",
    "**: exponenciación\n",
    "```\n",
    "\n",
    "Por ejemplo:"
   ]
  },
  {
   "cell_type": "code",
   "execution_count": 1,
   "id": "648625e2",
   "metadata": {
    "tags": []
   },
   "outputs": [
    {
     "data": {
      "text/plain": [
       "3.5"
      ]
     },
     "execution_count": 1,
     "metadata": {},
     "output_type": "execute_result"
    }
   ],
   "source": [
    "7 / 2"
   ]
  },
  {
   "cell_type": "markdown",
   "id": "1112798b",
   "metadata": {},
   "source": [
    "Otros operadores aritméticos que pueden ser de utilidad son:\n",
    "\n",
    "```python\n",
    "//: división entera\n",
    "%: módulo ó resto de la división entera\n",
    "@: multiplicación matricial\n",
    "```\n",
    "\n",
    "Por ejemplo, \"7 dividido 2 es 3 y el resto es 1\":"
   ]
  },
  {
   "cell_type": "code",
   "execution_count": 2,
   "id": "50afd620",
   "metadata": {
    "tags": []
   },
   "outputs": [
    {
     "data": {
      "text/plain": [
       "3"
      ]
     },
     "execution_count": 2,
     "metadata": {},
     "output_type": "execute_result"
    }
   ],
   "source": [
    "7 // 2"
   ]
  },
  {
   "cell_type": "code",
   "execution_count": 3,
   "id": "a7b230e8",
   "metadata": {
    "tags": []
   },
   "outputs": [
    {
     "data": {
      "text/plain": [
       "1"
      ]
     },
     "execution_count": 3,
     "metadata": {},
     "output_type": "execute_result"
    }
   ],
   "source": [
    "7 % 2"
   ]
  },
  {
   "cell_type": "markdown",
   "id": "7bbec6c3",
   "metadata": {},
   "source": [
    "En particular, el módulo es útil para chequear si un número es divisible por otro, ya que su módulo tiene que ser 0."
   ]
  },
  {
   "cell_type": "markdown",
   "id": "dc91cc7b",
   "metadata": {},
   "source": [
    "### Operadores de comparación\n",
    "\n",
    "Los operadores de comparación son:\n",
    "\n",
    "```python\n",
    ">: mayor\n",
    "<: menor\n",
    ">=: mayor o igual\n",
    "<=: menor o igual\n",
    "==: igual\n",
    "!=: distinto\n",
    "```\n",
    "\n",
    "y devuelven `True` o `False`, un tipo de dato llamado `bool`eano."
   ]
  },
  {
   "cell_type": "code",
   "execution_count": 4,
   "id": "73948cde",
   "metadata": {
    "tags": []
   },
   "outputs": [
    {
     "data": {
      "text/plain": [
       "True"
      ]
     },
     "execution_count": 4,
     "metadata": {},
     "output_type": "execute_result"
    }
   ],
   "source": [
    "5 > 3"
   ]
  },
  {
   "cell_type": "code",
   "execution_count": 5,
   "id": "1c3e3b4c",
   "metadata": {
    "tags": []
   },
   "outputs": [
    {
     "data": {
      "text/plain": [
       "False"
      ]
     },
     "execution_count": 5,
     "metadata": {},
     "output_type": "execute_result"
    }
   ],
   "source": [
    "2 + 2 == 5  # Es equivalente a (2 + 2) == 5"
   ]
  },
  {
   "cell_type": "markdown",
   "id": "042d54f3",
   "metadata": {},
   "source": [
    "Noten que para chequear igualdad hay que poner doble `=`.\n",
    "\n",
    "Si ponemos un único igual, nos va a *arrojar* un error:"
   ]
  },
  {
   "cell_type": "code",
   "execution_count": 6,
   "id": "bc2a5176",
   "metadata": {
    "tags": [
     "raises-exception"
    ]
   },
   "outputs": [
    {
     "ename": "SyntaxError",
     "evalue": "cannot assign to literal (<ipython-input-6-667480b6e489>, line 1)",
     "output_type": "error",
     "traceback": [
      "\u001b[0;36m  File \u001b[0;32m\"<ipython-input-6-667480b6e489>\"\u001b[0;36m, line \u001b[0;32m1\u001b[0m\n\u001b[0;31m    4 = 5\u001b[0m\n\u001b[0m    ^\u001b[0m\n\u001b[0;31mSyntaxError\u001b[0m\u001b[0;31m:\u001b[0m cannot assign to literal\n"
     ]
    }
   ],
   "source": [
    "4 = 5"
   ]
  },
  {
   "cell_type": "markdown",
   "id": "b10c5cce",
   "metadata": {},
   "source": [
    "Es importante aprender a leer el error, porque nos da pistas de como resolverlo. O, al menos, para pedir ayuda si no lo podemos resolver.\n",
    "\n",
    "Nos dice que es un `SyntaxError` (error de sintaxis), porque no se puede *asignar* a un *literal*, y nos marca en qué línea sucedió el error.\n",
    "\n",
    "Al escribir `4 = 5`, estamos tratando de redefinir el `4` como `5`, porque el `=` se utiliza para realizar asignaciones."
   ]
  },
  {
   "cell_type": "markdown",
   "id": "1bcada0b",
   "metadata": {},
   "source": [
    "## Asignación de variables\n",
    "\n",
    "En Python, **todo es un objeto**. Objeto no es sinónimo de \"cosa\", sino que tiene un significado particular en computación, en el cual no vamos a profundizar en esta introducción. Como veremos más adelante, hay distintos tipos de objetos, con distintas propiedades y funcionalidades. Por ahora, sigamos pensando en números, que son los únicos objetos que vimos.\n",
    "\n",
    "Como bien explica [esta presentación](https://www.youtube.com/watch?v=_AEJHKGk9ns), asignar una variable es simplemente **darle un nombre a un objeto**. Generalmente, se dice (y diremos) que se *guarda* un objeto en una variable.\n",
    "\n",
    "Casi cualquier palabra es un [nombre válido para una variable](https://docs.python.org/3/reference/lexical_analysis.html#identifiers), aunque hay [ciertas palabras que están reservadas](https://docs.python.org/3/reference/lexical_analysis.html#keywords) ya que corresponden a *comandos*. Lo ideal es ponerle un nombre bien descriptivo, que *documente* que es lo que está *guardado* ahí. Por ejemplo, si la variable guarda una longitud, llámenla `longitud` y no `x`. Es importante para que se pueda entender más fácilmente qué está haciendo el código, sobretodo al leerlo más adelante.\n",
    "\n",
    "Por ahora, vamos a ignorar nuestro consejo y usar `x`:"
   ]
  },
  {
   "cell_type": "code",
   "execution_count": 7,
   "id": "6fdd9afb",
   "metadata": {
    "tags": [
     "raises-exception"
    ]
   },
   "outputs": [
    {
     "ename": "NameError",
     "evalue": "name 'x' is not defined",
     "output_type": "error",
     "traceback": [
      "\u001b[0;31m---------------------------------------------------------------------------\u001b[0m",
      "\u001b[0;31mNameError\u001b[0m                                 Traceback (most recent call last)",
      "\u001b[0;32m<ipython-input-7-6fcf9dfbd479>\u001b[0m in \u001b[0;36m<module>\u001b[0;34m\u001b[0m\n\u001b[0;32m----> 1\u001b[0;31m \u001b[0mx\u001b[0m\u001b[0;34m\u001b[0m\u001b[0;34m\u001b[0m\u001b[0m\n\u001b[0m",
      "\u001b[0;31mNameError\u001b[0m: name 'x' is not defined"
     ]
    }
   ],
   "source": [
    "x"
   ]
  },
  {
   "cell_type": "markdown",
   "id": "0c3a4f5e",
   "metadata": {},
   "source": [
    "Nos *arrojó* un error. Claro, no *guardamos* nada en `x` aún:"
   ]
  },
  {
   "cell_type": "code",
   "execution_count": 8,
   "id": "2c4e1da9",
   "metadata": {
    "tags": []
   },
   "outputs": [],
   "source": [
    "x = 3"
   ]
  },
  {
   "cell_type": "markdown",
   "id": "b62e5527",
   "metadata": {},
   "source": [
    "Noten que al asignar una variable, no *devuelve* nada. Si queremos ver que está guardado en `x`, podemos poner simplemente `x` en una celda:"
   ]
  },
  {
   "cell_type": "code",
   "execution_count": 9,
   "id": "38d92b31",
   "metadata": {
    "tags": []
   },
   "outputs": [
    {
     "data": {
      "text/plain": [
       "3"
      ]
     },
     "execution_count": 9,
     "metadata": {},
     "output_type": "execute_result"
    }
   ],
   "source": [
    "x"
   ]
  },
  {
   "cell_type": "markdown",
   "id": "36fd7ecd",
   "metadata": {},
   "source": [
    "o, también, podemos usar la función `print`:"
   ]
  },
  {
   "cell_type": "code",
   "execution_count": 10,
   "id": "3b833c55",
   "metadata": {
    "tags": []
   },
   "outputs": [
    {
     "name": "stdout",
     "output_type": "stream",
     "text": [
      "3\n"
     ]
    }
   ],
   "source": [
    "print(x)"
   ]
  },
  {
   "cell_type": "markdown",
   "id": "22ce1671",
   "metadata": {},
   "source": [
    "Para hacer más *legible* el código, es importante ir guardando resultados intermedios en distintas variables.\n",
    "\n",
    "Por ejemplo, ahora podemos usar este *resultado intermedio* en otras operaciones:"
   ]
  },
  {
   "cell_type": "code",
   "execution_count": 11,
   "id": "74227c76",
   "metadata": {},
   "outputs": [
    {
     "data": {
      "text/plain": [
       "6"
      ]
     },
     "execution_count": 11,
     "metadata": {},
     "output_type": "execute_result"
    }
   ],
   "source": [
    "2 * x"
   ]
  },
  {
   "cell_type": "markdown",
   "id": "850fffa9",
   "metadata": {},
   "source": [
    "que, a su vez, podriamos guardarlo en otra variable:"
   ]
  },
  {
   "cell_type": "code",
   "execution_count": 12,
   "id": "cf262d18",
   "metadata": {
    "tags": []
   },
   "outputs": [
    {
     "data": {
      "text/plain": [
       "6"
      ]
     },
     "execution_count": 12,
     "metadata": {},
     "output_type": "execute_result"
    }
   ],
   "source": [
    "y = 2 * x\n",
    "\n",
    "y"
   ]
  },
  {
   "cell_type": "markdown",
   "id": "e409f046",
   "metadata": {},
   "source": [
    "Al principio, algo potencialmente confuso es que se puede hacer esto:"
   ]
  },
  {
   "cell_type": "code",
   "execution_count": 13,
   "id": "0a59bdcb",
   "metadata": {},
   "outputs": [],
   "source": [
    "x = x + 1"
   ]
  },
  {
   "cell_type": "markdown",
   "id": "d62a2ee5",
   "metadata": {},
   "source": [
    "¿Cuánto vale `x` ahora?"
   ]
  },
  {
   "cell_type": "code",
   "execution_count": 14,
   "id": "8404d033",
   "metadata": {
    "tags": []
   },
   "outputs": [
    {
     "data": {
      "text/plain": [
       "4"
      ]
     },
     "execution_count": 14,
     "metadata": {},
     "output_type": "execute_result"
    }
   ],
   "source": [
    "x"
   ]
  },
  {
   "cell_type": "markdown",
   "id": "8ea7a271",
   "metadata": {},
   "source": [
    "Si corrimos la celda una única vez, lo que pasó fue lo siguiente:\n",
    "\n",
    "1. Al empezar, `x` es 3\n",
    "2. Le pedimos que *corra*: `x = x + 1`\n",
    "3. Se reemplazan las variables a la derecha del `=`: `x + 1` -> `3 + 1`\n",
    "4. Se calcula el resultado: `3 + 1` -> `4`\n",
    "4. Se *guarda* el resultado: `x = 4`\n",
    "\n",
    "Reiterando, el `=` no representa una igualdad, sino una asignación.\n",
    "\n",
    "### Asignación multiple\n",
    "\n",
    "Para asignar multiples variables a la vez, se puede hacer una asignación por linea:"
   ]
  },
  {
   "cell_type": "code",
   "execution_count": 15,
   "id": "27d0b5d0",
   "metadata": {
    "tags": []
   },
   "outputs": [],
   "source": [
    "x = 1\n",
    "y = 2"
   ]
  },
  {
   "cell_type": "markdown",
   "id": "45a1034e",
   "metadata": {},
   "source": [
    "o, todo en una línea, separandolas por comas:"
   ]
  },
  {
   "cell_type": "code",
   "execution_count": 16,
   "id": "5897f963",
   "metadata": {
    "tags": []
   },
   "outputs": [],
   "source": [
    "x, y = 1, 2"
   ]
  },
  {
   "cell_type": "markdown",
   "id": "c7c0d357",
   "metadata": {},
   "source": [
    "- A la derecha del igual, se esta usando una tupla (`tuple`), un conjunto ordenado de objetos, que introduciremos más adelante.\n",
    "- A la izquierda del igual, se usa lo que se llama `tuple unpacking`, que no vamos a entrar en detalle en esta introducción a Python, pero sí lo vamos a usar.\n",
    "\n",
    "En principio, ambas maneras son equivalentes. Pero, desde el punto de hacer más legible el código, la segunda da a entender que `x` e `y` están relacionados, por ejemplo, que son las coordenadas de un punto $(x, y)$."
   ]
  },
  {
   "cell_type": "markdown",
   "id": "b4978d1a",
   "metadata": {
    "tags": []
   },
   "source": [
    "De la misma manera, se puede mostrar el resultado de más de una variable con una tupla:"
   ]
  },
  {
   "cell_type": "code",
   "execution_count": 17,
   "id": "57c12334",
   "metadata": {
    "tags": []
   },
   "outputs": [
    {
     "data": {
      "text/plain": [
       "(1, 2)"
      ]
     },
     "execution_count": 17,
     "metadata": {},
     "output_type": "execute_result"
    }
   ],
   "source": [
    "x, y"
   ]
  },
  {
   "cell_type": "markdown",
   "id": "bc26857b",
   "metadata": {},
   "source": [
    "pero no poniéndolas en distintas lineas:"
   ]
  },
  {
   "cell_type": "code",
   "execution_count": 18,
   "id": "e770cd21",
   "metadata": {
    "tags": []
   },
   "outputs": [
    {
     "data": {
      "text/plain": [
       "2"
      ]
     },
     "execution_count": 18,
     "metadata": {},
     "output_type": "execute_result"
    }
   ],
   "source": [
    "x\n",
    "y"
   ]
  },
  {
   "cell_type": "markdown",
   "id": "3539cacb",
   "metadata": {},
   "source": [
    "ya que solo se nos muestra el resultado de la última linea, si no es una asignación.\n",
    "\n",
    "En cambio, sí funciona con `print`:"
   ]
  },
  {
   "cell_type": "code",
   "execution_count": 19,
   "id": "604f9f46",
   "metadata": {
    "tags": []
   },
   "outputs": [
    {
     "name": "stdout",
     "output_type": "stream",
     "text": [
      "1\n",
      "2\n"
     ]
    }
   ],
   "source": [
    "print(x)\n",
    "print(y)"
   ]
  },
  {
   "cell_type": "markdown",
   "id": "68bb98be",
   "metadata": {},
   "source": [
    "## Ejercicio 1\n",
    "\n",
    "Calcule las raíces del polinomio $2x^2 - 10x + 8$.\n",
    "\n",
    "**Ayuda:**\n",
    "\n",
    "- Para un polinomio de la forma $ax^2 + bx + c$, las raices $x_1$ y $x_2$ vienen dadas por:\n",
    "\n",
    "$$ x_{1, 2} = \\frac{-b \\pm \\sqrt{b^2 - 4ac}}{2a}$$\n",
    "\n",
    "- Para calcular la raiz, se puede hacer una exponenciación: $\\sqrt{x} = x^{1/2}$\n",
    "\n",
    "- Las raíces son $x=1$ y $x=4$."
   ]
  },
  {
   "cell_type": "code",
   "execution_count": 20,
   "id": "c0599d4f",
   "metadata": {},
   "outputs": [],
   "source": [
    "# Complete el código aquí"
   ]
  },
  {
   "cell_type": "markdown",
   "id": "2c6ec397",
   "metadata": {},
   "source": [
    "### Solución"
   ]
  },
  {
   "cell_type": "code",
   "execution_count": 21,
   "id": "13b73fb3",
   "metadata": {
    "jupyter": {
     "source_hidden": true
    },
    "tags": [
     "hide-input"
    ]
   },
   "outputs": [
    {
     "data": {
      "text/plain": [
       "(4.0, 1.0)"
      ]
     },
     "execution_count": 21,
     "metadata": {},
     "output_type": "execute_result"
    }
   ],
   "source": [
    "a, b, c = 2, -10, 8\n",
    "\n",
    "disc = (b ** 2 - 4 * a * c) ** (1 / 2)\n",
    "raiz_1 = (-b + disc) / (2 * a)\n",
    "raiz_2 = (-b - disc) / (2 * a)\n",
    "\n",
    "raiz_1, raiz_2"
   ]
  },
  {
   "cell_type": "markdown",
   "id": "4ab53e4d",
   "metadata": {},
   "source": [
    "Aunque hay distintas formas de escribir la solución, pero quiero resaltar lo siguiente de esta solución:\n",
    "\n",
    "1. Por empezar, se asignaron los coeficientes del polinomio a distintas variables. Una mala práctica en programación es *[hardcodear](https://en.wikipedia.org/wiki/Hard_coding)* valores en el código. Por ejemplo, si hubiesemos puesto directamente los coeficientes en la fórmula de las raíces. Si después quisieramos usar el código para otro polinomio, tendríamos que cambiar todos los lugares donde aparecen `a`, `b` y `c`, en lugar de cambiarlos en un único lugar al inicio.\n",
    "\n",
    "1. Las variables de entrada (`a`, `b` y `c`) se podrían haber asignado en lineas separadas. Pero asignarlas en una sola linea da a entender que *están relacionadas*. En este caso, son los coeficientes del mismo polinomio.\n",
    "\n",
    "1. En lugar de llamar a las raices del polinomio `x1` y `x2`, las llamamos con un nombre más descriptivo `raiz_1` y `raiz_2`.\n",
    "\n",
    "1. El uso de la variable intermedia `disc`, el *discriminante* de la cuadrática, que hace el código más legible. Pero no solo eso: si el *choclo* que es `disc` se repitiera dos veces, en `raiz_1` y `raiz_2`, también podría dar lugar a errores, por ejemplo, al poner mal un signo en una de las fórmulas."
   ]
  },
  {
   "cell_type": "markdown",
   "id": "4c6ce217",
   "metadata": {},
   "source": [
    "## Tipos de objetos\n",
    "\n",
    "Como mencionamos antes, en Python, **todo es un objeto**. Por ahora, solo nos va a importar que hay distintos tipos de objetos, y que se comportan de manera diferente.\n",
    "\n",
    "Para saber el tipo de un objeto, hay que usar la función `type`. Por ejemplo, el tipo del número `2` es:"
   ]
  },
  {
   "cell_type": "code",
   "execution_count": 22,
   "id": "1ed00e53",
   "metadata": {
    "tags": []
   },
   "outputs": [
    {
     "data": {
      "text/plain": [
       "int"
      ]
     },
     "execution_count": 22,
     "metadata": {},
     "output_type": "execute_result"
    }
   ],
   "source": [
    "type(2)"
   ]
  },
  {
   "cell_type": "markdown",
   "id": "c6cc041b",
   "metadata": {},
   "source": [
    "Algunos tipos de objetos básicos son estos:\n",
    "\n",
    "| Tipo de objeto | Significado | Ejemplo |\n",
    "| :-: | :-: | :-: |\n",
    "| int | número entero | `2` |\n",
    "| float | número de punto flotante | `1.5` |\n",
    "| str | cadena de texto | `\"hola\"` |\n",
    "| bool | booleano | `True` |\n",
    "| NoneType | ? | `None` |\n",
    "| tuple | tupla | `(1.0, \"dos\", 42, True)` |\n",
    "| list | lista | `[1.0, \"dos\", 42, True]` |\n",
    "| dict | diccionario | `{\"uno\": 1, \"dos\": 2}` |\n",
    "\n",
    "Pueden notar que hay dos tipos de números: los enteros (`int`) y los de [punto flotante](https://en.wikipedia.org/wiki/Floating-point_arithmetic) (`float`), que permiten representar números no enteros, un \"número con decimales\".\n",
    "\n",
    "Por ejemplo, si sumamos dos `int`, obtenemos otro `int`:"
   ]
  },
  {
   "cell_type": "code",
   "execution_count": 23,
   "id": "e0aa5e3b",
   "metadata": {
    "tags": []
   },
   "outputs": [
    {
     "data": {
      "text/plain": [
       "(4, int)"
      ]
     },
     "execution_count": 23,
     "metadata": {},
     "output_type": "execute_result"
    }
   ],
   "source": [
    "x = 2 + 2\n",
    "\n",
    "x, type(x)"
   ]
  },
  {
   "cell_type": "markdown",
   "id": "cddef05a",
   "metadata": {},
   "source": [
    "Pero si dividimos dos `int`, obtenemos un `float`:"
   ]
  },
  {
   "cell_type": "code",
   "execution_count": 24,
   "id": "17044a96",
   "metadata": {},
   "outputs": [
    {
     "data": {
      "text/plain": [
       "(4.0, float)"
      ]
     },
     "execution_count": 24,
     "metadata": {},
     "output_type": "execute_result"
    }
   ],
   "source": [
    "x = 8 / 2\n",
    "\n",
    "x, type(x)"
   ]
  },
  {
   "cell_type": "markdown",
   "id": "8242423c",
   "metadata": {},
   "source": [
    "Incluso si el resultado pudiese ser representado por un entero. Python no sabe a priori que va a dar, así que convierte los números a `float` antes de hacer la división.\n",
    "\n",
    "Por ahora, los usamos indistintamente, pero la diferencia es importante por (al menos) dos razones:\n",
    "\n",
    "1. Hay ciertos lugares donde Python requiere que se utilize un `int`. Siempre podemos convertir un `float` en un `int` de la siguiente manera:"
   ]
  },
  {
   "cell_type": "code",
   "execution_count": 25,
   "id": "73aa7de2",
   "metadata": {
    "tags": []
   },
   "outputs": [
    {
     "data": {
      "text/plain": [
       "4"
      ]
     },
     "execution_count": 25,
     "metadata": {},
     "output_type": "execute_result"
    }
   ],
   "source": [
    "int(4.0)"
   ]
  },
  {
   "cell_type": "markdown",
   "id": "39cc7aa1",
   "metadata": {},
   "source": [
    "2. Hay que tener cuidado al comparar `float`s:"
   ]
  },
  {
   "cell_type": "code",
   "execution_count": 26,
   "id": "9429c6c5",
   "metadata": {
    "tags": []
   },
   "outputs": [
    {
     "data": {
      "text/plain": [
       "False"
      ]
     },
     "execution_count": 26,
     "metadata": {},
     "output_type": "execute_result"
    }
   ],
   "source": [
    "x = 0.1 + 0.2\n",
    "\n",
    "x == 0.3"
   ]
  },
  {
   "cell_type": "markdown",
   "id": "191bef51",
   "metadata": {},
   "source": [
    "porque `x` es:"
   ]
  },
  {
   "cell_type": "code",
   "execution_count": 27,
   "id": "ed3148af",
   "metadata": {
    "tags": []
   },
   "outputs": [
    {
     "data": {
      "text/plain": [
       "0.30000000000000004"
      ]
     },
     "execution_count": 27,
     "metadata": {},
     "output_type": "execute_result"
    }
   ],
   "source": [
    "x"
   ]
  },
  {
   "cell_type": "markdown",
   "id": "9c935d15",
   "metadata": {},
   "source": [
    "*Extra: [cómic al respecto en SMBC Comics](https://www.smbc-comics.com/comic/2013-06-05).*\n",
    "\n",
    "Para comparar `float`s, hay que elegir una tolerancia, por ejemplo, $10^{-15}$, chequear si se encuentran a menos de esa distancia: $|x-y| < 10^{-15}$"
   ]
  },
  {
   "cell_type": "code",
   "execution_count": 28,
   "id": "d3f2a666",
   "metadata": {
    "tags": []
   },
   "outputs": [
    {
     "data": {
      "text/plain": [
       "True"
      ]
     },
     "execution_count": 28,
     "metadata": {},
     "output_type": "execute_result"
    }
   ],
   "source": [
    "abs(x - 0.3) < 1e-15"
   ]
  },
  {
   "cell_type": "markdown",
   "id": "00bff02f",
   "metadata": {},
   "source": [
    "## Cadenas de texto\n",
    "\n",
    "Las cadenas de texto, o *strings*, son el tipo de objeto que Python usa para texto. Nos van a servir para decirle a Python, por ejemplo, el nombre de un archivo, o darle el texto para poner en los ejes de un gráfico.\n",
    "\n",
    "Se pueden definir tanto comillas simples como dobles: `'hola'` o `\"hola\"`. También esta la opción de triple comilla, que sirve para texto de multiples renglones:"
   ]
  },
  {
   "cell_type": "code",
   "execution_count": 29,
   "id": "c73ffc5c",
   "metadata": {
    "tags": []
   },
   "outputs": [
    {
     "data": {
      "text/plain": [
       "'Este es un\\nstring de\\nmultiples\\nrenglones.'"
      ]
     },
     "execution_count": 29,
     "metadata": {},
     "output_type": "execute_result"
    }
   ],
   "source": [
    "\"\"\"Este es un\n",
    "string de\n",
    "multiples\n",
    "renglones.\"\"\""
   ]
  },
  {
   "cell_type": "markdown",
   "id": "3be111c1",
   "metadata": {},
   "source": [
    "Noten que divide los renglones con un `\\n`, que es el código que se usa para señalar que comienza una nueva linea.\n",
    "\n",
    "Python interpreta la suma entre `str` como concatenación:"
   ]
  },
  {
   "cell_type": "code",
   "execution_count": 30,
   "id": "5755c705",
   "metadata": {},
   "outputs": [
    {
     "data": {
      "text/plain": [
       "'holamundo'"
      ]
     },
     "execution_count": 30,
     "metadata": {},
     "output_type": "execute_result"
    }
   ],
   "source": [
    "\"hola\" + \"mundo\""
   ]
  },
  {
   "cell_type": "markdown",
   "id": "a864c6db",
   "metadata": {},
   "source": [
    "Incluso si son números:"
   ]
  },
  {
   "cell_type": "code",
   "execution_count": 31,
   "id": "785c53d1",
   "metadata": {},
   "outputs": [
    {
     "data": {
      "text/plain": [
       "'22'"
      ]
     },
     "execution_count": 31,
     "metadata": {},
     "output_type": "execute_result"
    }
   ],
   "source": [
    "\"2\" + \"2\""
   ]
  },
  {
   "cell_type": "markdown",
   "id": "f4bc3a91",
   "metadata": {},
   "source": [
    "A diferencia de *cierto otro lenguaje que no vamos a nombrar*, Python arroja un error de tipo (`TypeError`) cuando se quieren sumar números y *strings*:"
   ]
  },
  {
   "cell_type": "code",
   "execution_count": 32,
   "id": "e6f93109",
   "metadata": {
    "tags": [
     "raises-exception"
    ]
   },
   "outputs": [
    {
     "ename": "TypeError",
     "evalue": "unsupported operand type(s) for +: 'int' and 'str'",
     "output_type": "error",
     "traceback": [
      "\u001b[0;31m---------------------------------------------------------------------------\u001b[0m",
      "\u001b[0;31mTypeError\u001b[0m                                 Traceback (most recent call last)",
      "\u001b[0;32m<ipython-input-32-80052203e394>\u001b[0m in \u001b[0;36m<module>\u001b[0;34m\u001b[0m\n\u001b[0;32m----> 1\u001b[0;31m \u001b[0;36m2\u001b[0m \u001b[0;34m+\u001b[0m \u001b[0;34m\"2\"\u001b[0m\u001b[0;34m\u001b[0m\u001b[0;34m\u001b[0m\u001b[0m\n\u001b[0m",
      "\u001b[0;31mTypeError\u001b[0m: unsupported operand type(s) for +: 'int' and 'str'"
     ]
    }
   ],
   "source": [
    "2 + \"2\""
   ]
  },
  {
   "cell_type": "markdown",
   "id": "e1c02e7e",
   "metadata": {},
   "source": [
    "porque no sabe si queremos de resultado `4` o `\"22\"` y, ante la duda, prefiere no adivinar."
   ]
  },
  {
   "cell_type": "markdown",
   "id": "adade5e7",
   "metadata": {},
   "source": [
    "### f-strings\n",
    "\n",
    "Hay diversas maneras de insertar variables dentro de *strings*, pero la más legible (y por lo tanto, recomendada) es la de los `f-strings`, que consiste en poner una `f` antes de abrir comillas y poner las variables encerradas en llaves `{}`. Por ejemplo:"
   ]
  },
  {
   "cell_type": "code",
   "execution_count": 33,
   "id": "5e2ae29d",
   "metadata": {},
   "outputs": [],
   "source": [
    "x = 42"
   ]
  },
  {
   "cell_type": "code",
   "execution_count": 34,
   "id": "432047e6",
   "metadata": {},
   "outputs": [
    {
     "data": {
      "text/plain": [
       "'La respuesta es x'"
      ]
     },
     "execution_count": 34,
     "metadata": {},
     "output_type": "execute_result"
    }
   ],
   "source": [
    "\"La respuesta es x\""
   ]
  },
  {
   "cell_type": "code",
   "execution_count": 35,
   "id": "a9064beb",
   "metadata": {
    "tags": []
   },
   "outputs": [
    {
     "data": {
      "text/plain": [
       "'La respuesta es 42'"
      ]
     },
     "execution_count": 35,
     "metadata": {},
     "output_type": "execute_result"
    }
   ],
   "source": [
    "f\"La respuesta es {x}\""
   ]
  },
  {
   "cell_type": "markdown",
   "id": "5750148b",
   "metadata": {},
   "source": [
    "Se puede especificar el formato en el que convierte la variable a texto, por ejemplo, para redondear hasta determinado número de decimales:"
   ]
  },
  {
   "cell_type": "code",
   "execution_count": 36,
   "id": "c0216555",
   "metadata": {
    "tags": []
   },
   "outputs": [
    {
     "data": {
      "text/plain": [
       "'Pi = 3.14'"
      ]
     },
     "execution_count": 36,
     "metadata": {},
     "output_type": "execute_result"
    }
   ],
   "source": [
    "pi = 3.141592\n",
    "\n",
    "f\"Pi = {pi:.2f}\""
   ]
  },
  {
   "cell_type": "markdown",
   "id": "94f9d4c9",
   "metadata": {},
   "source": [
    "Pueden ver en la [documentación](https://docs.python.org/3/library/string.html#formatspec), si quieren ver todas las opciones disponibles."
   ]
  },
  {
   "cell_type": "markdown",
   "id": "5d6dde37",
   "metadata": {},
   "source": [
    "## Funciones\n",
    "\n",
    "Las funciones son bloques de código que reciben párametros, realizan una serie de acciones, y devuelven un resultado.\n",
    "\n",
    "Es más fácil entenderlo con un ejemplo simple. Definamos una función para calcular el largo de un vector:"
   ]
  },
  {
   "cell_type": "code",
   "execution_count": 37,
   "id": "871ec709",
   "metadata": {
    "tags": []
   },
   "outputs": [],
   "source": [
    "def norma_vector(x, y):\n",
    "    \"\"\"Calcula la norma euclídea del vector (x, y)\"\"\"\n",
    "    r2 = x ** 2 + y ** 2\n",
    "    return r2 ** (1 / 2)"
   ]
  },
  {
   "cell_type": "markdown",
   "id": "7ab13fc0",
   "metadata": {},
   "source": [
    "Ahora tenemos una variable llamada `norma_vector` que *apunta* a la función:"
   ]
  },
  {
   "cell_type": "code",
   "execution_count": 38,
   "id": "0dfa12a4",
   "metadata": {
    "tags": []
   },
   "outputs": [
    {
     "data": {
      "text/plain": [
       "<function __main__.norma_vector(x, y)>"
      ]
     },
     "execution_count": 38,
     "metadata": {},
     "output_type": "execute_result"
    }
   ],
   "source": [
    "norma_vector"
   ]
  },
  {
   "cell_type": "markdown",
   "id": "4a38cf5f",
   "metadata": {},
   "source": [
    "Y podemos *llamar* a la función pasandole los argumentos entre paréntesis:"
   ]
  },
  {
   "cell_type": "code",
   "execution_count": 39,
   "id": "de4ac1e3",
   "metadata": {
    "tags": []
   },
   "outputs": [
    {
     "data": {
      "text/plain": [
       "5.0"
      ]
     },
     "execution_count": 39,
     "metadata": {},
     "output_type": "execute_result"
    }
   ],
   "source": [
    "norma_vector(3, 4)"
   ]
  },
  {
   "cell_type": "markdown",
   "id": "2e4c6865",
   "metadata": {},
   "source": [
    "Sobre la definición de una función, hay varios puntos a resaltar:\n",
    "\n",
    "1. La *indentación*, es decir, el espacio en blanco que hay al principio de cada linea dentro del bloque que define la función. Python utiliza este espacio en blanco para delimitar bloques y saber dónde termina la función. Por convención, se usan 4 espacios en blanco, y las IDEs, como Jupyter, insertan 4 espacios al presionar `Tab`.\n",
    "\n",
    "2. El `return`, que es lo que va a devolver la función. Esta termina cuando llega a un `return`. Si no hay ninguno, termina cuando llega al final del bloque y devuelve implicitamente un `None`.\n",
    "\n",
    "3. El nombre, al igual que las variables, tiene que ser descriptivo, para poder saber que hace la función sin tener que ir a leer su código.\n",
    "\n",
    "4. El *docstring*, o *string* de documentación, que es la primer linea dentro del bloque de la función. Describe brevemente que hace la función, que parámetros toma y que devuelve. Se puede acceder a ellas con la función `help`:"
   ]
  },
  {
   "cell_type": "code",
   "execution_count": 40,
   "id": "91100928",
   "metadata": {
    "tags": []
   },
   "outputs": [
    {
     "name": "stdout",
     "output_type": "stream",
     "text": [
      "Help on function norma_vector in module __main__:\n",
      "\n",
      "norma_vector(x, y)\n",
      "    Calcula la norma euclídea del vector (x, y)\n",
      "\n"
     ]
    }
   ],
   "source": [
    "help(norma_vector)"
   ]
  },
  {
   "cell_type": "markdown",
   "id": "1c04f113",
   "metadata": {},
   "source": [
    "También, según que IDE estén usando, hay otras maneras de mostrar la ayuda. Por ejemplo, en Jupyter es `Shift + Tab`."
   ]
  },
  {
   "cell_type": "markdown",
   "id": "f36050cd",
   "metadata": {},
   "source": [
    "### Formas de llamar funciones"
   ]
  },
  {
   "cell_type": "markdown",
   "id": "bc61d682",
   "metadata": {},
   "source": [
    "Hay diferentes maneras de llamar a la función. En general, se puede pasar los argumentos por posición (como hicimos antes), por nombre, o una mezcla de ambos:\n",
    "\n",
    "```python\n",
    "norma_vector(3, 4)      # por posición\n",
    "\n",
    "norma_vector(x=3, y=4)  # por nombre o keyword\n",
    "norma_vector(y=4, x=3)  # no hace falta respetar el orden\n",
    "\n",
    "norma_vector(3, y=4)    # mixto\n",
    "```\n",
    "\n",
    "Todas estas formas de llamar la función son válidas y dan el mismo resultado.\n",
    "\n",
    "En cambio, nos va a tirar un error si nos olvidamos de un parametro:"
   ]
  },
  {
   "cell_type": "code",
   "execution_count": 41,
   "id": "bef2cb4d",
   "metadata": {
    "tags": [
     "raises-exception"
    ]
   },
   "outputs": [
    {
     "ename": "TypeError",
     "evalue": "norma_vector() missing 1 required positional argument: 'y'",
     "output_type": "error",
     "traceback": [
      "\u001b[0;31m---------------------------------------------------------------------------\u001b[0m",
      "\u001b[0;31mTypeError\u001b[0m                                 Traceback (most recent call last)",
      "\u001b[0;32m<ipython-input-41-a5b88701c76a>\u001b[0m in \u001b[0;36m<module>\u001b[0;34m\u001b[0m\n\u001b[0;32m----> 1\u001b[0;31m \u001b[0mnorma_vector\u001b[0m\u001b[0;34m(\u001b[0m\u001b[0;36m1\u001b[0m\u001b[0;34m)\u001b[0m\u001b[0;34m\u001b[0m\u001b[0;34m\u001b[0m\u001b[0m\n\u001b[0m",
      "\u001b[0;31mTypeError\u001b[0m: norma_vector() missing 1 required positional argument: 'y'"
     ]
    }
   ],
   "source": [
    "norma_vector(1)"
   ]
  },
  {
   "cell_type": "markdown",
   "id": "6a89937f",
   "metadata": {},
   "source": [
    "O si ponemos argumentos posicionales despues de los que son por nombre:"
   ]
  },
  {
   "cell_type": "code",
   "execution_count": 42,
   "id": "4cb742e0",
   "metadata": {
    "tags": [
     "raises-exception"
    ]
   },
   "outputs": [
    {
     "ename": "SyntaxError",
     "evalue": "positional argument follows keyword argument (<ipython-input-42-1bfe2a714e8f>, line 1)",
     "output_type": "error",
     "traceback": [
      "\u001b[0;36m  File \u001b[0;32m\"<ipython-input-42-1bfe2a714e8f>\"\u001b[0;36m, line \u001b[0;32m1\u001b[0m\n\u001b[0;31m    norma_vector(y=2, 1)\u001b[0m\n\u001b[0m                      ^\u001b[0m\n\u001b[0;31mSyntaxError\u001b[0m\u001b[0;31m:\u001b[0m positional argument follows keyword argument\n"
     ]
    }
   ],
   "source": [
    "norma_vector(y=2, 1)"
   ]
  },
  {
   "cell_type": "markdown",
   "id": "0ad335ea",
   "metadata": {},
   "source": [
    "### Más formas de definir funciones\n",
    "\n",
    "Hay más formas de definir funciones:\n",
    "\n",
    "- funciones con valores por defecto para ciertos paramétros\n",
    "- que acepten una cantidad variable de parámetros (posicionales, por nombre, o ambos)\n",
    "- que limiten ciertos parárametros a ser solo posicionales, o solo por nombre\n",
    "- funciones \"anónimas\", con el comando `lambda`\n",
    "\n",
    "Para definir parámetros por defecto, se *asigna* un valor en la definición de la función:\n",
    "\n",
    "```python\n",
    "def funcion(x, y=1):\n",
    "    ...\n",
    "```\n",
    "\n",
    "Veamos una función que ya usamos y define variables por defecto:"
   ]
  },
  {
   "cell_type": "code",
   "execution_count": 43,
   "id": "a6fc994a",
   "metadata": {
    "tags": []
   },
   "outputs": [
    {
     "name": "stdout",
     "output_type": "stream",
     "text": [
      "Help on built-in function print in module builtins:\n",
      "\n",
      "print(...)\n",
      "    print(value, ..., sep=' ', end='\\n', file=sys.stdout, flush=False)\n",
      "    \n",
      "    Prints the values to a stream, or to sys.stdout by default.\n",
      "    Optional keyword arguments:\n",
      "    file:  a file-like object (stream); defaults to the current sys.stdout.\n",
      "    sep:   string inserted between values, default a space.\n",
      "    end:   string appended after the last value, default a newline.\n",
      "    flush: whether to forcibly flush the stream.\n",
      "\n"
     ]
    }
   ],
   "source": [
    "help(print)"
   ]
  },
  {
   "cell_type": "markdown",
   "id": "7b1d8b1e",
   "metadata": {},
   "source": [
    "`print` tiene ciertos parametros que controlan cómo y a dónde *imprime*. Por defecto, agrega una nueva linea, `\"\\n\"`, al final de lo que imprime:"
   ]
  },
  {
   "cell_type": "code",
   "execution_count": 44,
   "id": "fdeb200c",
   "metadata": {
    "tags": []
   },
   "outputs": [
    {
     "name": "stdout",
     "output_type": "stream",
     "text": [
      "1\n",
      "2\n"
     ]
    }
   ],
   "source": [
    "print(1)\n",
    "print(2)"
   ]
  },
  {
   "cell_type": "markdown",
   "id": "f0e34787",
   "metadata": {},
   "source": [
    "Pero si queremos poner otro valor, solo tenemos que pasarle ese parámetro por nombre, sin tener que pasarle el resto de los parámetros:"
   ]
  },
  {
   "cell_type": "code",
   "execution_count": 45,
   "id": "8b138887",
   "metadata": {
    "tags": []
   },
   "outputs": [
    {
     "name": "stdout",
     "output_type": "stream",
     "text": [
      "1 -> 2\n"
     ]
    }
   ],
   "source": [
    "print(1, end=\" -> \")\n",
    "print(2)"
   ]
  },
  {
   "cell_type": "markdown",
   "id": "783c9236",
   "metadata": {},
   "source": [
    "### Ejercicio 2\n",
    "\n",
    "Encapsule en una función el código para calcular las raices de la cuadrática y vuelva a calcular las raíces del polinomio $2x^2 - 10x + 8$."
   ]
  },
  {
   "cell_type": "code",
   "execution_count": 46,
   "id": "a8635569",
   "metadata": {
    "tags": []
   },
   "outputs": [],
   "source": [
    "# Complete el código aquí"
   ]
  },
  {
   "cell_type": "markdown",
   "id": "54797bec",
   "metadata": {},
   "source": [
    "#### Solución"
   ]
  },
  {
   "cell_type": "code",
   "execution_count": 47,
   "id": "b9a01b66",
   "metadata": {
    "jupyter": {
     "source_hidden": true
    },
    "tags": [
     "hide-input"
    ]
   },
   "outputs": [
    {
     "data": {
      "text/plain": [
       "(4.0, 1.0)"
      ]
     },
     "execution_count": 47,
     "metadata": {},
     "output_type": "execute_result"
    }
   ],
   "source": [
    "def raices_cuadratica(a, b, c):\n",
    "    \"\"\"Calcula las raices de un polinomio cuadratico ax^2 + bx + c.\"\"\"\n",
    "    disc = (b ** 2 - 4 * a * c) ** (1 / 2)\n",
    "    raiz_1 = (-b + disc) / (2 * a)\n",
    "    raiz_2 = (-b - disc) / (2 * a)\n",
    "    return raiz_1, raiz_2\n",
    "\n",
    "\n",
    "raices_cuadratica(2, -10, 8)"
   ]
  },
  {
   "cell_type": "markdown",
   "id": "36c429b7",
   "metadata": {
    "tags": []
   },
   "source": [
    "Fijense la importancia del *docstring*, que nos dice cuál es la relación entre los parámetros y el polinomio. Si no, cada vez que quisieramos usar la función tendriamos que ir a ver el código de la función (y entenderlo) para ver si `a` corresponde al término cuadrático o constante.\n",
    "\n",
    "### ¿Cuándo definir funciones?\n",
    "\n",
    "Definir funciones tiene múltiples ventajas en términos de estructurar nuestro código de manera que sea fácil de usar y entender. Sin embargo, puede no estar tan claro que código debería estar definido en una función. Para ello, sirve discutir algunos conceptos importantes en computación: reusabilidad, mantenibilidad, modularidad y abstracción.\n",
    "\n",
    "Para empezar, las funciones nos permiten *reusar* código. Si un bloque de código se repite múltiples veces, podemos \"sacar factor común\" y definir una función en su lugar. Por ejemplo, si queremos calcular las raices de multiples polinomios, podemos reusar la función que ya definimos:"
   ]
  },
  {
   "cell_type": "code",
   "execution_count": 48,
   "id": "0fed34a1",
   "metadata": {
    "tags": []
   },
   "outputs": [],
   "source": [
    "raices_1 = raices_cuadratica(1, 0, -1)\n",
    "raices_2 = raices_cuadratica(1, 0, -4)"
   ]
  },
  {
   "cell_type": "markdown",
   "id": "d29874f2",
   "metadata": {},
   "source": [
    "Pero no repetir código no es (solo) de *vago*, sino que también ayuda en el *mantenimiento* del código. Por ejemplo, si encontramos un error en nuestra función, solo tenemos que arreglarlo en un lugar.\n",
    "\n",
    "Por otro lado, las funciones nos permiten *abstraer* el código al reemplazar múltiples lineas de código por un *llamado* a la función. Por ejemplo, nos abstraen del detalle de cómo se calculan las raíces de un polinomio. Esto nos permite **razonar más fácilmente** sobre que hace el programa, ya que no vemos el detalle paso a paso, sino lo que entra y lo que sale."
   ]
  },
  {
   "cell_type": "markdown",
   "id": "fa56b740",
   "metadata": {
    "tags": []
   },
   "source": [
    "![](bart.png)"
   ]
  },
  {
   "cell_type": "markdown",
   "id": "8d2a9db0",
   "metadata": {},
   "source": [
    "¿Pero cuál es el nivel de abstracción *correcta*?\n",
    "\n",
    "Supongamos que queremos hacer un programa que calcule las raíces de un polinomio y las grafique. Podríamos dividir dicho programa en 3 pasos:\n",
    "\n",
    "1. Calcular el discriminante.\n",
    "2. Calcular las raíces.\n",
    "3. Graficar las raíces.\n",
    "\n",
    "En un extremo, podríamos encapsular todo en una única función. Pero si alguien quisiera graficar las raíces de una manera distinta, no podría reutilizar nuestro código para calcular las raíces, porque estaría todo acoplado.\n",
    "\n",
    "En el otro extremo, cada paso podría ser una función separada. Pero, ¿tiene algún sentido separar el cálculo del discriminante del de las raíces? ¿Tiene algún otro uso el discriminante?\n",
    "\n",
    "En este ejemplo, el nivel de abstracción correcto parecería ser agrupar los pasos 1 y 2 en una función, y el paso 3 en otra función."
   ]
  },
  {
   "cell_type": "markdown",
   "id": "600f48ee",
   "metadata": {},
   "source": [
    "Otro beneficio de las funciones es que encapsulan código y nos salvan de *pisar* o sobreeescribir variables que definimos previamente. Mientras que una función puede acceder a una variable externa a la función:"
   ]
  },
  {
   "cell_type": "code",
   "execution_count": 49,
   "id": "fddd2593",
   "metadata": {
    "tags": []
   },
   "outputs": [
    {
     "data": {
      "text/plain": [
       "11"
      ]
     },
     "execution_count": 49,
     "metadata": {},
     "output_type": "execute_result"
    }
   ],
   "source": [
    "variable_externa = 1\n",
    "dos = 2\n",
    "\n",
    "\n",
    "def suma_variable_externa_a(parametro_interno):\n",
    "    dos = 10\n",
    "    variable_interna = 42\n",
    "    return parametro_interno + variable_externa\n",
    "\n",
    "\n",
    "suma_variable_externa_a(10)"
   ]
  },
  {
   "cell_type": "markdown",
   "id": "de9cc968",
   "metadata": {},
   "source": [
    "no modifica las variables externas:"
   ]
  },
  {
   "cell_type": "code",
   "execution_count": 50,
   "id": "20baefc0",
   "metadata": {
    "tags": []
   },
   "outputs": [
    {
     "data": {
      "text/plain": [
       "2"
      ]
     },
     "execution_count": 50,
     "metadata": {},
     "output_type": "execute_result"
    }
   ],
   "source": [
    "dos"
   ]
  },
  {
   "cell_type": "markdown",
   "id": "de6ab44f",
   "metadata": {},
   "source": [
    "Además, las variables internas y los parámetros de la función no son accesibles desde el exterior:"
   ]
  },
  {
   "cell_type": "code",
   "execution_count": 51,
   "id": "45e7cb27",
   "metadata": {
    "tags": [
     "raises-exception"
    ]
   },
   "outputs": [
    {
     "ename": "NameError",
     "evalue": "name 'variable_interna' is not defined",
     "output_type": "error",
     "traceback": [
      "\u001b[0;31m---------------------------------------------------------------------------\u001b[0m",
      "\u001b[0;31mNameError\u001b[0m                                 Traceback (most recent call last)",
      "\u001b[0;32m<ipython-input-51-8828fc582254>\u001b[0m in \u001b[0;36m<module>\u001b[0;34m\u001b[0m\n\u001b[0;32m----> 1\u001b[0;31m \u001b[0mvariable_interna\u001b[0m\u001b[0;34m\u001b[0m\u001b[0;34m\u001b[0m\u001b[0m\n\u001b[0m",
      "\u001b[0;31mNameError\u001b[0m: name 'variable_interna' is not defined"
     ]
    }
   ],
   "source": [
    "variable_interna"
   ]
  },
  {
   "cell_type": "markdown",
   "id": "454a55e4",
   "metadata": {},
   "source": [
    "Sin embargo, este tipo de funciones que utilizan **variables externas o *globales* hacen más dificil razonar sobre el código**. Si volvemos a usar la función `suma_variable_externa_a(10)`, no es claro si va a dar el mismo resultado que antes, a pesar de que le estamos pasando el mismo argumento: alguien podría haber modificado el valor de `variable_externa` en el medio.\n",
    "\n",
    "Un paradigma de programación, llamado [programación funcional](https://en.wikipedia.org/wiki/Functional_programming), propone diferenciar *procedimientos* o *subrutinas* de *funciones puras o determinísticas*, siendo estas últimas las **funciones cuyo resultado sólo depende de los parámetros de entrada**."
   ]
  },
  {
   "cell_type": "markdown",
   "id": "bc75ced5",
   "metadata": {},
   "source": [
    "### Métodos\n",
    "\n",
    "Los métodos son funciones que están asociadas a un objeto. La sintaxis para acceder a ellos es poner un punto después del objeto. Por ejemplo, el método `str.upper` sirve para convertir un *string* en mayúsculas o *uppercase*:"
   ]
  },
  {
   "cell_type": "code",
   "execution_count": 52,
   "id": "aa59ccd0",
   "metadata": {
    "tags": []
   },
   "outputs": [
    {
     "data": {
      "text/plain": [
       "'HOLA'"
      ]
     },
     "execution_count": 52,
     "metadata": {},
     "output_type": "execute_result"
    }
   ],
   "source": [
    "x = \"hola\"\n",
    "\n",
    "x.upper()"
   ]
  },
  {
   "cell_type": "markdown",
   "id": "288d13ba",
   "metadata": {},
   "source": [
    "La ventaja frente a funciones es que, al estar asociadas a un (tipo de) objeto, no podemos usarlas para un tipo de dato.\n",
    "\n",
    "Por ejemplo, imaginemos que definimos una función que transforma un número decimal en una fracción:\n",
    "\n",
    "```python\n",
    "def numero_a_fraccion(x):\n",
    "    # MAGIA\n",
    "    return fraccion\n",
    "```\n",
    "\n",
    "tal que si le pasamos `0.25`, nos devuelve `1/4`.\n",
    "\n",
    "¿Pero que pasa si le pasamos un string: `numero_a_fraccion(\"hola\")`?\n",
    "\n",
    "Tendría que arrojar un error. Pero, dependiendo de como la hayamos programado, podría dar un resultado (equivocado).\n",
    "\n",
    "En cambio, si fuese un método de los números, no podríamos equivocarnos y pasarle un tipo de dato equivocado. La función ya está asociada a un número.\n",
    "\n",
    "En particular, esa método ya existe, y se llama `as_integer_ratio`:"
   ]
  },
  {
   "cell_type": "code",
   "execution_count": 53,
   "id": "40089ea3",
   "metadata": {},
   "outputs": [
    {
     "data": {
      "text/plain": [
       "(1, 4)"
      ]
     },
     "execution_count": 53,
     "metadata": {},
     "output_type": "execute_result"
    }
   ],
   "source": [
    "(0.25).as_integer_ratio()"
   ]
  },
  {
   "cell_type": "markdown",
   "id": "4c54c71d",
   "metadata": {},
   "source": [
    "Pero si tratamos de usarlo en un `str`, nos dice que no existe:"
   ]
  },
  {
   "cell_type": "code",
   "execution_count": 54,
   "id": "8a0f2a7c",
   "metadata": {
    "tags": [
     "raises-exception"
    ]
   },
   "outputs": [
    {
     "ename": "AttributeError",
     "evalue": "'str' object has no attribute 'as_integer_ratio'",
     "output_type": "error",
     "traceback": [
      "\u001b[0;31m---------------------------------------------------------------------------\u001b[0m",
      "\u001b[0;31mAttributeError\u001b[0m                            Traceback (most recent call last)",
      "\u001b[0;32m<ipython-input-54-ab2f1804450b>\u001b[0m in \u001b[0;36m<module>\u001b[0;34m\u001b[0m\n\u001b[0;32m----> 1\u001b[0;31m \u001b[0;34m\"hola\"\u001b[0m\u001b[0;34m.\u001b[0m\u001b[0mas_integer_ratio\u001b[0m\u001b[0;34m(\u001b[0m\u001b[0;34m)\u001b[0m\u001b[0;34m\u001b[0m\u001b[0;34m\u001b[0m\u001b[0m\n\u001b[0m",
      "\u001b[0;31mAttributeError\u001b[0m: 'str' object has no attribute 'as_integer_ratio'"
     ]
    }
   ],
   "source": [
    "\"hola\".as_integer_ratio()"
   ]
  },
  {
   "cell_type": "markdown",
   "id": "ee9954c2",
   "metadata": {},
   "source": [
    "## Estructuras de datos: tuplas y listas\n",
    "\n",
    "En Python, hay diversas estructuras de datos que nos permiten manejar conjuntos de objetos de manera más cómoda. Las más fundamentales son las tuplas (`tuple`), listas (`list`) y diccionarios (`dict`).\n",
    "\n",
    "La tupla y la lista son similares entre sí: ambas *guardan* una secuencia de objetos, es decir, un conjunto ordenado de objetos. La sintaxis para definirlas también es similar: se separa un grupo de objetos por comas, y se los encierra entre paréntesis (tuplas) o corchetes (listas)."
   ]
  },
  {
   "cell_type": "code",
   "execution_count": 55,
   "id": "294dd285",
   "metadata": {
    "tags": []
   },
   "outputs": [],
   "source": [
    "mi_tupla = (\"hola\", 42, True, \"último\")\n",
    "mi_lista = [\"hola\", 42, True, \"último\"]"
   ]
  },
  {
   "cell_type": "markdown",
   "id": "1e1c4357",
   "metadata": {},
   "source": [
    "Como vimos antes, en la tupla se puede omitir el uso de paréntesis.\n",
    "\n",
    "Conceptualmente, es como haber definido 4 variables, $\\{x_0, x_1, x_2, x_3\\}$:\n",
    "\n",
    "```python\n",
    "x_0 = \"hola\"\n",
    "x_1 = 42\n",
    "x_2 = True\n",
    "x_3 = \"último\"\n",
    "```\n",
    "\n",
    "Pero, en lugar de tener 4 nombres distintos, tenemos un único nombre con una notación especial para acceder a cada variable."
   ]
  },
  {
   "cell_type": "markdown",
   "id": "8e59d544",
   "metadata": {},
   "source": [
    "### Indexing"
   ]
  },
  {
   "cell_type": "markdown",
   "id": "4da9d2d1",
   "metadata": {},
   "source": [
    "En ambos casos, podemos acceder a los elementos por su ubicación o índice. Siguendo la práctica de muchos lenguajes, Python empieza a [contar desde el 0](https://www.cs.utexas.edu/users/EWD/transcriptions/EWD08xx/EWD831.html):"
   ]
  },
  {
   "cell_type": "code",
   "execution_count": 56,
   "id": "ae8fc781",
   "metadata": {
    "tags": []
   },
   "outputs": [
    {
     "data": {
      "text/plain": [
       "'hola'"
      ]
     },
     "execution_count": 56,
     "metadata": {},
     "output_type": "execute_result"
    }
   ],
   "source": [
    "mi_tupla[0]  # El primer elemento"
   ]
  },
  {
   "cell_type": "code",
   "execution_count": 57,
   "id": "5d35de03",
   "metadata": {
    "tags": []
   },
   "outputs": [
    {
     "data": {
      "text/plain": [
       "42"
      ]
     },
     "execution_count": 57,
     "metadata": {},
     "output_type": "execute_result"
    }
   ],
   "source": [
    "mi_tupla[1]  # El segundo elemento"
   ]
  },
  {
   "cell_type": "markdown",
   "id": "757062f3",
   "metadata": {},
   "source": [
    "Como mencionamos antes, hay ciertos lugares donde Python requiere el uso de números enteros (`int`). Este es uno de esos lugares, porque no tendría sentido pedir el elemento 0.5. Si usamos un `float`, nos arroja un error:"
   ]
  },
  {
   "cell_type": "code",
   "execution_count": 58,
   "id": "0ff1c2f4",
   "metadata": {
    "tags": [
     "raises-exception"
    ]
   },
   "outputs": [
    {
     "ename": "TypeError",
     "evalue": "tuple indices must be integers or slices, not float",
     "output_type": "error",
     "traceback": [
      "\u001b[0;31m---------------------------------------------------------------------------\u001b[0m",
      "\u001b[0;31mTypeError\u001b[0m                                 Traceback (most recent call last)",
      "\u001b[0;32m<ipython-input-58-aac281aa2955>\u001b[0m in \u001b[0;36m<module>\u001b[0;34m\u001b[0m\n\u001b[0;32m----> 1\u001b[0;31m \u001b[0mmi_tupla\u001b[0m\u001b[0;34m[\u001b[0m\u001b[0;36m1.0\u001b[0m\u001b[0;34m]\u001b[0m\u001b[0;34m\u001b[0m\u001b[0;34m\u001b[0m\u001b[0m\n\u001b[0m",
      "\u001b[0;31mTypeError\u001b[0m: tuple indices must be integers or slices, not float"
     ]
    }
   ],
   "source": [
    "mi_tupla[1.0]"
   ]
  },
  {
   "cell_type": "markdown",
   "id": "0273e9e8",
   "metadata": {},
   "source": [
    "Para acceder al último elemento, se podría hacer lo siguiente. Primero, obtenemos el largo $N$ de una secuencia con la función `len`:"
   ]
  },
  {
   "cell_type": "code",
   "execution_count": 59,
   "id": "36a21439",
   "metadata": {
    "tags": []
   },
   "outputs": [
    {
     "data": {
      "text/plain": [
       "4"
      ]
     },
     "execution_count": 59,
     "metadata": {},
     "output_type": "execute_result"
    }
   ],
   "source": [
    "len(mi_tupla)"
   ]
  },
  {
   "cell_type": "markdown",
   "id": "a3fbe6a6",
   "metadata": {},
   "source": [
    "y, luego, usamos dicho valor como índice:"
   ]
  },
  {
   "cell_type": "code",
   "execution_count": 60,
   "id": "f185be65",
   "metadata": {
    "tags": [
     "raises-exception"
    ]
   },
   "outputs": [
    {
     "ename": "IndexError",
     "evalue": "tuple index out of range",
     "output_type": "error",
     "traceback": [
      "\u001b[0;31m---------------------------------------------------------------------------\u001b[0m",
      "\u001b[0;31mIndexError\u001b[0m                                Traceback (most recent call last)",
      "\u001b[0;32m<ipython-input-60-1908e656e176>\u001b[0m in \u001b[0;36m<module>\u001b[0;34m\u001b[0m\n\u001b[0;32m----> 1\u001b[0;31m \u001b[0mmi_tupla\u001b[0m\u001b[0;34m[\u001b[0m\u001b[0mlen\u001b[0m\u001b[0;34m(\u001b[0m\u001b[0mmi_tupla\u001b[0m\u001b[0;34m)\u001b[0m\u001b[0;34m]\u001b[0m\u001b[0;34m\u001b[0m\u001b[0;34m\u001b[0m\u001b[0m\n\u001b[0m",
      "\u001b[0;31mIndexError\u001b[0m: tuple index out of range"
     ]
    }
   ],
   "source": [
    "mi_tupla[len(mi_tupla)]"
   ]
  },
  {
   "cell_type": "markdown",
   "id": "0e06d41d",
   "metadata": {},
   "source": [
    "que nos arroja un `IndexError`... Claro, si Python empieza a contar desde $0$, el índice del último elemento es $N-1$, no $N$:"
   ]
  },
  {
   "cell_type": "code",
   "execution_count": 61,
   "id": "946a3dee",
   "metadata": {
    "tags": []
   },
   "outputs": [
    {
     "data": {
      "text/plain": [
       "'último'"
      ]
     },
     "execution_count": 61,
     "metadata": {},
     "output_type": "execute_result"
    }
   ],
   "source": [
    "mi_tupla[len(mi_tupla) - 1]"
   ]
  },
  {
   "cell_type": "markdown",
   "id": "f951cd7a",
   "metadata": {},
   "source": [
    "Sin embargo, hacer esto es un *anti-pattern*. Hay una manera más compacta y legible de acceder a los últimos elementos: Python cuenta los elementos desde el final usando números negativos."
   ]
  },
  {
   "cell_type": "code",
   "execution_count": 62,
   "id": "97f38aa5",
   "metadata": {
    "tags": []
   },
   "outputs": [
    {
     "data": {
      "text/plain": [
       "'último'"
      ]
     },
     "execution_count": 62,
     "metadata": {},
     "output_type": "execute_result"
    }
   ],
   "source": [
    "mi_tupla[-1]  # El último elemento"
   ]
  },
  {
   "cell_type": "code",
   "execution_count": 63,
   "id": "8350fdd9",
   "metadata": {
    "tags": []
   },
   "outputs": [
    {
     "data": {
      "text/plain": [
       "True"
      ]
     },
     "execution_count": 63,
     "metadata": {},
     "output_type": "execute_result"
    }
   ],
   "source": [
    "mi_tupla[-2]  # El anteúltimo elemento"
   ]
  },
  {
   "cell_type": "markdown",
   "id": "1966a2a6",
   "metadata": {},
   "source": [
    "### Slicing"
   ]
  },
  {
   "cell_type": "markdown",
   "id": "a60646a0",
   "metadata": {},
   "source": [
    "Un `slice` nos permite acceder a un subconjunto de una secuencia. La notación es\n",
    "\n",
    "```python\n",
    "x[start:stop:step]\n",
    "```\n",
    "\n",
    "que devuelve todos los elementos entre `start` (inclusivo) hasta `stop` (exclusivo) separados por `step` elementos."
   ]
  },
  {
   "cell_type": "code",
   "execution_count": 64,
   "id": "bd4a624b",
   "metadata": {
    "tags": []
   },
   "outputs": [
    {
     "data": {
      "text/plain": [
       "(42, 'último')"
      ]
     },
     "execution_count": 64,
     "metadata": {},
     "output_type": "execute_result"
    }
   ],
   "source": [
    "mi_tupla[1:4:2]  # elementos del 1 al 4 cada 2\n",
    "# es decir, los elementos 1 y 3"
   ]
  },
  {
   "cell_type": "markdown",
   "id": "b989f0f3",
   "metadata": {},
   "source": [
    "Si no ponemos explicitamente alguno de estos valores, por default son:\n",
    "\n",
    "```python\n",
    "start = 0\n",
    "stop = -1\n",
    "step = 1\n",
    "```\n",
    "\n",
    "Es decir, `x[::] == x[0:-1:1]`\n",
    "\n",
    "Por ejemplo:"
   ]
  },
  {
   "cell_type": "code",
   "execution_count": 65,
   "id": "a7e31dbd",
   "metadata": {
    "tags": []
   },
   "outputs": [
    {
     "data": {
      "text/plain": [
       "(42, True, 'último')"
      ]
     },
     "execution_count": 65,
     "metadata": {},
     "output_type": "execute_result"
    }
   ],
   "source": [
    "mi_tupla[1:]  # desde el elemento 1: indices (1, 2, 3)"
   ]
  },
  {
   "cell_type": "code",
   "execution_count": 66,
   "id": "23f2f3c2",
   "metadata": {
    "tags": []
   },
   "outputs": [
    {
     "data": {
      "text/plain": [
       "('hola', 42, True)"
      ]
     },
     "execution_count": 66,
     "metadata": {},
     "output_type": "execute_result"
    }
   ],
   "source": [
    "mi_tupla[:3]  # hasta el tercer elemento: indices (0, 1 y 2)"
   ]
  },
  {
   "cell_type": "code",
   "execution_count": 67,
   "id": "6f1aef75",
   "metadata": {
    "tags": []
   },
   "outputs": [
    {
     "data": {
      "text/plain": [
       "(42, 'último')"
      ]
     },
     "execution_count": 67,
     "metadata": {},
     "output_type": "execute_result"
    }
   ],
   "source": [
    "mi_tupla[1::2]  # los elementos impares: indices (1, 3)"
   ]
  },
  {
   "cell_type": "code",
   "execution_count": 68,
   "id": "32ac61ec",
   "metadata": {
    "tags": []
   },
   "outputs": [
    {
     "data": {
      "text/plain": [
       "('último', True, 42, 'hola')"
      ]
     },
     "execution_count": 68,
     "metadata": {},
     "output_type": "execute_result"
    }
   ],
   "source": [
    "mi_tupla[::-1]  # los elementos en orden inverso: (3, 2, 1, 0)"
   ]
  },
  {
   "cell_type": "markdown",
   "id": "ef165a74",
   "metadata": {},
   "source": [
    "### Mutabilidad\n",
    "\n",
    "La diferencia fundamental entre tuplas y listas radica en este concepto: las tuplas son inmutables, es decir, no se pueden modificar, mientras que las listas sí.\n",
    "\n",
    "Para modificar un elemento, accedemos a él y le asignamos un nuevo valor:"
   ]
  },
  {
   "cell_type": "code",
   "execution_count": 69,
   "id": "76802c59",
   "metadata": {
    "tags": []
   },
   "outputs": [
    {
     "name": "stdout",
     "output_type": "stream",
     "text": [
      "  Antes: ['hola', 42, True, 'último']\n",
      "Después: ['hola', 84, True, 'último']\n"
     ]
    }
   ],
   "source": [
    "print(\"  Antes:\", mi_lista)\n",
    "\n",
    "mi_lista[1] = 84\n",
    "\n",
    "print(\"Después:\", mi_lista)"
   ]
  },
  {
   "cell_type": "markdown",
   "id": "18878460",
   "metadata": {},
   "source": [
    "En cambio, si queremos modificar una tupla, nos arroja un `TypeError`:"
   ]
  },
  {
   "cell_type": "code",
   "execution_count": 70,
   "id": "abf5d9d5",
   "metadata": {
    "tags": [
     "raises-exception"
    ]
   },
   "outputs": [
    {
     "ename": "TypeError",
     "evalue": "'tuple' object does not support item assignment",
     "output_type": "error",
     "traceback": [
      "\u001b[0;31m---------------------------------------------------------------------------\u001b[0m",
      "\u001b[0;31mTypeError\u001b[0m                                 Traceback (most recent call last)",
      "\u001b[0;32m<ipython-input-70-17815a590667>\u001b[0m in \u001b[0;36m<module>\u001b[0;34m\u001b[0m\n\u001b[0;32m----> 1\u001b[0;31m \u001b[0mmi_tupla\u001b[0m\u001b[0;34m[\u001b[0m\u001b[0;36m1\u001b[0m\u001b[0;34m]\u001b[0m \u001b[0;34m=\u001b[0m \u001b[0;36m84\u001b[0m\u001b[0;34m\u001b[0m\u001b[0;34m\u001b[0m\u001b[0m\n\u001b[0m",
      "\u001b[0;31mTypeError\u001b[0m: 'tuple' object does not support item assignment"
     ]
    }
   ],
   "source": [
    "mi_tupla[1] = 84"
   ]
  },
  {
   "cell_type": "markdown",
   "id": "ddbdfbcf",
   "metadata": {},
   "source": [
    "Además, a las listas se le pueden agregar, quitar o reordenar sus elementos. Pueden ver los métodos de una lista en la [documentación](https://docs.python.org/3/tutorial/datastructures.html#more-on-lists). Por ejemplo, para agregar un elemento al final de la lista, podemos usar el método `append`:"
   ]
  },
  {
   "cell_type": "code",
   "execution_count": 71,
   "id": "b8b212db",
   "metadata": {},
   "outputs": [],
   "source": [
    "mi_lista.append(35)"
   ]
  },
  {
   "cell_type": "markdown",
   "id": "9a40b310",
   "metadata": {},
   "source": [
    "que no devuelve nada (o, técnicamente, devuelve `None`). Como vemos, agregó el elemento `35` al final:"
   ]
  },
  {
   "cell_type": "code",
   "execution_count": 72,
   "id": "3a79c1d7",
   "metadata": {
    "tags": []
   },
   "outputs": [
    {
     "data": {
      "text/plain": [
       "['hola', 84, True, 'último', 35]"
      ]
     },
     "execution_count": 72,
     "metadata": {},
     "output_type": "execute_result"
    }
   ],
   "source": [
    "mi_lista"
   ]
  },
  {
   "cell_type": "markdown",
   "id": "b175cc01",
   "metadata": {},
   "source": [
    "### Ejercicio 3\n",
    "\n",
    "Corrija el siguiente código para que imprima lo que especifica cada *string*:"
   ]
  },
  {
   "cell_type": "code",
   "execution_count": 73,
   "id": "4029258f",
   "metadata": {
    "tags": []
   },
   "outputs": [
    {
     "name": "stdout",
     "output_type": "stream",
     "text": [
      "     Quinto elemento: [0, 1, 2, 3, 4, 5, 6, 7, 8]\n",
      "Primeros 4 elementos: [0, 1, 2, 3, 4, 5, 6, 7, 8]\n",
      " Últimos 4 elementos: [0, 1, 2, 3, 4, 5, 6, 7, 8]\n",
      "     Elementos pares: [0, 1, 2, 3, 4, 5, 6, 7, 8]\n",
      "   Elementos impares: [0, 1, 2, 3, 4, 5, 6, 7, 8]\n",
      "    En orden inverso: [0, 1, 2, 3, 4, 5, 6, 7, 8]\n"
     ]
    }
   ],
   "source": [
    "x = [0, 1, 2, 3, 4, 5, 6, 7, 8]\n",
    "\n",
    "print(\"     Quinto elemento:\", x)\n",
    "print(\"Primeros 4 elementos:\", x)\n",
    "print(\" Últimos 4 elementos:\", x)\n",
    "print(\"     Elementos pares:\", x)\n",
    "print(\"   Elementos impares:\", x)\n",
    "print(\"    En orden inverso:\", x)"
   ]
  },
  {
   "cell_type": "markdown",
   "id": "9c60db1e",
   "metadata": {},
   "source": [
    "#### Solución"
   ]
  },
  {
   "cell_type": "code",
   "execution_count": 74,
   "id": "f0b6f7db",
   "metadata": {
    "jupyter": {
     "source_hidden": true
    },
    "tags": [
     "hide-input"
    ]
   },
   "outputs": [
    {
     "name": "stdout",
     "output_type": "stream",
     "text": [
      "     Quinto elemento: 4\n",
      "Primeros 4 elementos: [0, 1, 2, 3]\n",
      " Últimos 4 elementos: [5, 6, 7, 8]\n",
      "     Elementos pares: [0, 2, 4, 6, 8]\n",
      "   Elementos impares: [1, 3, 5, 7]\n",
      "    En orden inverso: [8, 7, 6, 5, 4, 3, 2, 1, 0]\n"
     ]
    }
   ],
   "source": [
    "x = [0, 1, 2, 3, 4, 5, 6, 7, 8]\n",
    "\n",
    "print(\"     Quinto elemento:\", x[4])\n",
    "print(\"Primeros 4 elementos:\", x[:4])\n",
    "print(\" Últimos 4 elementos:\", x[-4:])\n",
    "print(\"     Elementos pares:\", x[::2])\n",
    "print(\"   Elementos impares:\", x[1::2])\n",
    "print(\"    En orden inverso:\", x[::-1])"
   ]
  },
  {
   "cell_type": "markdown",
   "id": "92cb70b2",
   "metadata": {},
   "source": [
    "## Modulos y paquetes\n",
    "\n",
    "Así como las funciones permiten reutilizar código, el siguiente nivel son los módulos y paquetes, que permiten **reutilizar funciones y tipos de datos** en otros programas. En su versión más simple, los módulos son simplemente archivos de texto con extensión `.py`, y los paquetes son conjuntos de módulos.\n",
    "\n",
    "Python viene con un montón de [módulos pre-incluidos](https://docs.python.org/3/py-modindex.html), por ejemplo, el módulo `math`. Para poder usar módulos, primero hay que importarlos con el comando `import` seguido del nombre del módulo:"
   ]
  },
  {
   "cell_type": "code",
   "execution_count": 75,
   "id": "43fa8317",
   "metadata": {
    "tags": []
   },
   "outputs": [],
   "source": [
    "import math"
   ]
  },
  {
   "cell_type": "markdown",
   "id": "50a734fe",
   "metadata": {},
   "source": [
    "Al correr esa linea, Python busca el módulo, lo corre y lo asigna a la variable `math`:"
   ]
  },
  {
   "cell_type": "code",
   "execution_count": 76,
   "id": "93a4c17c",
   "metadata": {
    "tags": []
   },
   "outputs": [
    {
     "data": {
      "text/plain": [
       "<module 'math' from '/usr/share/miniconda/envs/book/lib/python3.8/lib-dynload/math.cpython-38-x86_64-linux-gnu.so'>"
      ]
     },
     "execution_count": 76,
     "metadata": {},
     "output_type": "execute_result"
    }
   ],
   "source": [
    "math"
   ]
  },
  {
   "cell_type": "markdown",
   "id": "defc7e8b",
   "metadata": {},
   "source": [
    "Ahora, podemos acceder a las cosas que están definidas dentro de `math` usando notación de punto. Por ejemplo, `math` define la constante $\\pi$:"
   ]
  },
  {
   "cell_type": "code",
   "execution_count": 77,
   "id": "f4580fd5",
   "metadata": {
    "tags": []
   },
   "outputs": [
    {
     "data": {
      "text/plain": [
       "3.141592653589793"
      ]
     },
     "execution_count": 77,
     "metadata": {},
     "output_type": "execute_result"
    }
   ],
   "source": [
    "math.pi"
   ]
  },
  {
   "cell_type": "markdown",
   "id": "7e556554",
   "metadata": {},
   "source": [
    "o funciones trigonométricas como el coseno:"
   ]
  },
  {
   "cell_type": "code",
   "execution_count": 78,
   "id": "d80f156f",
   "metadata": {
    "tags": []
   },
   "outputs": [
    {
     "data": {
      "text/plain": [
       "-1.0"
      ]
     },
     "execution_count": 78,
     "metadata": {},
     "output_type": "execute_result"
    }
   ],
   "source": [
    "math.cos(math.pi)"
   ]
  },
  {
   "cell_type": "markdown",
   "id": "963459b5",
   "metadata": {},
   "source": [
    "Sin embargo, no vamos a usar el módulo `math` para hacer cálculos matemáticos, sino que utilizaremos un paquete externo llamado NumPy.\n",
    "\n",
    "El mundo de Python está lleno de paquetes que ya tienen la solución a casi todos nuestros problemas. Los más usados en el ambiente científico son:\n",
    "\n",
    "- [numpy](https://numpy.org/): define el tipo de dato `ndarray`, o simplemente *array*. Representa vectores o matrices, y nos permite hacer operaciones matemáticas sobre ellos de manera rápida y simple. Es la base de (casi) todo lo que es cálculo númerico.\n",
    "- [matplotlib](https://matplotlib.org): para realizar gráficos y visualizaciones de diverso tipo.\n",
    "- [scipy](https://scipy.org/): compuesto de varios *subpaquetes*, cada uno especializado en diversas areas del cálculo numérico, como algebra lineal, integración numérica, optimización, estadística, análisis de imagenes, entre otros.\n",
    "\n",
    "Otros muy conocidos son:\n",
    "\n",
    "- **pandas y xarray**: DataFrames, o un \"*Excel* avanzado\".\n",
    "- **seaborn**: gráficos y visualizaciones, basado en matplotlib\n",
    "- **statsmodels**: estadística\n",
    "- **sympy**: cálculo simbólico\n",
    "- **pint**: unidades\n",
    "- **PyVISA**: control de instrumentos\n",
    "- **networkx**: redes o gráfos\n",
    "- **scikit-image**: análisis de imagenes\n",
    "- **scikit-learn**: machine learning\n",
    "- **Keras**, **TensorFlow**, **PyTorch**: redes neuronales\n",
    "\n",
    "Si instalaron Anaconda, muchos de estos paquetes externos vienen pre-instalados."
   ]
  },
  {
   "cell_type": "markdown",
   "id": "3c1e83b2",
   "metadata": {},
   "source": [
    "## NumPy\n",
    "\n",
    "NumPy, que viene de *Numerical Python*, es el paquete estándar en todo lo que es cálculo numérico. Para una introducción más completa a NumPy, pueden ir a la [documentación](https://numpy.org/doc/stable/user/absolute_beginners.html).\n",
    "\n",
    "Para importar `numpy`, vamos a usar una variante del comando `import`, para asignarle un alias más corto:"
   ]
  },
  {
   "cell_type": "code",
   "execution_count": 79,
   "id": "b083730a",
   "metadata": {
    "tags": []
   },
   "outputs": [],
   "source": [
    "import numpy as np"
   ]
  },
  {
   "cell_type": "markdown",
   "id": "6b2565f4",
   "metadata": {},
   "source": [
    "Ahora, tenemos una variable `np` que apunta al paquete `numpy`:"
   ]
  },
  {
   "cell_type": "code",
   "execution_count": 80,
   "id": "2b571346",
   "metadata": {
    "tags": []
   },
   "outputs": [
    {
     "data": {
      "text/plain": [
       "<module 'numpy' from '/usr/share/miniconda/envs/book/lib/python3.8/site-packages/numpy/__init__.py'>"
      ]
     },
     "execution_count": 80,
     "metadata": {},
     "output_type": "execute_result"
    }
   ],
   "source": [
    "np"
   ]
  },
  {
   "cell_type": "markdown",
   "id": "4b49cd4f",
   "metadata": {},
   "source": [
    "Es una convención muy difundida importar a `numpy` como `np`."
   ]
  },
  {
   "cell_type": "markdown",
   "id": "b20f9672",
   "metadata": {},
   "source": [
    "### Array"
   ]
  },
  {
   "cell_type": "markdown",
   "id": "d7aad78a",
   "metadata": {},
   "source": [
    "NumPy define una estructura de dato llamada `array`, que tiene similitudes a la tupla y lista. Los arrays de NumPy muestran sus ventajas cuando son utilizados para números. Permiten realizar operaciones matemáticas de manera mucho más simple y rápida, por lo que es **crucial** para lo que es cálculo numérico.\n",
    "\n",
    "Para crear un *array*, se puede pasar una tupla o lista a la función `np.array`:"
   ]
  },
  {
   "cell_type": "code",
   "execution_count": 81,
   "id": "0bdbce9a",
   "metadata": {
    "tags": []
   },
   "outputs": [
    {
     "data": {
      "text/plain": [
       "array([ 4,  8, 15, 16, 23, 42])"
      ]
     },
     "execution_count": 81,
     "metadata": {},
     "output_type": "execute_result"
    }
   ],
   "source": [
    "np.array([4, 8, 15, 16, 23, 42])  # vector o array 1D"
   ]
  },
  {
   "cell_type": "markdown",
   "id": "5794056c",
   "metadata": {},
   "source": [
    "Para crear *arrays* multidimensionales, como matrices, se puede pasar una lista de listas, o listas anidadas:"
   ]
  },
  {
   "cell_type": "code",
   "execution_count": 82,
   "id": "642d5e38",
   "metadata": {
    "tags": []
   },
   "outputs": [
    {
     "data": {
      "text/plain": [
       "array([[1, 2, 3],\n",
       "       [4, 5, 6]])"
      ]
     },
     "execution_count": 82,
     "metadata": {},
     "output_type": "execute_result"
    }
   ],
   "source": [
    "np.array([[1, 2, 3], [4, 5, 6]])  # matriz o array 2D"
   ]
  },
  {
   "cell_type": "markdown",
   "id": "8a777385",
   "metadata": {},
   "source": [
    "NumPy incluye algunas funciones cómodas para crear *arrays* comúnmente utilizados, como *arrays* con un mismo valor repetido:"
   ]
  },
  {
   "cell_type": "code",
   "execution_count": 83,
   "id": "9e0464ba",
   "metadata": {
    "tags": []
   },
   "outputs": [
    {
     "data": {
      "text/plain": [
       "array([42, 42, 42, 42, 42])"
      ]
     },
     "execution_count": 83,
     "metadata": {},
     "output_type": "execute_result"
    }
   ],
   "source": [
    "np.full(5, 42)  # np.full(shape=5, fill_value=42)"
   ]
  },
  {
   "cell_type": "code",
   "execution_count": 84,
   "id": "dd228b11",
   "metadata": {
    "tags": []
   },
   "outputs": [
    {
     "data": {
      "text/plain": [
       "array([[0., 0., 0.],\n",
       "       [0., 0., 0.]])"
      ]
     },
     "execution_count": 84,
     "metadata": {},
     "output_type": "execute_result"
    }
   ],
   "source": [
    "np.zeros((2, 3))  # np.zeros(shape=(2, 3))"
   ]
  },
  {
   "cell_type": "markdown",
   "id": "cd7b3fbd",
   "metadata": {},
   "source": [
    "O de números equiespaciados:"
   ]
  },
  {
   "cell_type": "code",
   "execution_count": 85,
   "id": "2a771132",
   "metadata": {
    "tags": []
   },
   "outputs": [
    {
     "data": {
      "text/plain": [
       "array([3, 5, 7, 9])"
      ]
     },
     "execution_count": 85,
     "metadata": {},
     "output_type": "execute_result"
    }
   ],
   "source": [
    "np.arange(3, 11, 2)  # np.arange(start=3, stop=11, step=2)"
   ]
  },
  {
   "cell_type": "code",
   "execution_count": 86,
   "id": "668e5f9a",
   "metadata": {
    "tags": []
   },
   "outputs": [
    {
     "data": {
      "text/plain": [
       "array([0. , 0.1, 0.2, 0.3, 0.4, 0.5, 0.6, 0.7, 0.8, 0.9, 1. ])"
      ]
     },
     "execution_count": 86,
     "metadata": {},
     "output_type": "execute_result"
    }
   ],
   "source": [
    "np.linspace(0, 1, 11)  # np.linspace(start=0, stop=1, num=11)"
   ]
  },
  {
   "cell_type": "markdown",
   "id": "59ff910c",
   "metadata": {},
   "source": [
    "### Propiedades: shape, size, ndim\n",
    "\n",
    "Al igual que las listas, para un *array* unidimensional, podemos usar la función `len` para conocer la cantidad de elementos que contiene."
   ]
  },
  {
   "cell_type": "code",
   "execution_count": 87,
   "id": "99c8ef97",
   "metadata": {
    "tags": []
   },
   "outputs": [
    {
     "data": {
      "text/plain": [
       "3"
      ]
     },
     "execution_count": 87,
     "metadata": {},
     "output_type": "execute_result"
    }
   ],
   "source": [
    "len(np.array([1, 2, 3]))"
   ]
  },
  {
   "cell_type": "markdown",
   "id": "1f081222",
   "metadata": {},
   "source": [
    "Pero, a diferencia de las listas, los *arrays* pueden ser multidimensionales. En ese caso, necesitamos más de un número para describir su forma. El `array` tiene tres atributos que describen su tamaño:\n",
    "\n",
    "1. `shape`: tupla con la cantidad de elementos en cada dimensión\n",
    "2. `size`: cantidad de elementos totales\n",
    "3. `ndim`: cantidad de dimensiones"
   ]
  },
  {
   "cell_type": "code",
   "execution_count": 88,
   "id": "042093ec",
   "metadata": {
    "tags": []
   },
   "outputs": [
    {
     "name": "stdout",
     "output_type": "stream",
     "text": [
      "shape = (3, 2)\n",
      " size = 6\n",
      " ndim = 2\n"
     ]
    }
   ],
   "source": [
    "x = np.array([[1, 2], [3, 4], [5, 6]])\n",
    "\n",
    "print(\"shape =\", x.shape)\n",
    "print(\" size =\", x.size)\n",
    "print(\" ndim =\", x.ndim)"
   ]
  },
  {
   "cell_type": "markdown",
   "id": "b7e613a7",
   "metadata": {},
   "source": [
    "En este caso, la función `len` devuelve el largo de la primera dimensión, como si fuese una lista de listas."
   ]
  },
  {
   "cell_type": "code",
   "execution_count": 89,
   "id": "ee7dbfcc",
   "metadata": {
    "tags": []
   },
   "outputs": [
    {
     "data": {
      "text/plain": [
       "3"
      ]
     },
     "execution_count": 89,
     "metadata": {},
     "output_type": "execute_result"
    }
   ],
   "source": [
    "len(x)"
   ]
  },
  {
   "cell_type": "markdown",
   "id": "21998d67",
   "metadata": {},
   "source": [
    "El array incluye métodos para [cambiar su forma](https://numpy.org/doc/stable/user/absolute_beginners.html#transposing-and-reshaping-a-matrix), o [aplanarse](https://numpy.org/doc/stable/user/absolute_beginners.html#reshaping-and-flattening-multidimensional-arrays)."
   ]
  },
  {
   "cell_type": "markdown",
   "id": "fb73cfaa",
   "metadata": {},
   "source": [
    "### Indexing y slicing\n",
    "\n",
    "Al igual que las listas, se puede acceder a los elementos de un array por índice o por *slice*. Pero, se extiende la notación en el caso de *arrays* multidimensionales:"
   ]
  },
  {
   "cell_type": "code",
   "execution_count": 90,
   "id": "a92e85bc",
   "metadata": {
    "tags": []
   },
   "outputs": [
    {
     "data": {
      "text/plain": [
       "array([[1, 2, 3],\n",
       "       [4, 5, 6]])"
      ]
     },
     "execution_count": 90,
     "metadata": {},
     "output_type": "execute_result"
    }
   ],
   "source": [
    "x = np.array([[1, 2, 3], [4, 5, 6]])\n",
    "x"
   ]
  },
  {
   "cell_type": "code",
   "execution_count": 91,
   "id": "e831a7f5",
   "metadata": {
    "tags": []
   },
   "outputs": [
    {
     "data": {
      "text/plain": [
       "6"
      ]
     },
     "execution_count": 91,
     "metadata": {},
     "output_type": "execute_result"
    }
   ],
   "source": [
    "x[1, 2]  # Fila 1, columna 2"
   ]
  },
  {
   "cell_type": "code",
   "execution_count": 92,
   "id": "a4a25a39",
   "metadata": {
    "tags": []
   },
   "outputs": [
    {
     "data": {
      "text/plain": [
       "array([1, 2, 3])"
      ]
     },
     "execution_count": 92,
     "metadata": {},
     "output_type": "execute_result"
    }
   ],
   "source": [
    "x[0]  # Fila 0"
   ]
  },
  {
   "cell_type": "code",
   "execution_count": 93,
   "id": "f4fb4d44",
   "metadata": {
    "tags": []
   },
   "outputs": [
    {
     "data": {
      "text/plain": [
       "array([1, 4])"
      ]
     },
     "execution_count": 93,
     "metadata": {},
     "output_type": "execute_result"
    }
   ],
   "source": [
    "x[:, 0]  # Columna 0"
   ]
  },
  {
   "cell_type": "markdown",
   "id": "13d6f3e9",
   "metadata": {},
   "source": [
    "### Operaciones matemáticas y broadcasting\n",
    "\n",
    "Este es el punto donde brillan los *arrays*. Mientras que sumar dos listas las concatena:"
   ]
  },
  {
   "cell_type": "code",
   "execution_count": 94,
   "id": "f631fc08",
   "metadata": {
    "tags": []
   },
   "outputs": [
    {
     "data": {
      "text/plain": [
       "[1, 2, 3, 10, 20, 30]"
      ]
     },
     "execution_count": 94,
     "metadata": {},
     "output_type": "execute_result"
    }
   ],
   "source": [
    "[1, 2, 3] + [10, 20, 30]"
   ]
  },
  {
   "cell_type": "markdown",
   "id": "fd0f1e5c",
   "metadata": {},
   "source": [
    "las operaciones entre *arrays* se hacen elemento a elemento:"
   ]
  },
  {
   "cell_type": "code",
   "execution_count": 95,
   "id": "99d66189",
   "metadata": {
    "tags": []
   },
   "outputs": [
    {
     "data": {
      "text/plain": [
       "array([11, 22, 33])"
      ]
     },
     "execution_count": 95,
     "metadata": {},
     "output_type": "execute_result"
    }
   ],
   "source": [
    "np.array([1, 2, 3]) + np.array([10, 20, 30])"
   ]
  },
  {
   "cell_type": "markdown",
   "id": "69eb6f8c",
   "metadata": {},
   "source": [
    "Supongamos que queremos dividir todos los elementos de un array por 2. Es tan simple como:"
   ]
  },
  {
   "cell_type": "code",
   "execution_count": 96,
   "id": "a9739b94",
   "metadata": {
    "tags": []
   },
   "outputs": [
    {
     "data": {
      "text/plain": [
       "array([1., 2., 3.])"
      ]
     },
     "execution_count": 96,
     "metadata": {},
     "output_type": "execute_result"
    }
   ],
   "source": [
    "np.array([2, 4, 6]) / 2"
   ]
  },
  {
   "cell_type": "markdown",
   "id": "b9f800ab",
   "metadata": {},
   "source": [
    "Lo que sucede se conoce como [*broadcasting*](https://numpy.org/doc/stable/user/basics.broadcasting.html#basics-broadcasting), que conceptualmente es lo siguiente:\n",
    "\n",
    "```python\n",
    "Paso 1: np.array([2, 4, 6]) / 2\n",
    "\n",
    "Paso 2: np.array([2, 4, 6]) / np.array([2, 2, 2])\n",
    "\n",
    "Paso 3: np.array([1, 2, 3])\n",
    "```\n",
    "\n",
    "Si los *arrays* no coinciden en alguna dimensión, nos arroja un error:"
   ]
  },
  {
   "cell_type": "code",
   "execution_count": 97,
   "id": "c6f6ee17",
   "metadata": {
    "tags": [
     "raises-exception"
    ]
   },
   "outputs": [
    {
     "ename": "ValueError",
     "evalue": "operands could not be broadcast together with shapes (2,) (3,) ",
     "output_type": "error",
     "traceback": [
      "\u001b[0;31m---------------------------------------------------------------------------\u001b[0m",
      "\u001b[0;31mValueError\u001b[0m                                Traceback (most recent call last)",
      "\u001b[0;32m<ipython-input-97-0527bc1cf551>\u001b[0m in \u001b[0;36m<module>\u001b[0;34m\u001b[0m\n\u001b[0;32m----> 1\u001b[0;31m \u001b[0mnp\u001b[0m\u001b[0;34m.\u001b[0m\u001b[0marray\u001b[0m\u001b[0;34m(\u001b[0m\u001b[0;34m[\u001b[0m\u001b[0;36m1\u001b[0m\u001b[0;34m,\u001b[0m \u001b[0;36m1\u001b[0m\u001b[0;34m]\u001b[0m\u001b[0;34m)\u001b[0m \u001b[0;34m*\u001b[0m \u001b[0mnp\u001b[0m\u001b[0;34m.\u001b[0m\u001b[0marray\u001b[0m\u001b[0;34m(\u001b[0m\u001b[0;34m[\u001b[0m\u001b[0;36m3\u001b[0m\u001b[0;34m,\u001b[0m \u001b[0;36m3\u001b[0m\u001b[0;34m,\u001b[0m \u001b[0;36m3\u001b[0m\u001b[0;34m]\u001b[0m\u001b[0;34m)\u001b[0m\u001b[0;34m\u001b[0m\u001b[0;34m\u001b[0m\u001b[0m\n\u001b[0m",
      "\u001b[0;31mValueError\u001b[0m: operands could not be broadcast together with shapes (2,) (3,) "
     ]
    }
   ],
   "source": [
    "np.array([1, 1]) * np.array([3, 3, 3])"
   ]
  },
  {
   "cell_type": "markdown",
   "id": "5f8f7456",
   "metadata": {},
   "source": [
    "A diferencia de las funciones del módulo `math`, las funciones de NumPy se aplican a todos los elementos de un *array*:"
   ]
  },
  {
   "cell_type": "code",
   "execution_count": 98,
   "id": "f68b2bd6",
   "metadata": {
    "tags": []
   },
   "outputs": [
    {
     "data": {
      "text/plain": [
       "array([ 1.000000e+00,  6.123234e-17, -1.000000e+00])"
      ]
     },
     "execution_count": 98,
     "metadata": {},
     "output_type": "execute_result"
    }
   ],
   "source": [
    "x = np.pi * np.array([0, 0.5, 1])\n",
    "\n",
    "np.cos(x)"
   ]
  },
  {
   "cell_type": "markdown",
   "id": "f59e10df",
   "metadata": {},
   "source": [
    "Por otro lado, las funciones de *reducción* de *arrays*, como la suma (`np.sum`) o el máximo (`np.max`), por defecto se aplican sobre todo el *array*:"
   ]
  },
  {
   "cell_type": "code",
   "execution_count": 99,
   "id": "7615298e",
   "metadata": {
    "tags": []
   },
   "outputs": [
    {
     "data": {
      "text/plain": [
       "array([[ 1, 42],\n",
       "       [ 2,  5]])"
      ]
     },
     "execution_count": 99,
     "metadata": {},
     "output_type": "execute_result"
    }
   ],
   "source": [
    "x = np.array([[1, 42], [2, 5]])\n",
    "x"
   ]
  },
  {
   "cell_type": "code",
   "execution_count": 100,
   "id": "399ac639",
   "metadata": {
    "tags": []
   },
   "outputs": [
    {
     "data": {
      "text/plain": [
       "42"
      ]
     },
     "execution_count": 100,
     "metadata": {},
     "output_type": "execute_result"
    }
   ],
   "source": [
    "np.max(x)"
   ]
  },
  {
   "cell_type": "markdown",
   "id": "587b8ba8",
   "metadata": {},
   "source": [
    "Pero se pueden aplicar solo sobre algunas dimensiones con el parámetro `axis`:"
   ]
  },
  {
   "cell_type": "code",
   "execution_count": 101,
   "id": "50436a26",
   "metadata": {
    "tags": []
   },
   "outputs": [
    {
     "data": {
      "text/plain": [
       "array([ 2, 42])"
      ]
     },
     "execution_count": 101,
     "metadata": {},
     "output_type": "execute_result"
    }
   ],
   "source": [
    "np.max(x, axis=0)"
   ]
  },
  {
   "cell_type": "markdown",
   "id": "3bd185d5",
   "metadata": {},
   "source": [
    "Estas funciones también métodos de los *arrays*:"
   ]
  },
  {
   "cell_type": "code",
   "execution_count": 102,
   "id": "f65c9899",
   "metadata": {
    "tags": []
   },
   "outputs": [
    {
     "data": {
      "text/plain": [
       "42"
      ]
     },
     "execution_count": 102,
     "metadata": {},
     "output_type": "execute_result"
    }
   ],
   "source": [
    "x.max()"
   ]
  },
  {
   "cell_type": "markdown",
   "id": "a13c58cd",
   "metadata": {},
   "source": [
    "### Advanced indexing\n",
    "\n",
    "A diferencia de las listas, los *arrays* se pueden [indexar de otras formas](https://numpy.org/doc/stable/reference/arrays.indexing.html#advanced-indexing).\n",
    "\n",
    "Si hacemos una comparación, creamos una máscara, o *array* de booleanos:"
   ]
  },
  {
   "cell_type": "code",
   "execution_count": 103,
   "id": "0a68ba47",
   "metadata": {
    "tags": []
   },
   "outputs": [
    {
     "data": {
      "text/plain": [
       "array([False,  True, False,  True, False])"
      ]
     },
     "execution_count": 103,
     "metadata": {},
     "output_type": "execute_result"
    }
   ],
   "source": [
    "x = np.array([1, 42, 2, 5, 0])\n",
    "\n",
    "x > 3"
   ]
  },
  {
   "cell_type": "markdown",
   "id": "f51ff4b3",
   "metadata": {},
   "source": [
    "Podemos usar esta mascara para quedarnos solo con los valores donde se cumple la condición:"
   ]
  },
  {
   "cell_type": "code",
   "execution_count": 104,
   "id": "7872f952",
   "metadata": {
    "tags": []
   },
   "outputs": [
    {
     "data": {
      "text/plain": [
       "array([42,  5])"
      ]
     },
     "execution_count": 104,
     "metadata": {},
     "output_type": "execute_result"
    }
   ],
   "source": [
    "x[x > 3]"
   ]
  },
  {
   "cell_type": "markdown",
   "id": "623ef29c",
   "metadata": {
    "tags": []
   },
   "source": [
    "A veces, solo nos interesa cuántos cumplen una condición. NumPy almacena la mascara como `1` y `0` para `True` y `False`, respectivamente. Entonces, podemos directamente sumar la máscara para ver cuantos `True` hay:"
   ]
  },
  {
   "cell_type": "code",
   "execution_count": 105,
   "id": "cfddfb72",
   "metadata": {
    "tags": []
   },
   "outputs": [
    {
     "data": {
      "text/plain": [
       "2"
      ]
     },
     "execution_count": 105,
     "metadata": {},
     "output_type": "execute_result"
    }
   ],
   "source": [
    "(x > 3).sum()"
   ]
  },
  {
   "cell_type": "markdown",
   "id": "af100dd1",
   "metadata": {},
   "source": [
    "## Ejercicio 4\n",
    "\n",
    "Para los siguientes ejercicios, vamos a importar `numpy` y el modulo `pyplot` de `matplotlib`:"
   ]
  },
  {
   "cell_type": "code",
   "execution_count": 106,
   "id": "fee8c43b",
   "metadata": {},
   "outputs": [],
   "source": [
    "import matplotlib.pyplot as plt\n",
    "import numpy as np"
   ]
  },
  {
   "cell_type": "markdown",
   "id": "67d3e6cb",
   "metadata": {},
   "source": [
    "La convención es llamarlos `np` y `plt`, respectivamente."
   ]
  },
  {
   "cell_type": "markdown",
   "id": "6489cb25",
   "metadata": {},
   "source": [
    "### Ejercicio 4a\n",
    "\n",
    "Genere un *array* con los primeros 10 números al cuadrado, y otro con las primeras 10 potencias de 2.\n",
    "\n",
    "**Ayuda:** le puede ser útil la función `np.arange`."
   ]
  },
  {
   "cell_type": "code",
   "execution_count": 107,
   "id": "1d73a335",
   "metadata": {
    "tags": []
   },
   "outputs": [],
   "source": [
    "# Escriba el código aquí"
   ]
  },
  {
   "cell_type": "markdown",
   "id": "0b1b24e9",
   "metadata": {},
   "source": [
    "#### Solución"
   ]
  },
  {
   "cell_type": "code",
   "execution_count": 108,
   "id": "556ab4e8",
   "metadata": {
    "jupyter": {
     "source_hidden": true
    },
    "tags": [
     "hide-input"
    ]
   },
   "outputs": [
    {
     "name": "stdout",
     "output_type": "stream",
     "text": [
      "[ 0  1  4  9 16 25 36 49 64 81]\n",
      "[  1   2   4   8  16  32  64 128 256 512]\n"
     ]
    }
   ],
   "source": [
    "x = np.arange(10)\n",
    "\n",
    "print(x ** 2)\n",
    "print(2 ** x)"
   ]
  },
  {
   "cell_type": "markdown",
   "id": "311f83ce",
   "metadata": {},
   "source": [
    "### Ejercicio 4b\n",
    "\n",
    "Grafique la función $f(x) = 3 \\sin{(2x)} + 1$ en el intervalo $[-5, 5]$. Para graficar, use `plt.plot(x, y)`. Pruebe variar la cantidad de puntos que utiliza para graficar.\n",
    "\n",
    "**Ayuda**: Le puede ser útil la función `np.linspace`."
   ]
  },
  {
   "cell_type": "code",
   "execution_count": 109,
   "id": "5c4b0a00",
   "metadata": {
    "tags": []
   },
   "outputs": [],
   "source": [
    "# Escriba el código aquí"
   ]
  },
  {
   "cell_type": "markdown",
   "id": "e561ff29",
   "metadata": {},
   "source": [
    "#### Solución"
   ]
  },
  {
   "cell_type": "code",
   "execution_count": 110,
   "id": "1143ac4b",
   "metadata": {
    "jupyter": {
     "source_hidden": true
    },
    "tags": [
     "hide-input"
    ]
   },
   "outputs": [
    {
     "data": {
      "text/plain": [
       "[<matplotlib.lines.Line2D at 0x7fe6a6383eb0>]"
      ]
     },
     "execution_count": 110,
     "metadata": {},
     "output_type": "execute_result"
    },
    {
     "data": {
      "image/png": "[encoded data removed]",
      "text/plain": [
       "<Figure size 432x288 with 1 Axes>"
      ]
     },
     "metadata": {
      "filenames": {
       "image/png": "/home/runner/work/labo1/labo1/_build/jupyter_execute/python/01_python_224_1.png"
      },
      "needs_background": "light"
     },
     "output_type": "display_data"
    }
   ],
   "source": [
    "x = np.linspace(-5, 5, 100)\n",
    "y = 3 * np.sin(2 * x) + 1\n",
    "\n",
    "plt.plot(x, y)"
   ]
  },
  {
   "cell_type": "markdown",
   "id": "de9597b2",
   "metadata": {},
   "source": [
    "### Ejercicio 4c\n",
    "\n",
    "A partir de un *array* $x$ con 1000 números aleatorios con distribución gaussiana, calcule el promedio $\\bar{x}$, la desviación estándar $s$ y qué fracción de números se encuentran a menos de 1 desviación estándar del promedio: $\\bar{x} - s < x < \\bar{x} + s$ o, equivalentemente, $|x - \\bar{x}| < s$."
   ]
  },
  {
   "cell_type": "code",
   "execution_count": 111,
   "id": "96e20238",
   "metadata": {
    "tags": []
   },
   "outputs": [],
   "source": [
    "# Genera 1000 números aleatorios\n",
    "x = np.random.normal(loc=0, scale=1, size=1000)\n",
    "\n",
    "# Continue aquí la solución"
   ]
  },
  {
   "cell_type": "markdown",
   "id": "c9018298",
   "metadata": {},
   "source": [
    "#### Solución"
   ]
  },
  {
   "cell_type": "code",
   "execution_count": 112,
   "id": "79014cce",
   "metadata": {
    "jupyter": {
     "source_hidden": true
    },
    "tags": [
     "hide-input"
    ]
   },
   "outputs": [
    {
     "name": "stdout",
     "output_type": "stream",
     "text": [
      "           Promedio: -0.003285948108364629\n",
      "Desviación estándar: 0.9812743258923041\n",
      "El 68.5% de los datos se encuentran dentro de una desviación estándar del promedio.\n"
     ]
    }
   ],
   "source": [
    "x = np.random.normal(loc=0, scale=1, size=1000)\n",
    "\n",
    "promedio = x.mean()\n",
    "desv_est = x.std()\n",
    "\n",
    "mascara = np.abs(x - promedio) < desv_est\n",
    "fraccion = mascara.sum() / mascara.size  # positivos / total\n",
    "\n",
    "print(\"           Promedio:\", promedio)\n",
    "print(\"Desviación estándar:\", desv_est)\n",
    "\n",
    "print(\n",
    "    f\"El {fraccion:.1%} de los datos se encuentran \"\n",
    "    \"dentro de una desviación estándar del promedio.\"\n",
    ")"
   ]
  }
 ],
 "metadata": {
  "jupytext": {
   "cell_metadata_filter": "hide-input, hide-output, hide-cell",
   "formats": "md:myst",
   "text_representation": {
    "extension": ".md",
    "format_name": "myst",
    "format_version": 0.13,
    "jupytext_version": "1.10.3"
   }
  },
  "kernelspec": {
   "display_name": "book",
   "language": "python",
   "name": "book"
  },
  "language_info": {
   "codemirror_mode": {
    "name": "ipython",
    "version": 3
   },
   "file_extension": ".py",
   "mimetype": "text/x-python",
   "name": "python",
   "nbconvert_exporter": "python",
   "pygments_lexer": "ipython3",
   "version": "3.8.8"
  },
  "source_map": [
   14,
   36,
   40,
   52,
   58,
   62,
   66,
   83,
   89,
   93,
   99,
   103,
   111,
   123,
   127,
   131,
   135,
   139,
   143,
   147,
   151,
   157,
   159,
   163,
   169,
   173,
   175,
   179,
   183,
   199,
   204,
   208,
   212,
   219,
   223,
   227,
   231,
   236,
   242,
   247,
   263,
   265,
   269,
   282,
   294,
   302,
   306,
   325,
   331,
   335,
   339,
   347,
   351,
   355,
   361,
   365,
   369,
   375,
   379,
   387,
   394,
   400,
   402,
   406,
   408,
   412,
   416,
   420,
   426,
   430,
   434,
   438,
   442,
   448,
   452,
   460,
   467,
   471,
   475,
   479,
   483,
   495,
   499,
   503,
   507,
   524,
   528,
   532,
   536,
   556,
   560,
   564,
   569,
   573,
   578,
   584,
   588,
   592,
   609,
   619,
   624,
   630,
   634,
   650,
   654,
   668,
   672,
   676,
   680,
   684,
   690,
   696,
   702,
   724,
   726,
   730,
   734,
   742,
   747,
   762,
   766,
   770,
   776,
   780,
   784,
   788,
   792,
   796,
   800,
   804,
   808,
   812,
   816,
   822,
   826,
   830,
   840,
   845,
   859,
   865,
   871,
   877,
   881,
   889,
   897,
   901,
   905,
   909,
   911,
   915,
   919,
   925,
   936,
   940,
   954,
   962,
   966,
   970,
   974,
   978,
   982,
   986,
   990,
   1015,
   1023,
   1027,
   1031,
   1035,
   1039,
   1043,
   1049,
   1053,
   1057,
   1061,
   1065,
   1071,
   1075,
   1079,
   1085,
   1089,
   1095,
   1099,
   1107,
   1115,
   1119,
   1123,
   1127,
   1133,
   1140,
   1146,
   1152,
   1156,
   1162,
   1166,
   1170,
   1174,
   1178,
   1182,
   1196,
   1200,
   1204,
   1210,
   1214,
   1221,
   1225,
   1229,
   1233,
   1237,
   1241,
   1249,
   1255,
   1259,
   1265,
   1269,
   1273,
   1279,
   1282,
   1286,
   1294,
   1298,
   1302,
   1312,
   1320,
   1324,
   1328,
   1338,
   1344,
   1351,
   1355
  ]
 },
 "nbformat": 4,
 "nbformat_minor": 5
}